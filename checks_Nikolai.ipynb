{
 "cells": [
  {
   "cell_type": "code",
   "execution_count": 1,
   "id": "cd2d83be",
   "metadata": {},
   "outputs": [
    {
     "ename": "ModuleNotFoundError",
     "evalue": "No module named 'jb_onboarding'",
     "output_type": "error",
     "traceback": [
      "\u001b[1;31m---------------------------------------------------------------------------\u001b[0m",
      "\u001b[1;31mModuleNotFoundError\u001b[0m                       Traceback (most recent call last)",
      "Cell \u001b[1;32mIn[1], line 8\u001b[0m\n\u001b[0;32m      5\u001b[0m \u001b[38;5;28;01mfrom\u001b[39;00m \u001b[38;5;21;01mos\u001b[39;00m \u001b[38;5;28;01mimport\u001b[39;00m PathLike\n\u001b[0;32m      6\u001b[0m \u001b[38;5;28;01mfrom\u001b[39;00m \u001b[38;5;21;01mpathlib\u001b[39;00m \u001b[38;5;28;01mimport\u001b[39;00m Path\n\u001b[1;32m----> 8\u001b[0m \u001b[38;5;28;01mfrom\u001b[39;00m \u001b[38;5;21;01mjb_onboarding\u001b[39;00m\u001b[38;5;21;01m.\u001b[39;00m\u001b[38;5;21;01mconstants\u001b[39;00m \u001b[38;5;28;01mimport\u001b[39;00m DOCS\n\u001b[0;32m      9\u001b[0m \u001b[38;5;28;01mfrom\u001b[39;00m \u001b[38;5;21;01mjb_onboarding\u001b[39;00m\u001b[38;5;21;01m.\u001b[39;00m\u001b[38;5;21;01mpreprocessing\u001b[39;00m \u001b[38;5;28;01mimport\u001b[39;00m Preprocessor\n\u001b[0;32m     11\u001b[0m prep \u001b[38;5;241m=\u001b[39m Preprocessor()\n",
      "\u001b[1;31mModuleNotFoundError\u001b[0m: No module named 'jb_onboarding'"
     ]
    }
   ],
   "source": [
    "import json\n",
    "import os\n",
    "import pathlib\n",
    "import re\n",
    "from os import PathLike\n",
    "from pathlib import Path\n",
    "\n",
    "from jb_onboarding.constants import DOCS\n",
    "from jb_onboarding.preprocessing import Preprocessor\n",
    "\n",
    "prep = Preprocessor()\n",
    "\n",
    "client_id = 905\n",
    "dataset_item = \"data\\\\client_901_1000\\\\client_905.zip\"\n",
    "print(f\"Processing client {client_id}...\")\n",
    "# Open and parse the file\n",
    "client_data = prep(dataset_item)\n",
    "\n",
    "print(client_data)\n",
    "with open(f\"{client_id}.json\", \"w\") as f:\n",
    "    # Assuming client_data is a dictionary or list that can be serialized to JSON\n",
    "    json.dump(client_data, f, indent=4)\n",
    "\n",
    "\n",
    "# Placeholder for further processing of parsed data\n",
    "print(f\"Parsed data for client {client_id}: {parsed_data}\")\n",
    "\n"
   ]
  },
  {
   "cell_type": "code",
   "execution_count": null,
   "id": "c535c9f2",
   "metadata": {},
   "outputs": [],
   "source": [
    "!pip install . -e"
   ]
  },
  {
   "cell_type": "code",
   "execution_count": null,
   "id": "8f8c872b",
   "metadata": {},
   "outputs": [],
   "source": []
  }
 ],
 "metadata": {
  "kernelspec": {
   "display_name": "Python 3",
   "language": "python",
   "name": "python3"
  },
  "language_info": {
   "codemirror_mode": {
    "name": "ipython",
    "version": 3
   },
   "file_extension": ".py",
   "mimetype": "text/x-python",
   "name": "python",
   "nbconvert_exporter": "python",
   "pygments_lexer": "ipython3",
   "version": "3.12.2"
  }
 },
 "nbformat": 4,
 "nbformat_minor": 5
}
