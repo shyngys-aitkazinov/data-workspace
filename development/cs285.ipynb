{
 "cells": [
  {
   "cell_type": "code",
   "execution_count": null,
   "metadata": {},
   "outputs": [
    {
     "name": "stdout",
     "output_type": "stream",
     "text": [
      "x, shape=(6,):\n",
      "[1 2 3 4 5 6]\n",
      "\n",
      "y, shape=(2, 3):\n",
      "[[8 0 7]\n",
      " [3 0 1]]\n",
      "\n",
      "z, shape=(3, 2, 3):\n",
      "[[[0.1764158  0.60764739 0.32810221]\n",
      "  [0.05978722 0.40234914 0.42691277]]\n",
      "\n",
      " [[0.25252425 0.4802596  0.18932591]\n",
      "  [0.64584886 0.49238587 0.90207009]]\n",
      "\n",
      " [[0.87186917 0.13873923 0.09208739]\n",
      "  [0.71436338 0.42898068 0.81689851]]]\n",
      "\n"
     ]
    }
   ],
   "source": [
    "#@title imports and define `plot`\n",
    "%load_ext autoreload\n",
    "%autoreload 2\n",
    "\n",
    "import matplotlib.pyplot as plt\n",
    "import torch\n",
    "import numpy as np\n",
    "\n",
    "import torch\n",
    "import torch.nn as nn\n",
    "import torch.optim as optim\n",
    "import torch.distributions as distributions\n",
    "import torch.nn.functional as F\n",
    "\n",
    "def plot(xs, ys, xlim=(-3, 3), ylim=(-3, 3)):\n",
    "  fig, ax = plt.subplots()\n",
    "  ax.plot(xs, ys, linewidth=5)\n",
    "  # ax.set_aspect('equal')\n",
    "  ax.grid(True, which='both')\n",
    "  \n",
    "  ax.axhline(y=0, color='k')\n",
    "  ax.axvline(x=0, color='k')\n",
    "  ax.set_xlim(*xlim)\n",
    "  ax.set_ylim(*ylim)\n",
    "\n",
    "x = np.array([1, 2, 3, 4, 5, 6])\n",
    "y = np.array([[8, 0, 7], [3, 0, 1]])\n",
    "z = np.random.rand(3, 2, 3)\n",
    "print(f\"x, shape={x.shape}:\\n{x}\\n\")\n",
    "print(f\"y, shape={y.shape}:\\n{y}\\n\")\n",
    "print(f\"z, shape={z.shape}:\\n{z}\\n\")"
   ]
  },
  {
   "cell_type": "code",
   "execution_count": null,
   "metadata": {},
   "outputs": [
    {
     "name": "stdout",
     "output_type": "stream",
     "text": [
      "[[ 1  2  3  4  5]\n",
      " [ 6  7  8  9 10]\n",
      " [11 12 13 14 15]\n",
      " [16 17 18 19 20]]\n",
      "\n",
      "[14 19]\n"
     ]
    }
   ],
   "source": [
    "x = np.arange(1, 21, 1).reshape(4, 5)\n",
    "print(x)\n",
    "print()\n",
    "# print(x[2]) # Single index\n",
    "# print(x[2, 3]) # Indices for multiple dimensions\n",
    "print(x[2:4, 3]) # Combining integer index and slice"
   ]
  },
  {
   "cell_type": "code",
   "execution_count": null,
   "metadata": {},
   "outputs": [
    {
     "name": "stdout",
     "output_type": "stream",
     "text": [
      "[[1. 1. 1.]\n",
      " [1. 1. 1.]]\n",
      "+\n",
      "[[8 0 7]\n",
      " [3 0 1]]\n",
      "=\n",
      "[[9. 1. 8.]\n",
      " [4. 1. 2.]]\n"
     ]
    }
   ],
   "source": [
    "a = np.ones((2, 3))\n",
    "print(a)\n",
    "print(\"+\")\n",
    "print(y)\n",
    "print(\"=\")\n",
    "print(a + y)"
   ]
  },
  {
   "cell_type": "code",
   "execution_count": null,
   "metadata": {},
   "outputs": [
    {
     "name": "stdout",
     "output_type": "stream",
     "text": [
      "[6 0 3 8 7 4 8 9 0 1]\n",
      "[[1]\n",
      " [2]\n",
      " [2]\n",
      " [2]\n",
      " [7]\n",
      " [5]\n",
      " [5]\n",
      " [3]\n",
      " [8]\n",
      " [9]]\n",
      "(10, 1)\n",
      "(10,)\n",
      "(10,)\n"
     ]
    }
   ],
   "source": [
    "# These two are different things!\n",
    "x = np.random.randint(10, size=(10,))\n",
    "y = np.random.randint(10, size=(10, 1))\n",
    "print(x)\n",
    "print(y)\n",
    "\n",
    "# Removing axis/axes from an array\n",
    "print(y.shape)\n",
    "print(y.reshape(10).shape)\n",
    "print(y.squeeze().shape)"
   ]
  },
  {
   "cell_type": "code",
   "execution_count": null,
   "metadata": {},
   "outputs": [
    {
     "name": "stdout",
     "output_type": "stream",
     "text": [
      "(10,)\n",
      "(10, 1)\n",
      "(1, 10, 1)\n"
     ]
    }
   ],
   "source": [
    "# Adding axis/axes to an array\n",
    "print(x.shape)\n",
    "# print(x.reshape(-1, 1).shape)\n",
    "print(x[:, np.newaxis].shape)\n",
    "print(x[None,:, None].shape) # Same as above, but not as readable"
   ]
  },
  {
   "cell_type": "code",
   "execution_count": null,
   "metadata": {},
   "outputs": [
    {
     "name": "stdout",
     "output_type": "stream",
     "text": [
      "(10, 4, 2, 7, 8, 9)\n",
      "(10, 1, 4, 1, 2, 7, 8, 9)\n",
      "(10, 1, 4, 1, 2, 7, 8, 9)\n"
     ]
    }
   ],
   "source": [
    "b = np.random.randint(10, size=(10, 4, 2, 7, 8, 9))\n",
    "print(b.shape)\n",
    "print(b.reshape(10, 1, 4, 1, 2, 7, 8, 9).shape)\n",
    "print(b[:, np.newaxis, :, np.newaxis, ...].shape) # ... means \"rest of dimensions\""
   ]
  },
  {
   "cell_type": "code",
   "execution_count": null,
   "metadata": {},
   "outputs": [
    {
     "name": "stdout",
     "output_type": "stream",
     "text": [
      "[[0]\n",
      " [0]\n",
      " [5]\n",
      " [2]\n",
      " [1]]\n",
      "*\n",
      "[0 0 5 2 1]\n",
      "=\n",
      "[[ 0  0  0  0  0]\n",
      " [ 0  0  0  0  0]\n",
      " [ 0  0 25 10  5]\n",
      " [ 0  0 10  4  2]\n",
      " [ 0  0  5  2  1]]\n"
     ]
    }
   ],
   "source": [
    "matrix = np.random.randint(10, size=(5, 5))\n",
    "row_vec = np.random.randint(10, size=(5,))\n",
    "col_vec = row_vec.reshape(5, 1)\n",
    "\n",
    "# Outer product\n",
    "print(col_vec)\n",
    "print(\"*\")\n",
    "print(row_vec)\n",
    "print(\"=\")\n",
    "print(col_vec * row_vec)"
   ]
  },
  {
   "cell_type": "code",
   "execution_count": null,
   "metadata": {},
   "outputs": [
    {
     "name": "stdout",
     "output_type": "stream",
     "text": [
      "[0 0 5 2 1]\n",
      "@\n",
      "[[0]\n",
      " [0]\n",
      " [5]\n",
      " [2]\n",
      " [1]]\n",
      "=\n",
      "[30]\n"
     ]
    }
   ],
   "source": [
    "# Dot product\n",
    "print(row_vec)\n",
    "print(\"@\")\n",
    "print(col_vec)\n",
    "print(\"=\")\n",
    "# print(row_vec @ col_vec) # Result will be a shape (1,) array\n",
    "# print(row_vec.dot(col_vec).squeeze()) # Same as above\n",
    "print(row_vec @ col_vec) # Works on arrays with same shape too (to get scalar)"
   ]
  },
  {
   "cell_type": "code",
   "execution_count": null,
   "metadata": {},
   "outputs": [],
   "source": [
    "import torch"
   ]
  },
  {
   "cell_type": "code",
   "execution_count": null,
   "metadata": {},
   "outputs": [
    {
     "ename": "NameError",
     "evalue": "name 'torch' is not defined",
     "output_type": "error",
     "traceback": [
      "\u001b[0;31m---------------------------------------------------------------------------\u001b[0m\n",
      "\u001b[0;31mNameError\u001b[0m                                 Traceback (most recent call last)\n",
      "Cell \u001b[0;32mIn[15], line 1\u001b[0m\n",
      "\u001b[0;32m----> 1\u001b[0m x \u001b[38;5;241m=\u001b[39m \u001b[43mtorch\u001b[49m\u001b[38;5;241m.\u001b[39mones((\u001b[38;5;241m3\u001b[39m, \u001b[38;5;241m1\u001b[39m))\n",
      "\u001b[1;32m      2\u001b[0m y \u001b[38;5;241m=\u001b[39m torch\u001b[38;5;241m.\u001b[39mones((\u001b[38;5;241m1\u001b[39m, \u001b[38;5;241m3\u001b[39m))\n",
      "\u001b[1;32m      3\u001b[0m z \u001b[38;5;241m=\u001b[39m x \u001b[38;5;241m+\u001b[39m y\n",
      "\n",
      "\u001b[0;31mNameError\u001b[0m: name 'torch' is not defined"
     ]
    }
   ],
   "source": [
    "x = torch.ones((3, 1))\n",
    "y = torch.ones((1, 3))\n",
    "z = x + y\n",
    "\n",
    "print(x)\n",
    "print(\"+\")\n",
    "print(y)\n",
    "print(\"=\")\n",
    "print(z)"
   ]
  },
  {
   "cell_type": "code",
   "execution_count": null,
   "metadata": {},
   "outputs": [
    {
     "data": {
      "text/plain": [
       "tensor([[3.2000, 3.2000],\n",
       "        [3.2000, 3.2000],\n",
       "        [3.2000, 3.2000]])"
      ]
     },
     "metadata": {},
     "output_type": "display_data"
    }
   ],
   "source": [
    "e = torch.empty((3,2))\n",
    "torch.fill(e, 3.2)"
   ]
  },
  {
   "cell_type": "code",
   "execution_count": null,
   "metadata": {},
   "outputs": [
    {
     "data": {
      "image/png": "[encoded data removed]",
      "text/plain": [
       "<Figure size 640x480 with 1 Axes>"
      ]
     },
     "metadata": {},
     "output_type": "display_data"
    },
    {
     "data": {
      "image/png": "[encoded data removed]",
      "text/plain": [
       "<Figure size 640x480 with 1 Axes>"
      ]
     },
     "metadata": {},
     "output_type": "display_data"
    },
    {
     "data": {
      "image/png": "[encoded data removed]",
      "text/plain": [
       "<Figure size 640x480 with 1 Axes>"
      ]
     },
     "metadata": {},
     "output_type": "display_data"
    },
    {
     "data": {
      "image/png": "[encoded data removed]",
      "text/plain": [
       "<Figure size 640x480 with 1 Axes>"
      ]
     },
     "metadata": {},
     "output_type": "display_data"
    }
   ],
   "source": [
    "# Activation functions\n",
    "xs = torch.linspace(-3, 3, 100)\n",
    "ys = torch.relu(xs)\n",
    "plot(xs.numpy(), ys.numpy())\n",
    "ys = torch.sigmoid(xs)\n",
    "plot(xs.numpy(), ys.numpy())\n",
    "ys = torch.tanh(xs)\n",
    "plot(xs.numpy(), ys.numpy())\n",
    "\n",
    "ys = F.leaky_relu(xs, 0.2)\n",
    "plot(xs.numpy(), ys.numpy())"
   ]
  },
  {
   "cell_type": "code",
   "execution_count": null,
   "metadata": {},
   "outputs": [],
   "source": [
    "e.requires_grad =  True"
   ]
  },
  {
   "cell_type": "code",
   "execution_count": null,
   "metadata": {},
   "outputs": [
    {
     "data": {
      "text/plain": [
       "tensor([[0., 1.],\n",
       "        [1., 0.],\n",
       "        [1., 1.]], grad_fn=<NotImplemented>)"
      ]
     },
     "metadata": {},
     "output_type": "display_data"
    }
   ],
   "source": [
    "e.bernoulli(0.5)"
   ]
  },
  {
   "cell_type": "code",
   "execution_count": null,
   "metadata": {},
   "outputs": [],
   "source": []
  },
  {
   "cell_type": "code",
   "execution_count": null,
   "metadata": {},
   "outputs": [],
   "source": []
  }
 ],
 "metadata": {
  "language_info": {
   "name": "python"
  }
 },
 "nbformat": 4,
 "nbformat_minor": 2
}
