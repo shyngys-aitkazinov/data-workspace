{
 "cells": [
  {
   "cell_type": "code",
   "execution_count": null,
   "metadata": {},
   "outputs": [],
   "source": [
    "import nltk\n",
    "from nltk import bigrams, trigrams, WhitespaceTokenizer\n",
    "from nltk.probability import FreqDist\n",
    "from nltk.corpus import gutenberg\n",
    "\n",
    "text = \"This is a sample sentence to tokenize.\"\n",
    "\n",
    "# tokenize by whitespace\n",
    "tokenizer = WhitespaceTokenizer()\n",
    "tokenizer.tokenize(text)"
   ]
  },
  {
   "cell_type": "code",
   "execution_count": null,
   "metadata": {},
   "outputs": [],
   "source": [
    "# download some text\n",
    "nltk.download('gutenberg')\n",
    "nltk.download('punkt')\n",
    "corpus = gutenberg.raw('shakespeare-hamlet.txt') # use some shakespeare text\n",
    "corpus[0:200]"
   ]
  },
  {
   "cell_type": "code",
   "execution_count": null,
   "metadata": {},
   "outputs": [],
   "source": [
    "corpus"
   ]
  },
  {
   "cell_type": "code",
   "execution_count": null,
   "metadata": {},
   "outputs": [],
   "source": [
    "# tokenize the lowered corpus\n",
    "raw_tokens = tokenizer.tokenize(corpus.lower())"
   ]
  },
  {
   "cell_type": "code",
   "execution_count": null,
   "metadata": {},
   "outputs": [],
   "source": [
    "# manually add EOS to the tokens\n",
    "tokens = []\n",
    "for token in raw_tokens:\n",
    "    tokens.append(token)\n",
    "    if token[-1] == '.': # add EOS after each token that ends with a full stop\n",
    "        tokens.append('<EOS>')"
   ]
  },
  {
   "cell_type": "code",
   "execution_count": null,
   "metadata": {},
   "outputs": [],
   "source": [
    "# create unigrams, bigrams and trigrams\n",
    "unigram_model = FreqDist(tokens)\n",
    "bigram_model = FreqDist(bigrams(tokens))\n",
    "trigram_model = FreqDist(trigrams(tokens))"
   ]
  },
  {
   "cell_type": "code",
   "execution_count": null,
   "metadata": {},
   "outputs": [],
   "source": [
    "unigram_model"
   ]
  },
  {
   "cell_type": "code",
   "execution_count": null,
   "metadata": {},
   "outputs": [],
   "source": [
    "bigram_model"
   ]
  },
  {
   "cell_type": "code",
   "execution_count": null,
   "metadata": {},
   "outputs": [],
   "source": [
    "trigram_model"
   ]
  },
  {
   "cell_type": "code",
   "execution_count": null,
   "metadata": {},
   "outputs": [],
   "source": [
    "bigram_model['my','lord']"
   ]
  },
  {
   "cell_type": "code",
   "execution_count": null,
   "metadata": {},
   "outputs": [],
   "source": [
    "#useful functions\n",
    "def unigram_probability(word):\n",
    "    return unigram_model.freq(word) # frequency\n",
    "\n",
    "def bigram_probability(prev_word, word):\n",
    "    if (prev_word == '<EOS>') or (prev_word not in unigram_model):\n",
    "        return 0\n",
    "    return bigram_model[prev_word,word] / unigram_model[prev_word] # relative frequency\n",
    "\n",
    "def trigram_probability(prev_word1, prev_word2, word):\n",
    "    if (prev_word2 == '<EOS>') or ((prev_word1, prev_word2) not in bigram_model):\n",
    "        return 0\n",
    "    return trigram_model[prev_word1, prev_word2, word] / bigram_model[(prev_word1, prev_word2)] # relative frequency\n",
    "\n",
    "def string_probability(string, tokenizer): # with the bigrams\n",
    "    tokens = tokenizer.tokenize(string)\n",
    "    prob = 1.0\n",
    "    for i in range(len(tokens) - 1):\n",
    "        prob *= bigram_probability(tokens[i], tokens[i+1])\n",
    "    return prob\n",
    "\n",
    "def generate_text(starting_word, length=5): # with the bigrams\n",
    "    generated_text = [starting_word]\n",
    "    current_word = starting_word\n",
    "\n",
    "    for _ in range(length - 1):\n",
    "        next_word = max(unigram_model, key = lambda word: bigram_probability(current_word, word))\n",
    "        generated_text.append(next_word)\n",
    "        current_word = next_word\n",
    "\n",
    "    return ' '.join(generated_text)"
   ]
  },
  {
   "cell_type": "code",
   "execution_count": null,
   "metadata": {},
   "outputs": [],
   "source": [
    "# examples\n",
    "print(\"Unigram Probability of 'lord':\", unigram_probability('lord'))\n",
    "print(\"Bigram Probability of 'my lord':\", bigram_probability('my', 'lord'))\n",
    "print(\"Trigram Probability of 'good my lord':\", trigram_probability('good', 'my', 'lord'))"
   ]
  },
  {
   "cell_type": "code",
   "execution_count": null,
   "metadata": {},
   "outputs": [],
   "source": [
    "input_string = \"you are the king\"\n",
    "print(\"Bigram Probability of '{}': {}\".format(input_string, string_probability(input_string, tokenizer)))\n",
    "input_string = \"you are the king.\"\n",
    "print(\"Bigram Probability of '{}': {}\".format(input_string, string_probability(input_string, tokenizer)))"
   ]
  },
  {
   "cell_type": "code",
   "execution_count": null,
   "metadata": {},
   "outputs": [],
   "source": [
    "print(\"Generated Text:\", generate_text('you', length=6))"
   ]
  }
 ],
 "metadata": {
  "language_info": {
   "name": "python"
  }
 },
 "nbformat": 4,
 "nbformat_minor": 2
}
