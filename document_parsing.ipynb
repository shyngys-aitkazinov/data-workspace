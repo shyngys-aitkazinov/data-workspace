{
 "cells": [
  {
   "cell_type": "markdown",
   "metadata": {},
   "source": [
    "# Profile"
   ]
  },
  {
   "cell_type": "markdown",
   "metadata": {},
   "source": [
    "# Account"
   ]
  },
  {
   "cell_type": "code",
   "execution_count": null,
   "metadata": {},
   "outputs": [],
   "source": [
    "%load_ext autoreload\n",
    "%autoreload 2"
   ]
  },
  {
   "cell_type": "code",
   "execution_count": 1,
   "metadata": {},
   "outputs": [
    {
     "name": "stderr",
     "output_type": "stream",
     "text": [
      "/Users/shyngys/personal/data-workspace/.venv/lib/python3.10/site-packages/tqdm/auto.py:21: TqdmWarning: IProgress not found. Please update jupyter and ipywidgets. See https://ipywidgets.readthedocs.io/en/stable/user_install.html\n",
      "  from .autonotebook import tqdm as notebook_tqdm\n"
     ]
    }
   ],
   "source": [
    "import json\n",
    "import os\n",
    "import pathlib\n",
    "import re\n",
    "from os import PathLike\n",
    "from pathlib import Path\n",
    "\n",
    "from jb_onboarding.constants import DOCS\n",
    "from jb_onboarding.preprocessing import Preprocessor\n",
    "\n",
    "DATA_PATH = Path(os.path.join(\".\", \"data\")).absolute()\n",
    "\n",
    "\n",
    "def get_dataset(data_path: PathLike) -> list[tuple[int, pathlib.Path]]:\n",
    "    \"\"\"\n",
    "    Get the dataset of client data.\n",
    "\n",
    "    Scans `data_path` recursively for .zip files named in the format\n",
    "    'client_<number>.zip'. Extracts the <number> and returns a list of\n",
    "    tuples (client_number, file_path).\n",
    "\n",
    "    Args:\n",
    "        data_path (PathLike): Path to the dataset.\n",
    "\n",
    "    Returns:\n",
    "        List[Tuple[int, pathlib.Path]]: List of tuples where the first\n",
    "        element is the client number (int) and the second is the\n",
    "        zip file path (pathlib.Path).\n",
    "    \"\"\"\n",
    "    if not os.path.exists(data_path):\n",
    "        raise FileNotFoundError(f\"Dataset path {data_path} does not exist.\")\n",
    "\n",
    "    paths = []\n",
    "    # Regex to match files named like \"client_1234.zip\" and capture the integer part\n",
    "    pattern = re.compile(r\"^client_(\\d+)\\.zip$\")\n",
    "\n",
    "    for root_dir, _, files in os.walk(data_path):\n",
    "        for file in files:\n",
    "            if file.endswith(\".zip\"):\n",
    "                # Attempt to extract the client number from the filename\n",
    "                match = pattern.match(file)\n",
    "                if match:\n",
    "                    client_number = int(match.group(1))\n",
    "                    file_path = pathlib.Path(root_dir) / file\n",
    "                    paths.append((client_number, file_path))\n",
    "                # If filenames might vary, you could handle that here,\n",
    "                # e.g. continue, log a warning, etc.\n",
    "\n",
    "    return sorted(paths)\n"
   ]
  },
  {
   "cell_type": "code",
   "execution_count": null,
   "metadata": {},
   "outputs": [
    {
     "name": "stdout",
     "output_type": "stream",
     "text": [
      "Dataset collected: 2964 files.\n"
     ]
    },
    {
     "name": "stderr",
     "output_type": "stream",
     "text": [
      "/Users/shyngys/personal/data-workspace/.venv/lib/python3.10/site-packages/timm/models/layers/__init__.py:48: FutureWarning: Importing from timm.models.layers is deprecated, please import via timm.layers\n",
      "  warnings.warn(f\"Importing from {__name__} is deprecated, please import via timm.layers\", FutureWarning)\n",
      "Sliding Window Attention is enabled but not implemented for `eager`; unexpected results may be encountered.\n"
     ]
    },
    {
     "name": "stdout",
     "output_type": "stream",
     "text": [
      "FlashAttention2 is not installed.\n"
     ]
    }
   ],
   "source": [
    "dataset = get_dataset(DATA_PATH)\n",
    "print(f\"Dataset collected: {len(dataset)} files.\")\n",
    "\n",
    "prep = Preprocessor()\n"
   ]
  },
  {
   "cell_type": "code",
   "execution_count": 163,
   "metadata": {},
   "outputs": [
    {
     "name": "stdout",
     "output_type": "stream",
     "text": [
      "/Users/shyngys/personal/data-workspace/data/client_1501_1700/client_1524.zip\n"
     ]
    },
    {
     "name": "stderr",
     "output_type": "stream",
     "text": [
      "Setting `pad_token_id` to `eos_token_id`:151645 for open-end generation.\n"
     ]
    }
   ],
   "source": [
    "print(dataset[1523][1])\n",
    "client_data = prep(dataset[1523][1])"
   ]
  },
  {
   "cell_type": "code",
   "execution_count": 132,
   "metadata": {},
   "outputs": [
    {
     "data": {
      "text/plain": [
       "{'profile': {'Default': {},\n",
       "  'Client Information': {'Last Name': 'Reiter',\n",
       "   'First/ Middle Name (s)': 'Marcel Paul',\n",
       "   'Address': 'Enzersdorfer Straße 28, 4503 Bruck an der Mur',\n",
       "   'Country of Domicile': 'Austria',\n",
       "   'Date of birth': '1986-05-15',\n",
       "   'Nationality': 'Austrian',\n",
       "   'Passport No/ Unique ID': 'YK6562036',\n",
       "   'ID Type': 'passport',\n",
       "   'ID Issue Date': '2017-07-01',\n",
       "   'ID Expiry Date': '2027-06-30',\n",
       "   'Gender': {'options': ['Female', 'Male'], 'selected': ['Male']}},\n",
       "  'Account Holder – Contact Management and Services – Contact Info': {'Communication Medium': 'Telephone +43 695 185 2842',\n",
       "   None: 'E-Mail marcel.reiter@hotmail.com'},\n",
       "  'Account Holder – Personal Info': {'Is the client or associated person a Politically Exposed Person as defined in the Client Acceptance Policy?': [{'options': ['No',\n",
       "      'Yes'],\n",
       "     'selected': ['No']},\n",
       "    'If ‘Yes’, please complete the Approval Form (PEP) and ensure that appropriate approvals are obtained'],\n",
       "   'Marital Status': [{'options': ['Divorced', 'Married', 'Single', 'Widowed'],\n",
       "     'selected': ['Married']},\n",
       "    'Fill out in case of a private individual'],\n",
       "   'Highest education attained': 'Tertiary',\n",
       "   'Education History': 'Graz University of Technology (2011)'},\n",
       "  'Account Holder – Professional and Economic Background – Business': {'Current employment and function': [{'options': ['Employee Since 2015'],\n",
       "     'selected': ['Employee Since 2015']},\n",
       "    'Name Employer RAG Rohol-Aufsuchungs AG',\n",
       "    ['Position Reservoir Engineer (54000 EUR p.A.)',\n",
       "     'including annual income and namecard'],\n",
       "    {'options': ['Self-Employed Since'], 'selected': []},\n",
       "    'Company Name',\n",
       "    '% of ownership'],\n",
       "   None: [{'options': ['Currently not employed Since'], 'selected': []},\n",
       "    'Previous Profession:',\n",
       "    {'options': ['Retired Since'], 'selected': []},\n",
       "    'Previous Profession:',\n",
       "    {'options': ['Homemaker/housewife Since'], 'selected': []},\n",
       "    'Previous Profession:',\n",
       "    {'options': ['Student Since Country of study:'], 'selected': []},\n",
       "    'Previous Profession:',\n",
       "    {'options': ['Diplomat Since Home country of diplomatic mission:'],\n",
       "     'selected': []},\n",
       "    'Previous Profession:',\n",
       "    {'options': ['Military representative Since Home country of military establishment:'],\n",
       "     'selected': []},\n",
       "    'Previous Profession:',\n",
       "    {'options': ['Other Since'], 'selected': []},\n",
       "    'Previous Profession:',\n",
       "    {'options': ['Unknown'], 'selected': []}]},\n",
       "  'Account Holder – Professional and Economic Background – Wealth': {'Total wealth estimated': [{'options': ['< EUR 1.5m',\n",
       "      'EUR 1.5m-5m',\n",
       "      'EUR 5m-10m',\n",
       "      'EUR 10m.-20m',\n",
       "      'EUR 20m.-50m',\n",
       "      '> EUR 50m'],\n",
       "     'selected': ['EUR 1.5m-5m']},\n",
       "    'Origin of wealth: - Profit from business/ professional income - Inheritance (describe the relationship, the year in which assets were inherited and a brief description of business/ professional activities of the person whom client has inherited assets from) - Others (e.g. sale of assets – to provide material evidence on the transaction)'],\n",
       "   'Source of information': 'Origin of wealth: - Profit from business/ professional income - Inheritance (describe the relationship, the year in which assets were inherited and a brief description of business/ professional activities of the person whom client has inherited assets from) - Others (e.g. sale of assets – to provide material evidence on the transaction)',\n",
       "   'Origin of wealth ☒ Employment ☒ Inheritance ☐ Business ☐ Investments ☐ Sale of real estate ☐ Retirement package ☐ Other': ['Origin of wealth: - Profit from business/ professional income - Inheritance (describe the relationship, the year in which assets were inherited and a brief description of business/ professional activities of the person whom client has inherited assets from) - Others (e.g. sale of assets – to provide material evidence on the transaction)',\n",
       "    ['grandmother,2016,Hedge Fund Manager',\n",
       "     'Origin of wealth: - Profit from business/ professional income - Inheritance (describe the relationship, the year in which assets were inherited and a brief description of business/ professional activities of the person whom client has inherited assets from) - Others (e.g. sale of assets – to provide material evidence on the transaction)'],\n",
       "    'Origin of wealth: - Profit from business/ professional income - Inheritance (describe the relationship, the year in which assets were inherited and a brief description of business/ professional activities of the person whom client has inherited assets from) - Others (e.g. sale of assets – to provide material evidence on the transaction)',\n",
       "    'Origin of wealth: - Profit from business/ professional income - Inheritance (describe the relationship, the year in which assets were inherited and a brief description of business/ professional activities of the person whom client has inherited assets from) - Others (e.g. sale of assets – to provide material evidence on the transaction)'],\n",
       "   'Estimated Assets': [{'options': ['Real Estate EUR 1558000',\n",
       "      'Business EUR 70000',\n",
       "      'Investments EUR 0',\n",
       "      'Deposits/ MM/ Fiduciary EUR 0',\n",
       "      'Equity EUR 0',\n",
       "      'Fixed Income EUR 0',\n",
       "      'Structured Products EUR 0',\n",
       "      'Alternative Investments EUR 0',\n",
       "      'Investment Funds EUR 0',\n",
       "      'Insurance EUR 0',\n",
       "      'Other investments (e.g., art, wine, cars) EUR 0'],\n",
       "     'selected': ['Real Estate EUR 1558000', 'Business EUR 70000']},\n",
       "    'Origin of wealth: - Profit from business/ professional income - Inheritance (describe the relationship, the year in which assets were inherited and a brief description of business/ professional activities of the person whom client has inherited assets from) - Others (e.g. sale of assets – to provide material evidence on the transaction)']},\n",
       "  'Account Holder – Professional and Economic Background – Income, Expenditures and Savings': {'Estimated Total income p.a.': [{'options': ['< EUR 250,000',\n",
       "      'EUR 250,000 - 500,000',\n",
       "      'EUR 500,000 – 1m',\n",
       "      '> EUR 1m, please state'],\n",
       "     'selected': ['< EUR 250,000']},\n",
       "    'including dividends, interests and investment income'],\n",
       "   'Country of main source of income': 'Austria'},\n",
       "  'Account Information': {'Commercial Account': {'options': ['Yes', 'No'],\n",
       "    'selected': ['No']},\n",
       "   'Investment Risk Profile': {'options': ['Low',\n",
       "     'Moderate',\n",
       "     'Considerable',\n",
       "     'High'],\n",
       "    'selected': ['Low']},\n",
       "   'Type of Mandate': {'options': ['Advisory', 'Discretionary'],\n",
       "    'selected': ['Advisory']},\n",
       "   'Investment Experience': {'options': ['Inexperienced',\n",
       "     'Experienced',\n",
       "     'Expert'],\n",
       "    'selected': ['Experienced']},\n",
       "   'Investment Horizon': {'options': ['Short', 'Medium', 'Long-Term'],\n",
       "    'selected': ['Short']},\n",
       "   'Preferred Markets': 'Austria, Portugal'},\n",
       "  'Account Information – Asset Under Management': {'Total Asset Under Management': '1858000',\n",
       "   'Asset Under Management to transfer to BJB': '1226280'}},\n",
       " 'passport': {'Surname': 'REITER',\n",
       "  'Code': 'AUT',\n",
       "  'Passport Number': 'YK6562036',\n",
       "  'Given Name': 'MARCEL PAUL',\n",
       "  'Birth Date': '15-May-1986',\n",
       "  'Citizenship': 'Austrian/OSTERREICH',\n",
       "  'Sex': 'M',\n",
       "  'Issue Date': '01-Jul-2017',\n",
       "  'Expiry Date': '30-Jun-2027',\n",
       "  'MRZ Line 1': 'P<ATREITER<MARCEL PAUL',\n",
       "  'MRZ Line 2': 'YK6562036AUT680515',\n",
       "  'Signature': '+ujo+ujo+ujo+ujo+ujo+ujo+ujo+ujo+ujo+ujo+ujo+ujo+ujo+ujo+ujo+ujo+ujo+ujo+ujo+ujo+ujo+ujo+ujo+ujo+ujo+ujo+ujo+ujo+ujo+ujo+ujo+ujo+ujo+ujo+ujo+ujo+ujo+ujo+ujo+ujo+ujo+ujo+ujo+ujo+ujo+ujo+ujo+ujo+ujo+ujo+ujo+ujo+ujo+ujo+ujo+ujo+ujo+ujo+ujo+ujo+ujo+ujo+ujo+ujo+ujo+ujo+ujo+ujo+ujo+ujo+ujo+ujo+ujo+ujo+ujo+ujo+ujo+ujo+ujo+ujo+ujo+ujo+ujo+ujo+ujo+ujo+ujo+ujo+ujo+ujo+ujo+ujo+ujo+ujo+ujo+ujo+ujo+ujo+ujo+ujo+ujo+ujo+ujo+ujo+ujo+ujo+ujo+ujo+ujo+ujo+ujo+ujo+ujo+ujo+ujo+ujo+ujo+ujo+ujo+ujo+ujo+ujo+ujo+ujo+ujo+ujo+ujo+ujo+ujo+ujo+ujo+ujo+ujo+ujo+ujo+ujo+ujo+ujo+ujo+ujo+ujo+ujo+ujo+ujo+ujo+ujo+ujo4dDQPDc3FxUV4dDQgHd3EA8PenFx49PTPDc3EhAQxLa2+ujo+ujo+ujo+ujo+ujo+ujo+ujo+ujo+ujo+ujo+ujo+ujo+ujo+ujo+ujo+ujo6dnZKygoc2pq+ujo+ujo+ujo+ujo+ujo+ujo+ujo+ujo+ujo+ujo+ujo+ujo+ujo+ujo+ujo+ujo+ujo+ujo+ujo+ujo+ujo+ujo+ujo+ujo+ujo+ujo+ujo+ujo+ujo+ujo+ujo+ujo+ujo+ujo+ujo+ujo+ujo+ujo+ujo+ujo+ujo+ujo+ujo+ujo+ujo+ujo+ujo+ujo+ujo+ujo+ujo+ujo+ujo+ujo+ujo+ujo+ujo+ujo+ujo+ujo+ujo+ujo+ujo+ujo+ujo+ujo+ujo+ujo+ujo+ujo+ujo+ujo+ujo+ujo+ujo+ujo+ujo+ujo+ujo+ujo+ujo+ujo+ujo+ujo+ujo+ujo+ujo+ujo+ujo+ujoPzo6oZWVGxkZcWlpU01NlImJGRgYW1VVp5ubKicncGho+ujo+ujo+ujo+ujo+ujo+ujo+ujo+ujo+ujo+ujo+ujo+ujo+ujo+ujo+ujo+ujofXR0Zl9fKicn+ujo+ujo+ujot6qqODQ0CgkJGhkZjIKC+ujo+ujo+ujo+ujo+ujo+ujo+ujo+ujo9uTkS0ZGVU9P+ujo+ujo+ujo+ujo+ujo+ujo+ujo+ujo+ujo+ujo+ujo+ujo+ujo+ujo+ujo+ujo+ujo+ujo+ujo+ujo+ujo+ujo+ujo+ujo+ujo+ujo+ujo+ujo+ujo+ujo+ujo+ujo+ujo+ujo+ujo+ujo+ujo+ujo+ujo+ujo+ujo+ujo+ujo+ujo+ujo+ujo+ujo+ujo+ujo+ujo+ujo+ujo+ujo+ujo+ujo+ujo+ujo+ujo+ujo+ujo+ujo+ujo+ujo+ujo+ujo+ujo+ujo+ujo+ujo+ujo+ujoqZyc+ujoHx0dKicn6tnZxri4DAsLa2Nj+ujoPDc3eG9v+ujo+ujo+ujo+ujo+ujo+ujo+ujo+ujo+ujo+ujo+ujo+ujo+ujo+ujo+ujo+ujoIyEhxri4NTEx+ujo+ujosKSkGxkZmo+Py7y8dWxsAAAA0cLC+ujo+ujo+ujo+ujo+ujo+ujo+ujomI2NWlRUIyEh+ujo+ujo+ujo+ujo+ujo+ujo+ujo+ujo+ujo+ujo+ujo+ujo+ujo+ujo+ujo+ujo+ujo+ujo+ujo+ujo+ujo+ujo+ujo+ujo+ujo+ujo+ujo+ujo+ujo+ujo+ujo+ujo+ujo+ujo+ujo+ujo+ujo+ujo+ujo+ujo+ujo+ujo+ujo+ujo+ujo+ujo+ujo+ujo+ujo+ujo+ujo+ujo+ujo+ujo+ujo+ujo+ujo+ujo+ujo+ujo+ujo+ujo+ujo+ujo+ujo+ujo+ujo+ujo+ujo+ujo+ujo+ujo+efnBwYGYFlZ+ujoq56eAAAAxLa2+ujoFBISnJGR+ujo+ujo+ujo+ujo+ujo+ujo+ujo+ujo+ujo+ujo+ujo+ujo+ujo+ujo+ujo4dHRFBISwbOzX1hY+ujo+ObmIB4ew7W1OTU1lImJ2srKAAAAxri4+ujo+ujo+ujo+ujo8N/fGhkZrqGhQz4+nZKSS0VF+ujo+ujo+ujo+ujo+ujo+ujo+ujo+ujo+ujo+ujo+ujo+ujo+ujo+ujo+ujo+ujo+ujo+ujo+ujo+ujo+ujo+ujo+ujo+ujo+ujo+ujo+ujo+ujo+ujo+ujo+ujo+ujo+ujo+ujo+ujo+ujo+ujo+ujo+ujo+ujo+ujo+ujo+ujo+ujo+ujo+ujo+ujo+ujo+ujo+ujo+ujo+ujo+ujo+ujo+ujo+ujo+ujo+ujo+ujo+ujo+ujo+ujo+ujo+ujo+ujo+ujo+ujo+ujo+ujo+ujo+ujo+ujo4dHRAAAAqZyc+ujoh35+EA8P+efn4M/PAAAAybu7+ujoioCAEhAQ+ujo+ujo+ujo+ujo+ujo+ujo+ujo+ujo+ujo+ujo+ujo+ujos6amOTU1fHNzppqa+ujow7W1NzMz9uTkBwYGqJycYVpaNjIy9uTk+ujo+ujo+ujo+ujo+ujo5NTU9uTkDQwMSEJCyru7+ujo+ujo+ujo+ujo+ujo+ujo+ujo+ujo+ujo+ujo+ujo+ujo+ujo+ujo+ujo+ujo+ujo+ujo+ujo+ujo+ujo+ujo+ujo+ujo+ujo+ujo+ujo+ujo+ujo+ujo+ujo+ujo+ujo+ujo+ujo+ujo+ujo+ujo+ujo+ujo+ujo+ujo+ujo+ujo+ujo+ujo+ujo+ujo+ujo+ujo+ujo+ujo+ujo+ujo+ujo+ujo+ujo+ujo+ujo+ujo+ujo+ujo+ujo+ujo+ujo+ujo+ujo+ujo+ujo+ujo+ujo+ujowLKyAAAA3c3N+ujoYltbRD8/+ujotaioAwMD8uHhvrGxCgkJgXh4gnl51sbGOTU1l4yMFhQU3MzMR0JCFRMT18fHSkREEA8PwrS0k4iIS0ZGNDAw8uHh+ujolYqKbmZmVlBQAAAAAAAAXFZW6dnZ+ujo9ePjSkREEA8PwrS01sbGLisrFxUVAAAAAAAADw4O9OPjSkREEA8PwrS01sbGOTU1l4yMFhQU5NTU+ujo+ujo+ujo+ujo+ujo+ujo+ujo+ujo+ujo+ujo+ujo+ujo+ujo+ujo+ujo+ujo+ujo+ujo+ujo+ujo+ujo+ujo+ujo+ujo+ujo+ujo+ujo+ujo+ujo+ujo+ujo+ujo+ujo+ujo+ujo+ujo+ujo+ujo+ujo+ujo+ujo+ujo+ujo+ujo+ujo+ujo+ujo+ujo+ujo+ujo+ujo+ujo+ujo+ujo+ujo+ujo+ujo+ujo+ujo+ujo+ujo+ujo+ujonJGRDQwM+ujo+ujoOzc3bGRk+ujolouLHBoa+ujoYFlZYltbkIaGKSYmmI2NODQ0OjY2AAAAZ2BgMC0tTklJaGBgRD8/YFlZjIKCgnl5FBISe3Jy+ujo+ujog3p6f3Z2raCgCwoKa2NjGBYW797e+ujojIKCRD8/YFlZjIKCmY6OPzo6tqmpExER18fH6tnZjIKCRD8/YFlZjIKCmI2NODQ0OjY2AAAAwLKy0cLC+ujo+ujo+ujo+ujo+ujo+ujo+ujo+ujo+ujo+ujo+ujo+ujo+ujo+ujo+ujo+ujo+ujo+ujo+ujo+ujo+ujo+ujo+ujo+ujo+ujo+ujo+ujo+ujo+ujo+ujo+ujo+ujo+ujo+ujo+ufn+ufn+ufn+ufn+ufn+ufn+ufn+ufn+ufn+ufn+ufn+ufn+ufn+ufn+ufn+ufn+ufn+ufn+ufn+ufn+ufn+ufn+ufn+ufn+ufn+ufn+ufn+ufnfnV1Lisr+ufn+ufnGhgYjoOD+ufnn5OTCwoKvK6uFRMTWFJSOjU1TkhId25uAgICxLW1Dg0NBgUFc2pq0cHBU01NNzMzKicn28rKbmVlFhQU7dvb1MTE9+TkmY2NcmlplImJKygo7NraCQgInpKS+ufnQTw8Pzo6Kicn28rKX1hYZl5exba2DQwM+ufn+ufnS0VFQDs7Kicn28rKZV1dAgICxLW1Dg0NFBIS2cjI+ufn+ufn+ufn+ufn+ufn+ufn+ufn+ufn+ufn+ufn+ufn+ufn+ufn+ufn+ufn+ufn+ufn+ufn+ufn+ufn+ufn+ufn+ufn+ufn+ufn+ufn+ufn+ufn+ufn+ufn+ufn+ufn+ufn+ufn+ufn+ufn+ufn+ufn+ufn+ufn+ufn+ufn+ufn+ufn+ufn+ufn+ufn+ufn+ufn+ufn+ufn+ufn+ufn+ufn+ufn+ufn+ufn+ufn+ufn+ufn+ufn+ufnjYKCZFxc+ufn+ufnLSoqwrOz+ufn7NraNDAwEQ8PamJiEQ8PfXR0UEpKJSIiGRcX+ufn4tHRW1RUS0ZGyLm5HRsbGRcXuaurWVJSS0VFLCkpt6mpKicn9eLiy7y8JyQkWVJSTUhI+ufnX1hYLCkpva+vFBISJSIiuaurWVJSMS0tWlNTR0FBBgUFq56ehXt7LSoqJSIiuaurWVJSMy8vIR8f+ufn4tHR8N7e+ufn+ufn+ufn+ufn+ufn+ufn+ufn+ufn+ufn+ufn+ufn+ufn+ufn+ufn+ufn+ufn+ufn+ufn+ufn+ufn+ufn+ufn+ufn+ufn+ufn+ufn+ufn+ufn+ufn+ufn+ufn+ufn+ufn+ufn+ufn++fn++fn++fn++fn++fn++fn++fn++fn++fn++fn++fn++fn++fn++fn++fn++fn++fn++fn++fn++fn++fn++fn++fn++fn++fn++fn++fn++fn++fn++fn++fn++fn++fn++fn++fn++fn++fn++fn++fn++fn++fnGxgYTUdHcGdn++fn++fn0sHBJiMjEA4ObWVlLysrCwoKX1hY6dfXOjU1GxgYv7Cw++fn++fncGdnCwoKo5aW++fn3s3NJCIiHhsbqZycLysrCwoKX1hYs6WlDg0NfnR0hnt7DQwMSEJC0L+/LysrCwoKX1hYmIyMcGdn++fn++fn++fn++fn++fn++fn++fn++fn++fn++fn++fn++fn++fn++fn++fn++fn++fn++fn++fn++fn++fn++fn++fn++fn++fn++fn++fn++fn++fn++fn++fn++fn++fn++fn++fn++fn++fn++fn++fn++fn++fn++fn++fn++fn++fn++fn++fn++fn++fn++fn++fn++fn++fn++fn++fn++fn++fn++fn++fn++fn++fn++fn++fn++fn++fn++fn++fn++fn++fn++fn++fn++fn++fn++fn++fn++fn++fn++fn++fn++fn++fn++fn++fn++fn++fn++fn++fn++fn++fn++fn++fn++fn++fn++fn++fn++fn++fn++fn++fn++fn++fn++fn++fn++fn++fn++fn++fn++fn++fn++fn++fn++fn++fn++fn++fn++fn++fn++fn++fn++fn++fn++fn++fn++fn++fn++fn++fn++fn++fn++fn++fn++fn++fn++fn++fn++fn++fn++fn++fn++fn++fn++fn++fn++fn++fn++fn++fn++fn++fn++fn++fn++fn++fn++fn++fn++fn++fn++fn++fn++fn++fn++fn++fn++fn++fn++fn++fn++fn++fn++fn++fn++fn++fn++fn++fn++fn++fn++fn++fn++fn++fn++fn++fn++fn++fn++fn++fn++fn++fn++fn++fn++fn++fn++fn++fn++fn++fn++fn++fn++fn++fn++fn++fn++fn++fn++fn++fn++fn++fn++fn++fn++fn++fn++fn++fn++fn++fn++fn++fn++fn++fn++fn++fn++fn++fn++fn++fn++fn++fn++fn++fn++fn++fn++fn++fn++fn++fn++fn++fn++fn++fn++fn++fn++fn++fn++fn++fn++fn++fn++fn++fn++fn++fn++fn++fn++fn++fn++fn++fn++fn++fn++fn++fn++fn++fn++fn++fn++fn++fn++fn++fn++fn++fn++fn++fn++fn++fn++fn++fn++fn++fn++fn++fn++fn++fn++fn++fn++fn++fn++fn++fn++fn++fn++fn++fn++fn++fn++fn++fn++fn++fn++fn++fn++fn++fn++fn++fn++fn++fn++fn++fn++fn++fn++fn++fn++fn++fn++fn++fn++fn++fn++fn++fn++fn++fn++fn++fn++fn++fn++fn++fn++fn++fn++fn++fn++fn++fn++fn++fn++fn++fn++fn++fn++fn++fn++fn++fn++fn++fn++fn++fn++fn++fn++fn++fn++fn++fn++fn++fn++fn++fn++fn++fn++fn++fn++fn++fn++fn++fn++fn++fn++fn++fn++fn++fn++fn++fn++fn++fn++fn++fn++fn++fn++fn++fn++fn++fn++fn++fn++fn++fn++fn++fn++fn++fn++fn++fn++fn++fn++fn++fn++fn++fn++fn++fn++fn++fn++fn++fn++fn++fn++fn++fn++fn++fn++fn++fn++fn++fn++fn++fn++fn++fn++fn++fn++fn++fn++fn++fn++fn++fn++fn++fn++fn++fn++fn++fn++fn++fn++fn++fn++fn++fn++fn++fn++fn++fn++fn++fn++fn++fn++fn++fn++fn++fn++fn++fn++fn++fn++fn++fn++fn++fn++fn++fn++fn++fn++fn++fn++fn++fn++fn++fn++fn++fn++fn++fn++fn++fn++fn++fn++fn++fn++fn++fn++fn++fn++fn++fn++fn++fn++fn++fn++fn++fn++fn++fn++fn++fn++fn++fn++fn++fn++fn++fn++fn++fn++fn++fn++fn++fn++fn++fn++fn++fn++fn++fn++fn++fn++fn++fn++fn++fn++fn++fn++fn++fn++fn++fn++fn++fn++fn++fn++fn++fn++fn++fn++fn++fn++fn++fn++fn++fn++fn++fn++fn++fn++fn++fn++fn++fn++fn++fn++fn++fn++fn++fn++fn++fn++fn++fn++fn++fn++fn++fn++fn++fn++fn++fn++fn++fn++fn++fn++fn++fn++fn++fn++fn++fn++fn++fn++fn++fn++fn++fn++fn++fn++fn++fn++fn++fn++fn++fn++fn++fn++fn++fn++fn++fn++fn++fn++fn++fn++fn++fn++fn++fn++fn++fn++fn++fn++fn++fn++fn++fn++fn++fn++fn++fn++fn++fn++fn++fn++fn++fn++fn++fn++fn++fn++fn++fn++fn++fn++fn++fn++fn++fn++fn++fn++fn++fn++fn++fn++fn++fn++fn++fn++fn++fn++fn++fn++fn++fn++fn++fn++fn++fn++fn++fn++fn++fn++fn++fn++fn++fn++fn++fn++fn++fn++fn++fn++fn++fn++fn++fn++fn++fn++fn++fn++fn++fn++fn++fn++fn++fn++fn++fn++fn++fn++fn++fn++fn++fn++fn++fn++fn++fn++fn++fn++fn++fn++fn++fn++fn++fn++fn++fn++fn++fn++fn++fn++fn++fn++fn++fn++fn++fn++fn++fn++fn++fn++fn++fn++fn++fn++fn++fn++fn++fn++fn++fn++fn++fn++fn++fn++fn++fn++fn++fn++fn++fn++fn++fn++fn++fn++fn++fn++fn++fn++fn++fn++fn++fn++fn++fn++fn++fn++fn++fn++fn++fn++fn++fn++fn++fn++fn++fn++fn++fn++fn++fn++fn++fn++fn++fn++fn++fn++fn++fn++fn++fn++fn++fn++fn++fn++fn++fn++fn++fn++fn++fn++fn++fn++fn++fn++fn++fn++fn++fn++fn++fn++fn++fn++fn++fn++fn++fn++fn++fn++fn++fn++fn++fn++fn++fn++fn++fn++fn++fn++fn++fn++fn++fn++fn++fn++fn++fn++fn++fn++fn++fn++fn++fn++fn++fn++fn++fn++fn++fn++fn++fn++fn++fn++fn++fn++fn++fn++fn++fn++fn++fn++fn++fn++fn++fn++fn++fn++fn++fn++fn++fn++fn++fn++fn++fn++fn++fn++fn++fn++fn++fn++fn++fn++fn++fn++fn++fn++fn++fn++fn++fn++fn++fn++fn++fn++fn++fn++fn++fn++fn++fn++fn++fn++fn++fn++fn++fn++fn++fn++fn++fn++fn++fn++fn++fn++fn++fn++fn++fn++fn++fn++fn++fn++fn++fn++fn++fn++fn++fn++fn++fn++fn++fn++fn++fn++fn++fn++fn++fn++fn++fn++fn++fn++fn++fn++fn++fn++fn++fn++fn++fn++fn++fn++fn++fn++fn++fn++fn++fn++fn++fn++fn++fn++fn++fn++fn++fn++fn++fn++fn++fn++fn++fn++fn++fn++fn++fn++fn++fn++fn++fn++fn++fn++fn++fn++fn++fn++fn++fn++fn++fn++fn++fn++fn++fn++fn++fn++fn++fn++fn++fn++fn++fn++fn++fn++fn++fn++fn++fn++fn++fn++fn++fn++fn++fn++fn++fn++fn++fn++fn++fn++fn++fn++fn++fn++fn++fn++fn++fn++fn++fn++fn++fn++fn++fn++fn++fn++fn++fn++fn++fn++fn++fn++fn++fn++fn++fn++fn++fn++fn++fn++fn++fn++fn++fn++fn++fn++fn++fn++fn++fn++fn++fn++fn++fn++fn++fn++fn++fn++fn++fn++fn++fn++fn++fn++fn++fn++fn++fn++fn++fn++fn++fn++fn++fn++fn++fn++fn++fn++fn++fn++fn++fn++fn++fn++fn++fn++fn++fn++fn++fn++fn++fn++fn++fn++fn++fn++fn++fn++fn++fn++fn++fn++fn++fn++fn++fn++fn++fn++fn++fn++fn++fn++fn++fn++fn++fn++fn++fn++fn++fn++fn++fn++fn++fn++fn++fn++fn++fn++fn++fn++fn++fn++fn++fn++fn++fn++fn++fn++fn++fn++fn++fn++fn++fn++fn++fn++fn++fn++fn++fn++fn++fn++fn++fn++fn++fn++fn++fn++fn++fn++fn++fn++fn++fn++fn++fn++fn++fn++fn++fn++fn++fn++fn++fn++fn++fn++fn++fn++fn++fn++fn++fn++fn++fn++fn++fn++fn++fn++fn++fn++fn++fn++fn++fn++fn++fn++fn++fn++fn++fn++fn++fn++fn++fn++fn++fn++fn++fn++fn++fn++fn++fn++fn++fn++fn++fn++fn++fn++fn++fn++fn++fn++fn++fn++fn++fn++fn++fn++fn++fn++fn++fn++fn++fn++fn++fn++fn++fn++fn++fn++fn++fn++fn++fn++fn++fn++fn++fn++fn++fn++fn++fn++fn++fn++fn++fn++fn++fn++fn++fn++fn++fn++fn++fn++fn++fn++fn++fn++fn++fn++fn++fn++fn++fn++fn++fn++fn++fn++fn++fn++fn++fn++fn++fn++fn++fn++fn++fn++fn++fn++fn++fn++fn++fn++fn++fn++fn++fn++fn++fn++fn++fn++fn++fn++fn++fn++fn++fn++fn++fn++fn++fn++fn++fn++fn++fn++fn++fn++fn++fn++fn++fn++fn++fn++fn++fn++fn++fn++fn++fn++fn++fn++fn++fn++fn++fn++fn++fn++fn++fn++fn++fn++fn++fn++fn++fn++fn++fn++fn++fn++fn++fn++fn++fn++fn++fn++fn++fn++fn++fn++fn++fn++fn++fn++fn++fn++fn++fn++fn++fn++fn++fn++fn++fn++fn++fn++fn++fn++fn++fn++fn++fn++fn++fn++fn++fn++fn++fn++fn++fn++fn++fn++fn++fn++fn++fn++fn++fn++fn++fn++fn++fn++fn++fn++fn++fn++fn++fn++fn++fn++fn++fn++fn++fn++fn++fn++fn++fn++fn++fn++fn++fn++fn++fn++fn++fn++fn++fn++fn++fn++fn++fn++fn++fn++fn++fn++fn++fn++fn++fn++fn++fn++fn++fn++fn++fn++fn++fn++fn++fn++fn++fn++fn++fn++fn++fn++fn++fn++fn++fn++fn++fn++fn++fn++fn++fn++fn++fn++fn++fn++fn++fn++fn++fn++fn++fn++fn++fn++fn++fn++fn++fn++fn++fn++fn++fn++fn++fn++fn++fn++fn++fn++fn++fn++fn++fn++fn++fn++fn++fn++fn++fn++fn++fn++fn++fn++fn++fn++fn++fn++fn++fn++fn++fn++fn++fn++fn++fn++fn++fn++fn++fn++fn++fn++fn++fn++fn++fn++fn++fn++fn++fn++fn++fn++fn++fn++fn++fn++fn++fn++fn++fn++fn++fn++fn++fn++fn++fn++fn++fn++fn++fn++fn++fn++fn++fn++fn++fn++fn++fn++fn++fn++fn++fn++fn++fn++fn++fn++fn++fn++fn++fn++fn++fn++fn++fn++fn++fn++fn++fn++fn++fn++fn++fn++fn++fn++fn++fn++fn++fn++fn++fn++fn++fn++fn++fn++fn++fn++fn++fn++fn++fn++fn++fn++fn++fn++fn++fn++fn++fn++fn++fn++fn++fn++fn++fn++fn++fn++fn++fn++fn++fn++fn++fn++fn++fn++fn++fn++fn++fn++fn++fn++fn++fn++fn++fn++fn++fn++fn++fn++fn++fn++fn++fn++fn++fn++fn++fn++fn++fn++fn++fn++fn++fn++fn++fn++fn++fn++fn++fn++fn++fn++fn++fn++fn++fn++fn++fn++fn++fn++fn++fn++fn++fn++fn++fn++fn++fn++fn++fn++fn++fn++fn++fn++fn++fn++fn++fn++fn++fn++fn++fn++fn++fn++fn++fn++fn++fn++fn++fn++fn++fn++fn++fn++fn++fn++fn++fn++fn++fn++fn++fn++fn++fn++fn++fn++fn++fn++fn++fn++fn++fn++fn++fn++fn++fn++fn++fn++fn++fn++fn++fn++fn++fn++fn++fn++fn++fn++fn++fn++fn++fn++fn++fn++fn++fn++fn++fn++fn++fn++fn++fn++fn++fn++fn++fn++fn++fn++fn++fn++fn++fn++fn++fn++fn++fn++fn++fn++fn++fn++fn++fn++fn++fn++fn++fn++fn++fn++fn++fn++fn++fn++fn++fn++fn++fn++fn++fn++fn++fn++fn++fn++fn++fn++fn++fn++fn++fn++fn++fn++fn++fn++fn++fn++fn++fn++fn++fn++fn++fn++fn++fn++fn++fn++fn++fn++fn++fn++fn++fn++fn++fn++fn++fn++fn++fn++fn++fn++fn++fn++fn++fn++fn++fn++fn++fn++fn++fn++fn++fn++fn++fn++fn++fn++fn++fn++fn++fn++fn++fn++fn++fn++fn++fn++fn++fn++fn++fn++fn++fn++fn++fn++fn++fn++fn++fn++fn++fn++fn++fn++fn++fn++fn++fn++fn++fn++fn++fn++fn++fn++fn++fn++fn++fn++fn++fn++fn++fn++fn++fn++fn++fn++fn++fn++fn++fn++fn++fn++fn++fn++fn++fn++fn++fn++fn++fn++fn++fn++fn++fn++fn++fn++fn++fn++fn++fn++fn++fn++fn++fn++fn++fn++fn++fn++fn++fn++fn++fn++fn++fn++fn++fn++fn++fn++fn++fn++fn++fn++fn++fn++fn++fn++fn++fn++fn++fn++fn++fn++fn++fn++fn++fn++fn++fn++fn++fn++fn++fn++fn++fn++fn++fn++fn++fn++fn++fn++fn++fn++fn++fn++fn++fn++fn++fn++fn++fn++fn++fn++fn++fn++fn++fn++fn++fn++fn++fn++fn++fn++fn++fn++fn++fn++fn++fn++fn++fn++fn++fn++fn++fn++fn++fn++fn++fn++fn++fn++fn++fn++fn++fn++fn++fn++fn++fn++fn++fn++fn++fn++fn++fn++fn++fn++fn++fn++fn++fn++fn++fn++fn++fn++fn++fn++fn++fn++fn++fn++fn++fn++fn++fn++fn++fn++fn++fn++fn++fn++fn++fn++fn++fn++fn++fn++fn++fn++fn++fn++fn++fn++fn++fn++fn++fn++fn++fn++fn++fn++fn++fn++fn++fn++fn++fn++fn++fn++fn++fn++fn++fn++fn++fn++fn++fn++fn++fn++fn++fn++fn++fn++fn++fn++fn++fn++fn++fn++fn++fn++fn++fn++fn++fn++fn++fn++fn++fn++fn++fn++fn++fn++fn++fn++fn++fn++fn++fn++fn++fn++fn++fn++fn++fn++fn++fn++fn++fn++fn++fn++fn++fn++fn++fn++fn++fn++fn++fn++fn++fn++fn++fn++fn++fn++fn++fn++fn++fn++fn++fn++fn++fn++fn++fn++fn++fn++fn++fn++fn++fn++fn++fn++fn++fn++fn++fn++fn++fn++fn++fn++fn++fn++fn++fn++fn++fn++fn++fn++fn++fn++fn++fn++fn++fn++fn++fn++fn++fn++fn++fn++fn++fn++fn++fn++fn++fn++fn++fn++fn++fn++fn++fn++fn++fn++fn++fn++fn++fn++fn++fn++fn++fn++fn++fn++fn++fn++fn++fn++fn++fn++fn++fn++fn++fn++fn++fn++fn++fn++fn++fn++fn++fn++fn++fn++fn++fn++fn++fn++fn++fn++fn++fn++fn++fn++fn++fn++fn++fn++fn++fn++fn++fn++fn++fn++fn++fn++fn++fn++fn++fn++fn++fn++fn++fn++fn++fn++fn++fn++fn++fn++fn++fn++fn++fn++fn++fn++fn++fn++fn++fn++fn++fn++fn++fn++fn++fn++fn++fn++fn++fn++fn++fn++fn++fn++fn++fn++fn++fn++fn++fn++fn++fn++fn++fn++fn++fn++fn++fn++fn++fn++fn++fn++fn++fn++fn++fn++fn++fn++fn++fn++fn/Ofn/Ofn/Ofn/Ofn/Ofn/Ofn/Ofn/Ofn/Ofn/Ofn/Ofn/Ofn/Ofn/Ofn/Ofn/Ofn/Ofn/Ofn/Ofn/Ofn/Ofn/Ofn/Ofn/Ofn/Ofn/Ofn/Ofn/Ofn/Ofn/Ofn/Ofn/Ofn/Ofn/Ofn/Ofn/Ofn/Ofn/Ofn/Ofn/Ofn/Ofn/Ofn/Ofn/Ofn/Ofn/Ofn/Ofn/Ofn/Ofn/Ofn/Ofn/Ofn/Ofn/Ofn/Ofn/Ofn/Ofn/Ofn/Ofn/Ofn/Ofn/Ofn/Ofn/Ofn/Ofn/Ofn/Ofn/Ofn/Ofn/Ofn/Ofn/Ofn/Ofn/Ofn/Ofn/Ofn/Ofn/Ofn/Ofn/Ofn/Ofn/Ofn/Ofn/Ofn/Ofn/Ofn/Ofn/Ofn/Ofn/Ofn/Ofn/Ofn/Ofn/Ofn/Ofn/Ofn/Ofn/Ofn/Ofn/Ofn/Ofn/Ofn/Ofn/Ofn/Ofn/Ofn/Ofn/Ofn/Ofn/Ofn/Ofn/Ofn/Ofn/Ofn/Ofn/Ofn/Ofn/Ofn/Ofn/Ofn/Ofn/Ofn/Ofn/Ofn/Ofn/Ofn/Ofn/Ofn/Ofn/Ofn/Ofn/Ofn/Ofn/Ofn/Ofn/Ofn/Ofn/Ofn/Ofn/Ofn/Ofn/Ofn/Ofn/Ofn/Ofn/Ofn/Ofn/Ofn/Ofn/Ofn/Ofn/Ofn/Ofn/Ofn/Ofn/Ofn/Ofn/Ofn/Ofn/Ofn/Ofn/Ofn/Ofn/Ofn/Ofn/Ofn/Ofn/Ofn/Ofn/Ofn/Ofn/Ofn/Ofn/Ofn/Ofn/Ofn/Ofn/Ofn/Ofn/Ofn/Ofn/Ofn/Ofn/Ofn/Ofn/Ofn/Ofn/Ofn/Ofn/Ofn/Ofn/Ofn/Ofn/Ofn/Ofn/Ofn/Ofn/Ofn/Ofn/Ofn/Ofn/Ofn/Ofn/Ofn/Ofn/Ofn/Ofn/Ofn/Ofn/Ofn/Ofn/Ofn/Ofn/Ofn/Ofn/Ofn/Ofn/Ofn/Ofn/Ofn/Ofn/Ofn/Ofn/Ofn/Ofn/Ofn/Ofn/Ofn/Ofn/Ofn/Ofn/Ofn/Ofn/Ofn/Ofn/Ofn/Ofn/Ofn/Ofn/Ofn'},\n",
       " 'description': {'Summary Note': \"The RM is a close family friend of Marcel Paul Reiter's parents, having known him since birth. This deep-rooted connection has facilitated a strong and trustworthy professional relationship.\\nHaving worked for over 12 years, Marcel Paul Reiter brings a wealth of experience and expertise to his current role. He is known for his strategic thinking and ability to drive results.\\nHe was drawn to Julius Baer's holistic financial planning and investment strategies, prompting the decision to join.\",\n",
       "  'Family Background': 'Marcel Paul Reiter is married to Heidi. Their children are named Ilse, Victoria and Sophia.',\n",
       "  'Education Background': 'Marcel completed his secondary education at Stiftsgymnasium Melk in 2004.\\nHe then attended Graz University of Technology, which he graduated in 2011.',\n",
       "  'Occupation History': 'Marcel Paul Reiter is a 38 year old Reservoir Engineer from Austria. He has a diverse background, having worked in various capacities and gained extensive knowledge in the field.\\nAt RAG Rohol-Aufsuchungs AG, Marcel Paul Reiter held the position of Drilling Engineer from 2013 to 2015, developing essential skills in the field.\\nAt RAG Rohol-Aufsuchungs AG, he held the position of Reservoir Engineer from 2015 till now, making significant contributions to the organization.\\nThe last position held by he came with a remuneration of 54000 EUR p.A., showcasing the value he brought to the organization.',\n",
       "  'Wealth Summary': 'During his work, he focused on financial growth, making diverse investments and ultimately saving 70000 EUR.\\nHe owns flat in Bruck an der Mur, where he resides. It is worth 690,000.00 EUR.\\n\\nHe purchased condo in Kitzbühel, where he spends his holidays. It is valued at 870,000.00 EUR.\\n\\nIn addition to his career success, he also received an inheritance of 230000 EUR from his late grandmother, a renowned Hedge Fund Manager, in 2016.',\n",
       "  'Client Summary': 'The RM is very happy to have Marcel as a customer and is looking forward to a long and successful cooperation.'},\n",
       " 'account': {'account_name': 'Marcel Paul Reiter',\n",
       "  'account_holder_name': 'Marcel Paul',\n",
       "  'account_holder_surname': 'Reiter',\n",
       "  'passport_number': 'YK6562036',\n",
       "  'chf': '/Off',\n",
       "  'eur': '/Yes',\n",
       "  'usd': '/Off',\n",
       "  'other_ccy': '',\n",
       "  'building_number': '28',\n",
       "  'postal_code': '4503',\n",
       "  'city': 'Bruck an der Mur',\n",
       "  'country': 'Austria',\n",
       "  'name': 'Marcel Paul Reiter',\n",
       "  'phone_number': '+43 695 185 28428',\n",
       "  'email': 'marcel.reiter@hotmail.com',\n",
       "  'street_name': 'Enzersdorfer Straße',\n",
       "  'signature': 'iVBORw0KGgoAAAANSUhEUgAAAuMAAAC0CAIAAACxC7WVAAAACXBIWXMAAA7EAAAOxAGVKw4bAAANeUlEQVR4nO3da6xlV0HA8WsdhudMW4GCxdcYQRlHfIFaBTWKBq0atajBql8MYOoDNWoU6wd8xFcMCAkivpAEE0VEI9EYJVhRGxVBU3zrVFR8G1JErIiPqZOz8/dwdu8+d869d+X29/vQDzf7rLP2Pqdn/6Era+/9DwDAqPaOewIAALP2brvttov/584777wIADCM22+/fe+SM2fOXPrn2bNn9wAAhnH69Om9U6dOnT9//ty5cxcuXDgHADCMa6655p5gueuuu477P0IBAKy7cOGCUgEABqVUAIBxKRUAYFxKBQAYl1IBAMalVACAcSkVAGBcSgUAGJdSAQDGpVQAgHEpFQBgXEoFABiXUgEAxqVUAIBxKRUAYFxKBQAYl1IBAMalVACAcSkVAGBcSgUAGJdSAQDGpVQAgHEpFQBgXEoFABiXUgEAxqVUAIBxKRUAYFxKBQAYl1IBAMalVACAcSkVAGBcSgUAGJdSAQDGpVQAgHEplXvzb/GslYfHe8Zro4PcHV8dD125Ln4sjumkuVJ/Eh8ej4jXrRz3ZAFGp1TujVLhAJQKwA4plXujVDgApQKwQ0rl3igVDkCpAOyQUln3tuhtZm/lbOzFJ8V/x5Ojx0+J0z/eP/4lfiJ+Ni7EA+IpK2+J4760J9k74jHxwOgHfdPKribwHysvjCfG1XG/eJ94Rrx5ZVczBDgYpbJOqXAASgXgkCiVdUqFA1AqAIdEqaxTKhyAUgE4JEpl3RfFg+NXV94Qvfc8Nl4UD4mNq257O+mAr4i5POpq3L1NviGO8aqeeC+JXv+Xx8fH1JdX8qZduju10cavwSWPjLmvU00rvt8Uu7pch+c/45lxTbw4jnu+wP6UyjqlwgEolUEoFTh5lMo6pcIBKJVBKBU4eZTKOqXCASiVQSgVOHmUyroHxU/FdMAd0V/2j4n3jh+Oje/4tOiALZiPi2dHx+nv8sZBDvfC3bc9PtoB74yurT5wqbw5uvHgVSvfFF2UPTfgz8S7x/QV+pK4sot0FJrm/bepi4jfP457vsD+lMo6pcIBKJVBKBU4eZTKOqXCASiVQSgVOHmUyjqlwgEolUEoFTh5lMq6i7HxgNdEfwq7YrG7af1XbBxwbmu43jZ+KeZm/pyYBunmdbu5QKz8ZfSD+9zo8R8cN65s+6afGX3Tl6704B+JV8Xc4I2SaeR+mbed7dFovfXfmluiHd+UPO65A/tTKuuUCgsplUEoFTjZlMo6pcJCSmUQSgVONqWyTqmwkFIZhFKBk02pbO2lsTej0bDvgB8QHeRR0Ucezo3TPeumQXpj2+ll4P91QD+458ZbozfRb19Z8ka/F32jT4vp4FdHD+4q77k3+q6YXviw2MFVm9f/kfDo6MLhP43phd8SPeXXxc3RZDzUMwJ2QqlsTalwmVLZLaUCbKRUtqZUuEyp7JZSATZSKlvbuBxkzRtjbpxpm42Nm1hc8uWxZGIXYhrkG2N314B7bFzVccmvxc9Fj3n9ypI3ujU6yG0xHfw90YM/IubeaOOWPJ8QV37R7kULb+7frI1bHD0u+pitPgPoEfF1cahnBOyEUtmaUuEypbJbSgXYSKlsTalwmVLZLaUCbKRUtqZUuEyp7JZSATZSKlubuz913d+Scf54Ze5HuTe5uUHujo3F8/LY3TXgHk+IfnB/H58dj42t3qib4vS5VL0TTwd/aXRWfbxUB//HuDamF74sdnPhZnS17MfGTfH2mB5p1NPs47deEA+Ov4tDPSNgJ5TK1pQKlymV3VIqwEZKZWtKhcuUym4pFWAjpbI1pcJlSmW3lAqwkVLZWn9D+xP51FgyzitX5krln2NukN+JjYP8RSyZVZ9l0zvE1SvfFt2RbG7ALoHs3eIXVv4hPiX6cJa5N+pkpvWSD4+fj76wO+l1iXRzczrl74sOcnU8IOYeQ9Od4pZ8FpPWSe/EGw/+xOg34dnx67FxIfYln7Oy1VSP0q+sdNrnox/KT8dxTxzYjlLZmlJRKpcpleOlVOA+QqlsTakolcuUyvFSKnAfoVS2plSUymVK5XgpFbiPUCpb6xZS/Yn83lgyznesdJAlj5GrH4qOc2ZlySCtk96qNw7YP75HzA3+ydHXToHV5aIbY+uSn4yvjY0zPBVzi1i/MjYOcslVK+8WrZC+8Pr4sujf3xH7fij/Hn2jz4ge/6Erc9dwzjXR8pt2JlzyFdpJ+fXZnw+MX44+uXDbM500H/8mNs68PTo3831zvEW+bY4DSmVrSmWiVCZKRakoFTgkSmVrSmWiVCZKRakoFTgkSmVrSmWiVCZKRakoFTgkSmWpu1bmfv5+MZYMePNKB3lKLBnkWdFxnrSyZJC+aQf54njTSg/4sJgbvL/FXeH43SvtgEZG3+hV0eN7V5juN70T9Mb219FBHhVviVtWOpM3RP/e+33P4gdiyWcx+dvoG90cPf7Glbnv59y17ZMLu/favjPs9Txw+XXZ+Nz38NXx6TFd8B58XTwmunC4KfkVsXHmV8XczPfN8Rb53AfUHN/qqwInnlJZSqkolT2lEkpFqcDRUCpLKRWlsqdUQqkoFTgaSmUppaJU9pRKKBWlAkdDqSx17xusXdJ1qUsG3Phwu5bHkkG6vrLjPH1l7oXdEa4v7LZpXdQ57Z/Wg5syHbybufX47so1rUp+UXx09IXfHP37h8T07t8ar4iXRAf5mvjtmGbYWfXpg3PfhMdHl5ou+UAn/xodvI887PEbv59dOtrH8j0uenxv5/tOu9fzwOXX3Hlo9Jh/ik5gY2H8aMzNfKtmvSX6Rn8V++Z4i3wuGX8rtvqqwImnVJZSKkpFqZRSUSpwNJTKUkpFqSiVUipKBY6GUllKqSgVpVJKRanA0VAqS003vP643C+2vSdN6/464AtiySBPjI5z68rcC7vHV1/4hdHjp4fb9eDvjB78wujxp2O6I/aFffze3gJdX7nvtbo1OshDon+fnvPXzcHujrlZvT7mJvNVK38ecwd3/7SuEu0x0+25M/mg6MGvjbmzeNnK3Ky+P/rCrcpvbuFwd8ybm8DGgHhxzL1wq2btTo+d+VY53iKfy/HfjP5ruO2WknDyKJWllIpSUSqlVJQKHA2lspRSUSpKpZSKUoGjoVSWUipKRamUUlEqcDSUylIbf9rmbhtLTPfsDrjt9nGfFx3ns1Z68B9E1wD2hZ8fb49zKz34B6OPkWuRrN8AV5630hl2h7f3iz64sYN8YEzrTztgZ9XnKXaQbh/3GzEN8vvxpJg7tT+LPpXwmTEd/Icx9yk/I/pGvbdtPOCmmBv8U6Ovfa+VxsQ7Y24191bld3v04I+MzrYrmjc+qrDrqedO+fnR1z4o3nXaazN/Y3SQLpjtCuXp3ZfkeNf59jGHc2cEJ5tSWUqpKBWlolSUChw9pbKUUlEqSkWpKBU4ekplqd9d6Q/x18e2A96w0lvyW2PJIC+PjT95j4zurtG/z/1c9qEtGw/uL3t/Wz8q5gafNrRYcprdXKT/7b8DTrUxd8C18b7RY+4f09KQuVOYe9pLvyF9HlCPec7KktPvVj1NzAfGdPH7Ls+NucGbSj39aZBuEDK35Un1W7Fv+fXRUR2kO77cFU+Ih630hY2DpnYbqwHX1/ZM33XaazPv85LmLsXzYhpkLsc78x6z5BsCJ5tSWUqpKJU1SmUjpTJRKrATSmUppaJU1iiVjZTKRKnATiiVpZSKUlmjVDZSKhOlAjuhVE6O7m4yPb6ktfEF0d0gutFIb4S9W/zRSvec6FrUp8XbousHb4wDn2ZXMrYVptO8Lp4effBNn/zy1Ohjj6br8OR4TfS5SB2k9/tHx4/HgU+/T4dpEU632K4AbeEtGbwLkKe7Zk+nX4lXRq9bb9Vbld9V0b/3O9wBp6nOZXeTsZ3aY66OjTPvZjZzM5/Tr9mBP3FAqZwcSkWpKBWlAiePUjk5lIpSUSpKBU4epXJyKBWlolSUCpw8SgW4Ujspvz7gpgHRVbfdKW569zdE662P5ToXfbrWvjNvu8/NfOc5DpRSAa6UUlEqcHiUCnCllIpSgcOjVIArpVSUChwepQIAjEupAADjUioAwLiUCgAwLqUCAIxLqQAA41IqAMC4lAoAMC6lAgCMS6kAAONSKgDAuJQKADAupQIAjEupAADjUioAwLiUCgAwLqUCAIxLqQAA41IqAMC4lAoAMC6lAgCMS6kAAONSKgDAuJQKADAupQIAjEupAADjUioAwLiUCgAwLqUCAIxLqQAA41IqAMC4lAoAMC6lAgCMS6kAAONSKgDAuJQKADAupQIAjEupAADjUioAwLiUCgAwLqUCAIxLqQAA41IqAMC4lAoAMC6lAgCMS6kAAONSKgDAuJQKADAupQIAjEupAADjUioAwLiUCgAwLqUCAIxLqQAA41IqAMC4lAoAMC6lAgCMS6kAAONSKgDAuJQKADAupQIAjEupAADjUioAwLiUCgAwLqUCAIxLqQAA41IqAMC4lAoAMC6lAgCMS6kAAONSKgDAuO4pleuvv/6OO+64ePHinXfeeREAYBg33HDDPf+fypkzZy798+zZs3sAAMM4ffr03qlTp86fP3/u3LkLFy6cAwAYxrXXXvu/UhINOgnGP/wAAAAASUVORK5CYII='}}"
      ]
     },
     "execution_count": 132,
     "metadata": {},
     "output_type": "execute_result"
    }
   ],
   "source": [
    "client_data"
   ]
  },
  {
   "cell_type": "code",
   "execution_count": 133,
   "metadata": {},
   "outputs": [],
   "source": [
    "from copy import deepcopy\n",
    "import json\n",
    "\n",
    "filtered_data = deepcopy(client_data)\n",
    "filtered_data[\"account\"][\"signature\"] = \"\"\n",
    "filtered_data[\"passport\"][\"signature\"] = \"\"\n",
    "with open(\"filtered_data.json\", \"w\") as f:\n",
    "    json.dump(filtered_data, f, indent=4)"
   ]
  },
  {
   "cell_type": "code",
   "execution_count": 138,
   "metadata": {},
   "outputs": [],
   "source": [
    "from jb_onboarding.checks.check_account_form import account_form_is_consistent\n",
    "from jb_onboarding.checks.check_age_consistency import age_is_consistent\n",
    "from jb_onboarding.checks.check_education_background import education_is_consistent\n",
    "from jb_onboarding.checks.check_family_background_consistency import family_background_is_consistent\n",
    "\n",
    "# from jb_onboarding.checks.check_occupation_history import\n",
    "from jb_onboarding.checks.check_passport import passport_is_consistent\n",
    "from jb_onboarding.checks.check_profile import profile_is_consistent\n",
    "from jb_onboarding.checks.check_wealth_summary import wealth_is_consistent\n",
    "from jb_onboarding.checks.cross_check_account_form_client_profile import account_form_and_client_profile_are_consistent\n",
    "from jb_onboarding.checks.cross_check_account_form_passport import account_form_and_passport_are_consistent\n",
    "from jb_onboarding.checks.cross_check_passport_client_profile_form import client_profile_and_passport_are_consistent\n"
   ]
  },
  {
   "cell_type": "code",
   "execution_count": 23,
   "metadata": {},
   "outputs": [
    {
     "name": "stdout",
     "output_type": "stream",
     "text": [
      "Full name: Andrea Concha Fernández\n",
      "First and middle names: Andrea Concha\n",
      "Last name: Fernández\n",
      "Expected full name: Andrea Concha Fernández\n"
     ]
    },
    {
     "data": {
      "text/plain": [
       "True"
      ]
     },
     "execution_count": 23,
     "metadata": {},
     "output_type": "execute_result"
    }
   ],
   "source": [
    "account_form_is_consistent(filtered_data)"
   ]
  },
  {
   "cell_type": "code",
   "execution_count": null,
   "metadata": {},
   "outputs": [
    {
     "data": {
      "text/plain": [
       "{'account_name': 'Andrea Concha Fernández',\n",
       " 'account_holder_name': 'Andrea Concha',\n",
       " 'account_holder_surname': 'Fernández',\n",
       " 'passport_number': 'JZ4727152',\n",
       " 'chf': '/Off',\n",
       " 'eur': '/Yes',\n",
       " 'usd': '/Off',\n",
       " 'other_ccy': '',\n",
       " 'building_number': '86',\n",
       " 'postal_code': '28606',\n",
       " 'city': 'Porvoo',\n",
       " 'country': 'Finland',\n",
       " 'name': 'Andrea Concha Fernández',\n",
       " 'phone_number': '+358 042 161 84 72',\n",
       " 'email': 'andrea.fernandez@finet.fi',\n",
       " 'street_name': 'Telakkakatu',\n",
       " 'signature': ''}"
      ]
     },
     "execution_count": 24,
     "metadata": {},
     "output_type": "execute_result"
    }
   ],
   "source": []
  },
  {
   "cell_type": "code",
   "execution_count": 25,
   "metadata": {},
   "outputs": [
    {
     "data": {
      "text/plain": [
       "True"
      ]
     },
     "execution_count": 25,
     "metadata": {},
     "output_type": "execute_result"
    }
   ],
   "source": [
    "age_is_consistent(filtered_data)"
   ]
  },
  {
   "cell_type": "code",
   "execution_count": null,
   "metadata": {},
   "outputs": [
    {
     "data": {
      "text/plain": [
       "\"The RM first met Andrea Concha Fernández at a luxury car show in Helsinki. They both admired the latest models and discussed their interest in high-end investments, leading to a productive business relationship.\\nAndrea Concha Fernández is a 68 year old retired Fund Manager from Finland. She has a diverse background, having worked in various capacities and gained extensive knowledge in the field.\\nJulius Baer's commitment to client satisfaction and innovative financial strategies convinced her to join.\""
      ]
     },
     "execution_count": 28,
     "metadata": {},
     "output_type": "execute_result"
    }
   ],
   "source": [
    "profile[\"Client Information\"]\n"
   ]
  },
  {
   "cell_type": "code",
   "execution_count": 38,
   "metadata": {},
   "outputs": [
    {
     "name": "stderr",
     "output_type": "stream",
     "text": [
      "[autoreload of jb_onboarding.preprocessing failed: Traceback (most recent call last):\n",
      "  File \"/Users/shyngys/personal/data-workspace/.venv/lib/python3.10/site-packages/IPython/extensions/autoreload.py\", line 276, in check\n",
      "    superreload(m, reload, self.old_objects)\n",
      "  File \"/Users/shyngys/personal/data-workspace/.venv/lib/python3.10/site-packages/IPython/extensions/autoreload.py\", line 475, in superreload\n",
      "    module = reload(module)\n",
      "  File \"/opt/homebrew/Cellar/python@3.10/3.10.15/Frameworks/Python.framework/Versions/3.10/lib/python3.10/importlib/__init__.py\", line 169, in reload\n",
      "    _bootstrap._exec(spec, module)\n",
      "  File \"<frozen importlib._bootstrap>\", line 619, in _exec\n",
      "  File \"<frozen importlib._bootstrap_external>\", line 879, in exec_module\n",
      "  File \"<frozen importlib._bootstrap_external>\", line 1017, in get_code\n",
      "  File \"<frozen importlib._bootstrap_external>\", line 947, in source_to_code\n",
      "  File \"<frozen importlib._bootstrap>\", line 241, in _call_with_frames_removed\n",
      "  File \"/Users/shyngys/personal/data-workspace/src/jb_onboarding/preprocessing.py\", line 83\n",
      "    class PassportParser:\n",
      "    ^^^^^\n",
      "IndentationError: expected an indented block after function definition on line 79\n",
      "]\n"
     ]
    },
    {
     "data": {
      "text/plain": [
       "{'Default': {},\n",
       " 'Client Information': {'Last Name': 'Fernández',\n",
       "  'First/ Middle Name (s)': 'Andrea Concha',\n",
       "  'Address': 'Telakkakatu 86, 28606 Porvoo',\n",
       "  'Country of Domicile': 'Finland',\n",
       "  'Date of birth': '1956-07-18',\n",
       "  'Nationality': 'Spanish',\n",
       "  'Passport No/ Unique ID': 'JZ4727152',\n",
       "  'ID Type': 'passport',\n",
       "  'ID Issue Date': '2021-02-04',\n",
       "  'ID Expiry Date': '2031-02-03',\n",
       "  'Gender': {'options': ['Female', 'Male'], 'selected': ['Female']}},\n",
       " 'Account Holder – Contact Management and Services – Contact Info': {'Communication Medium': 'Telephone +358 042 161 84 72',\n",
       "  None: 'E-Mail andrea.fernandez@finet.fi'},\n",
       " 'Account Holder – Personal Info': {'Is the client or associated person a Politically Exposed Person as defined in the Client Acceptance Policy?': [{'options': ['No',\n",
       "     'Yes'],\n",
       "    'selected': ['No']},\n",
       "   'If ‘Yes’, please complete the Approval Form (PEP) and ensure that appropriate approvals are obtained'],\n",
       "  'Marital Status': [{'options': ['Divorced', 'Married', 'Single', 'Widowed'],\n",
       "    'selected': ['Married']},\n",
       "   'Fill out in case of a private individual'],\n",
       "  'Highest education attained': 'Tertiary',\n",
       "  'Education History': 'Universidad Comercial de Deusto (1980)'},\n",
       " 'Account Holder – Professional and Economic Background – Business': {'Current employment and function': [{'options': ['Employee Since'],\n",
       "    'selected': []},\n",
       "   'Name Employer',\n",
       "   ['Position', 'including annual income and namecard'],\n",
       "   {'options': ['Self-Employed Since'], 'selected': []},\n",
       "   'Company Name',\n",
       "   '% of ownership'],\n",
       "  None: [{'options': ['Currently not employed Since'], 'selected': []},\n",
       "   'Previous Profession:',\n",
       "   {'options': ['Retired Since 2017'], 'selected': ['Retired Since 2017']},\n",
       "   'Previous Profession: Fund Manager',\n",
       "   {'options': ['Homemaker/housewife Since'], 'selected': []},\n",
       "   'Previous Profession:',\n",
       "   {'options': ['Student Since Country of study:'], 'selected': []},\n",
       "   'Previous Profession:',\n",
       "   {'options': ['Diplomat Since Home country of diplomatic mission:'],\n",
       "    'selected': []},\n",
       "   'Previous Profession:',\n",
       "   {'options': ['Military representative Since Home country of military establishment:'],\n",
       "    'selected': []},\n",
       "   'Previous Profession:',\n",
       "   {'options': ['Other Since'], 'selected': []},\n",
       "   'Previous Profession:',\n",
       "   {'options': ['Unknown'], 'selected': []}]},\n",
       " 'Account Holder – Professional and Economic Background – Wealth': {'Total wealth estimated': [{'options': ['< EUR 1.5m',\n",
       "     'EUR 1.5m-5m',\n",
       "     'EUR 5m-10m',\n",
       "     'EUR 10m.-20m',\n",
       "     'EUR 20m.-50m',\n",
       "     '> EUR 50m'],\n",
       "    'selected': ['EUR 1.5m-5m']},\n",
       "   'Origin of wealth: - Profit from business/ professional income - Inheritance (describe the relationship, the year in which assets were inherited and a brief description of business/ professional activities of the person whom client has inherited assets from) - Others (e.g. sale of assets – to provide material evidence on the transaction)'],\n",
       "  'Source of information': 'Origin of wealth: - Profit from business/ professional income - Inheritance (describe the relationship, the year in which assets were inherited and a brief description of business/ professional activities of the person whom client has inherited assets from) - Others (e.g. sale of assets – to provide material evidence on the transaction)',\n",
       "  'Origin of wealth ☒ Employment ☐ Inheritance ☐ Business ☐ Investments ☐ Sale of real estate ☐ Retirement package ☐ Other': ['Origin of wealth: - Profit from business/ professional income - Inheritance (describe the relationship, the year in which assets were inherited and a brief description of business/ professional activities of the person whom client has inherited assets from) - Others (e.g. sale of assets – to provide material evidence on the transaction)',\n",
       "   'Origin of wealth: - Profit from business/ professional income - Inheritance (describe the relationship, the year in which assets were inherited and a brief description of business/ professional activities of the person whom client has inherited assets from) - Others (e.g. sale of assets – to provide material evidence on the transaction)',\n",
       "   'Origin of wealth: - Profit from business/ professional income - Inheritance (describe the relationship, the year in which assets were inherited and a brief description of business/ professional activities of the person whom client has inherited assets from) - Others (e.g. sale of assets – to provide material evidence on the transaction)',\n",
       "   'Origin of wealth: - Profit from business/ professional income - Inheritance (describe the relationship, the year in which assets were inherited and a brief description of business/ professional activities of the person whom client has inherited assets from) - Others (e.g. sale of assets – to provide material evidence on the transaction)'],\n",
       "  'Estimated Assets': [{'options': ['Real Estate EUR 2281000',\n",
       "     'Business EUR 1860000',\n",
       "     'Investments EUR 0',\n",
       "     'Deposits/ MM/ Fiduciary EUR 0',\n",
       "     'Equity EUR 0',\n",
       "     'Fixed Income EUR 0',\n",
       "     'Structured Products EUR 0',\n",
       "     'Alternative Investments EUR 0',\n",
       "     'Investment Funds EUR 0',\n",
       "     'Insurance EUR 0',\n",
       "     'Other investments (e.g., art, wine, cars) EUR 0'],\n",
       "    'selected': ['Real Estate EUR 2281000', 'Business EUR 1860000']},\n",
       "   'Origin of wealth: - Profit from business/ professional income - Inheritance (describe the relationship, the year in which assets were inherited and a brief description of business/ professional activities of the person whom client has inherited assets from) - Others (e.g. sale of assets – to provide material evidence on the transaction)']},\n",
       " 'Account Holder – Professional and Economic Background – Income, Expenditures and Savings': {'Estimated Total income p.a.': [{'options': ['< EUR 250,000',\n",
       "     'EUR 250,000 - 500,000',\n",
       "     'EUR 500,000 – 1m',\n",
       "     '> EUR 1m, please state 1083000'],\n",
       "    'selected': ['> EUR 1m, please state 1083000']},\n",
       "   'including dividends, interests and investment income'],\n",
       "  'Country of main source of income': 'Finland'},\n",
       " 'Account Information': {'Commercial Account': {'options': ['Yes', 'No'],\n",
       "   'selected': ['No']},\n",
       "  'Investment Risk Profile': {'options': ['Low',\n",
       "    'Moderate',\n",
       "    'Considerable',\n",
       "    'High'],\n",
       "   'selected': ['Moderate']},\n",
       "  'Type of Mandate': {'options': ['Advisory', 'Discretionary'],\n",
       "   'selected': ['Advisory']},\n",
       "  'Investment Experience': {'options': ['Inexperienced',\n",
       "    'Experienced',\n",
       "    'Expert'],\n",
       "   'selected': ['Expert']},\n",
       "  'Investment Horizon': {'options': ['Short', 'Medium', 'Long-Term'],\n",
       "   'selected': ['Medium']},\n",
       "  'Preferred Markets': 'Spain, Finland'},\n",
       " 'Account Information – Asset Under Management': {'Total Asset Under Management': '4141000',\n",
       "  'Asset Under Management to transfer to BJB': '2898700'}}"
      ]
     },
     "execution_count": 38,
     "metadata": {},
     "output_type": "execute_result"
    }
   ],
   "source": [
    "filtered_data[\"profile\"]"
   ]
  },
  {
   "cell_type": "code",
   "execution_count": 40,
   "metadata": {},
   "outputs": [
    {
     "data": {
      "text/plain": [
       "{'account_name': 'Andrea Concha Fernández',\n",
       " 'account_holder_name': 'Andrea Concha',\n",
       " 'account_holder_surname': 'Fernández',\n",
       " 'passport_number': 'JZ4727152',\n",
       " 'chf': '/Off',\n",
       " 'eur': '/Yes',\n",
       " 'usd': '/Off',\n",
       " 'other_ccy': '',\n",
       " 'building_number': '86',\n",
       " 'postal_code': '28606',\n",
       " 'city': 'Porvoo',\n",
       " 'country': 'Finland',\n",
       " 'name': 'Andrea Concha Fernández',\n",
       " 'phone_number': '+358 042 161 84 72',\n",
       " 'email': 'andrea.fernandez@finet.fi',\n",
       " 'street_name': 'Telakkakatu',\n",
       " 'signature': ''}"
      ]
     },
     "execution_count": 40,
     "metadata": {},
     "output_type": "execute_result"
    }
   ],
   "source": [
    "filtered_data[\"account\"]"
   ]
  },
  {
   "cell_type": "code",
   "execution_count": null,
   "metadata": {},
   "outputs": [],
   "source": []
  },
  {
   "cell_type": "code",
   "execution_count": null,
   "metadata": {},
   "outputs": [
    {
     "data": {
      "text/plain": [
       "{'name': 'Marcel Paul Reiter',\n",
       " 'address': {'city': 'Bruck an der Mur',\n",
       "  'street name': 'Enzersdorfer Straße',\n",
       "  'street number': '28',\n",
       "  'postal code': '4503'},\n",
       " 'country_of_domicile': 'Austria',\n",
       " 'birth_date': '1986-05-15',\n",
       " 'nationality': 'Austrian',\n",
       " 'passport_number': 'YK6562036',\n",
       " 'passport_issue_date': '2017-07-01',\n",
       " 'passport_expiry_date': '2027-06-30',\n",
       " 'gender': 'M',\n",
       " 'phone_number': '+43 695 185 2842',\n",
       " 'email_address': 'marcel.reiter@hotmail.com',\n",
       " 'marital_status': 'Married',\n",
       " 'secondary_school': {'name': 'Graz University of Technology',\n",
       "  'graduation_year': 2011},\n",
       " 'higher_education': [],\n",
       " 'employment_background': {'status': '',\n",
       "  'since': None,\n",
       "  'previous_profession': ''},\n",
       " 'aum': {'savings': 1858000.0},\n",
       " 'inheritance_details': {},\n",
       " 'real_estate_details': [],\n",
       " 'investment_risk_profile': 'Low',\n",
       " 'investment_horizon': 'Short',\n",
       " 'investment_experience': 'Experienced',\n",
       " 'type_of_mandate': 'Advisory',\n",
       " 'preferred_markets': ['Austria', 'Portugal'],\n",
       " 'currency': '',\n",
       " 'wealth': 'EUR 1.5m-5m',\n",
       " 'assets': ['Real Estate EUR 1558000', 'Business EUR 70000'],\n",
       " 'origins of wealth': ['employment', 'inheritance']}"
      ]
     },
     "execution_count": 104,
     "metadata": {},
     "output_type": "execute_result"
    }
   ],
   "source": [
    "filtered_data[\"profile\"] = transform_profile()"
   ]
  },
  {
   "cell_type": "code",
   "execution_count": 102,
   "metadata": {},
   "outputs": [
    {
     "ename": "KeyError",
     "evalue": "'Account Holder – Professional and Economic Background – Business'",
     "output_type": "error",
     "traceback": [
      "\u001b[0;31m---------------------------------------------------------------------------\u001b[0m",
      "\u001b[0;31mKeyError\u001b[0m                                  Traceback (most recent call last)",
      "Cell \u001b[0;32mIn[102], line 1\u001b[0m\n\u001b[0;32m----> 1\u001b[0m \u001b[43mfiltered_data\u001b[49m\u001b[43m[\u001b[49m\u001b[38;5;124;43m\"\u001b[39;49m\u001b[38;5;124;43mprofile\u001b[39;49m\u001b[38;5;124;43m\"\u001b[39;49m\u001b[43m]\u001b[49m\u001b[43m[\u001b[49m\u001b[38;5;124;43m\"\u001b[39;49m\u001b[38;5;124;43mAccount Holder – Professional and Economic Background – Business\u001b[39;49m\u001b[38;5;124;43m\"\u001b[39;49m\u001b[43m]\u001b[49m\n",
      "\u001b[0;31mKeyError\u001b[0m: 'Account Holder – Professional and Economic Background – Business'"
     ]
    }
   ],
   "source": [
    "filtered_data[\"profile\"][\"Account Holder – Professional and Economic Background – Business\"]\n"
   ]
  },
  {
   "cell_type": "code",
   "execution_count": null,
   "metadata": {},
   "outputs": [],
   "source": []
  },
  {
   "cell_type": "code",
   "execution_count": 106,
   "metadata": {},
   "outputs": [
    {
     "data": {
      "text/plain": [
       "{'name': 'Marcel Paul Reiter',\n",
       " 'address': {'city': 'Bruck an der Mur',\n",
       "  'street name': 'Enzersdorfer Straße',\n",
       "  'street number': '28',\n",
       "  'postal code': '4503'},\n",
       " 'country_of_domicile': 'Austria',\n",
       " 'birth_date': '1986-05-15',\n",
       " 'nationality': 'Austrian',\n",
       " 'passport_number': 'YK6562036',\n",
       " 'passport_issue_date': '2017-07-01',\n",
       " 'passport_expiry_date': '2027-06-30',\n",
       " 'gender': 'M',\n",
       " 'phone_number': '+43 695 185 2842',\n",
       " 'email_address': 'marcel.reiter@hotmail.com',\n",
       " 'marital_status': 'Married',\n",
       " 'secondary_school': {'name': 'Graz University of Technology',\n",
       "  'graduation_year': 2011},\n",
       " 'higher_education': [],\n",
       " 'employment_background': {'status': '',\n",
       "  'since': None,\n",
       "  'previous_profession': ''},\n",
       " 'aum': {'savings': 1858000.0},\n",
       " 'inheritance_details': {},\n",
       " 'real_estate_details': [],\n",
       " 'investment_risk_profile': 'Low',\n",
       " 'investment_horizon': 'Short',\n",
       " 'investment_experience': 'Experienced',\n",
       " 'type_of_mandate': 'Advisory',\n",
       " 'preferred_markets': ['Austria', 'Portugal'],\n",
       " 'currency': '',\n",
       " 'wealth': 'EUR 1.5m-5m',\n",
       " 'assets': ['Real Estate EUR 1558000', 'Business EUR 70000'],\n",
       " 'origins of wealth': ['employment', 'inheritance']}"
      ]
     },
     "execution_count": 106,
     "metadata": {},
     "output_type": "execute_result"
    }
   ],
   "source": [
    "filtered_data[\"profile\"]"
   ]
  },
  {
   "cell_type": "code",
   "execution_count": null,
   "metadata": {},
   "outputs": [
    {
     "data": {
      "text/plain": [
       "'Marcel Paul Reiter is a 38 year old Reservoir Engineer from Austria. He has a diverse background, having worked in various capacities and gained extensive knowledge in the field.\\nAt RAG Rohol-Aufsuchungs AG, Marcel Paul Reiter held the position of Drilling Engineer from 2013 to 2015, developing essential skills in the field.\\nAt RAG Rohol-Aufsuchungs AG, he held the position of Reservoir Engineer from 2015 till now, making significant contributions to the organization.\\nThe last position held by he came with a remuneration of 54000 EUR p.A., showcasing the value he brought to the organization.'"
      ]
     },
     "execution_count": 115,
     "metadata": {},
     "output_type": "execute_result"
    }
   ],
   "source": [
    "client_data[\"description\"][\"Occupation History\"]\n"
   ]
  },
  {
   "cell_type": "code",
   "execution_count": 116,
   "metadata": {},
   "outputs": [
    {
     "data": {
      "text/plain": [
       "{'Current employment and function': [{'options': ['Employee Since 2015'],\n",
       "   'selected': ['Employee Since 2015']},\n",
       "  'Name Employer RAG Rohol-Aufsuchungs AG',\n",
       "  ['Position Reservoir Engineer (54000 EUR p.A.)',\n",
       "   'including annual income and namecard'],\n",
       "  {'options': ['Self-Employed Since'], 'selected': []},\n",
       "  'Company Name',\n",
       "  '% of ownership'],\n",
       " None: [{'options': ['Currently not employed Since'], 'selected': []},\n",
       "  'Previous Profession:',\n",
       "  {'options': ['Retired Since'], 'selected': []},\n",
       "  'Previous Profession:',\n",
       "  {'options': ['Homemaker/housewife Since'], 'selected': []},\n",
       "  'Previous Profession:',\n",
       "  {'options': ['Student Since Country of study:'], 'selected': []},\n",
       "  'Previous Profession:',\n",
       "  {'options': ['Diplomat Since Home country of diplomatic mission:'],\n",
       "   'selected': []},\n",
       "  'Previous Profession:',\n",
       "  {'options': ['Military representative Since Home country of military establishment:'],\n",
       "   'selected': []},\n",
       "  'Previous Profession:',\n",
       "  {'options': ['Other Since'], 'selected': []},\n",
       "  'Previous Profession:',\n",
       "  {'options': ['Unknown'], 'selected': []}]}"
      ]
     },
     "execution_count": 116,
     "metadata": {},
     "output_type": "execute_result"
    }
   ],
   "source": [
    " client_data[\"profile\"][\"Account Holder – Professional and Economic Background – Business\"]"
   ]
  },
  {
   "cell_type": "code",
   "execution_count": null,
   "metadata": {},
   "outputs": [
    {
     "name": "stdout",
     "output_type": "stream",
     "text": [
      "[{'options': ['Employee Since 2015'], 'selected': ['Employee Since 2015']}, 'Name Employer RAG Rohol-Aufsuchungs AG', ['Position Reservoir Engineer (54000 EUR p.A.)', 'including annual income and namecard'], {'options': ['Self-Employed Since'], 'selected': []}, 'Company Name', '% of ownership'] {'options': ['Employee Since 2015'], 'selected': ['Employee Since 2015']}\n",
      "[{'options': ['Employee Since 2015'], 'selected': ['Employee Since 2015']}, 'Name Employer RAG Rohol-Aufsuchungs AG', ['Position Reservoir Engineer (54000 EUR p.A.)', 'including annual income and namecard'], {'options': ['Self-Employed Since'], 'selected': []}, 'Company Name', '% of ownership'] Name Employer RAG Rohol-Aufsuchungs AG\n",
      "[{'options': ['Employee Since 2015'], 'selected': ['Employee Since 2015']}, 'Name Employer RAG Rohol-Aufsuchungs AG', ['Position Reservoir Engineer (54000 EUR p.A.)', 'including annual income and namecard'], {'options': ['Self-Employed Since'], 'selected': []}, 'Company Name', '% of ownership'] ['Position Reservoir Engineer (54000 EUR p.A.)', 'including annual income and namecard']\n",
      "[{'options': ['Employee Since 2015'], 'selected': ['Employee Since 2015']}, 'Name Employer RAG Rohol-Aufsuchungs AG', ['Position Reservoir Engineer (54000 EUR p.A.)', 'including annual income and namecard'], {'options': ['Self-Employed Since'], 'selected': []}, 'Company Name', '% of ownership'] {'options': ['Self-Employed Since'], 'selected': []}\n",
      "[{'options': ['Employee Since 2015'], 'selected': ['Employee Since 2015']}, 'Name Employer RAG Rohol-Aufsuchungs AG', ['Position Reservoir Engineer (54000 EUR p.A.)', 'including annual income and namecard'], {'options': ['Self-Employed Since'], 'selected': []}, 'Company Name', '% of ownership'] Company Name\n",
      "[{'options': ['Employee Since 2015'], 'selected': ['Employee Since 2015']}, 'Name Employer RAG Rohol-Aufsuchungs AG', ['Position Reservoir Engineer (54000 EUR p.A.)', 'including annual income and namecard'], {'options': ['Self-Employed Since'], 'selected': []}, 'Company Name', '% of ownership'] % of ownership\n",
      "[{'options': ['Currently not employed Since'], 'selected': []}, 'Previous Profession:', {'options': ['Retired Since'], 'selected': []}, 'Previous Profession:', {'options': ['Homemaker/housewife Since'], 'selected': []}, 'Previous Profession:', {'options': ['Student Since Country of study:'], 'selected': []}, 'Previous Profession:', {'options': ['Diplomat Since Home country of diplomatic mission:'], 'selected': []}, 'Previous Profession:', {'options': ['Military representative Since Home country of military establishment:'], 'selected': []}, 'Previous Profession:', {'options': ['Other Since'], 'selected': []}, 'Previous Profession:', {'options': ['Unknown'], 'selected': []}] {'options': ['Currently not employed Since'], 'selected': []}\n",
      "[{'options': ['Currently not employed Since'], 'selected': []}, 'Previous Profession:', {'options': ['Retired Since'], 'selected': []}, 'Previous Profession:', {'options': ['Homemaker/housewife Since'], 'selected': []}, 'Previous Profession:', {'options': ['Student Since Country of study:'], 'selected': []}, 'Previous Profession:', {'options': ['Diplomat Since Home country of diplomatic mission:'], 'selected': []}, 'Previous Profession:', {'options': ['Military representative Since Home country of military establishment:'], 'selected': []}, 'Previous Profession:', {'options': ['Other Since'], 'selected': []}, 'Previous Profession:', {'options': ['Unknown'], 'selected': []}] Previous Profession:\n",
      "[{'options': ['Currently not employed Since'], 'selected': []}, 'Previous Profession:', {'options': ['Retired Since'], 'selected': []}, 'Previous Profession:', {'options': ['Homemaker/housewife Since'], 'selected': []}, 'Previous Profession:', {'options': ['Student Since Country of study:'], 'selected': []}, 'Previous Profession:', {'options': ['Diplomat Since Home country of diplomatic mission:'], 'selected': []}, 'Previous Profession:', {'options': ['Military representative Since Home country of military establishment:'], 'selected': []}, 'Previous Profession:', {'options': ['Other Since'], 'selected': []}, 'Previous Profession:', {'options': ['Unknown'], 'selected': []}] {'options': ['Retired Since'], 'selected': []}\n",
      "[{'options': ['Currently not employed Since'], 'selected': []}, 'Previous Profession:', {'options': ['Retired Since'], 'selected': []}, 'Previous Profession:', {'options': ['Homemaker/housewife Since'], 'selected': []}, 'Previous Profession:', {'options': ['Student Since Country of study:'], 'selected': []}, 'Previous Profession:', {'options': ['Diplomat Since Home country of diplomatic mission:'], 'selected': []}, 'Previous Profession:', {'options': ['Military representative Since Home country of military establishment:'], 'selected': []}, 'Previous Profession:', {'options': ['Other Since'], 'selected': []}, 'Previous Profession:', {'options': ['Unknown'], 'selected': []}] Previous Profession:\n",
      "[{'options': ['Currently not employed Since'], 'selected': []}, 'Previous Profession:', {'options': ['Retired Since'], 'selected': []}, 'Previous Profession:', {'options': ['Homemaker/housewife Since'], 'selected': []}, 'Previous Profession:', {'options': ['Student Since Country of study:'], 'selected': []}, 'Previous Profession:', {'options': ['Diplomat Since Home country of diplomatic mission:'], 'selected': []}, 'Previous Profession:', {'options': ['Military representative Since Home country of military establishment:'], 'selected': []}, 'Previous Profession:', {'options': ['Other Since'], 'selected': []}, 'Previous Profession:', {'options': ['Unknown'], 'selected': []}] {'options': ['Homemaker/housewife Since'], 'selected': []}\n",
      "[{'options': ['Currently not employed Since'], 'selected': []}, 'Previous Profession:', {'options': ['Retired Since'], 'selected': []}, 'Previous Profession:', {'options': ['Homemaker/housewife Since'], 'selected': []}, 'Previous Profession:', {'options': ['Student Since Country of study:'], 'selected': []}, 'Previous Profession:', {'options': ['Diplomat Since Home country of diplomatic mission:'], 'selected': []}, 'Previous Profession:', {'options': ['Military representative Since Home country of military establishment:'], 'selected': []}, 'Previous Profession:', {'options': ['Other Since'], 'selected': []}, 'Previous Profession:', {'options': ['Unknown'], 'selected': []}] Previous Profession:\n",
      "[{'options': ['Currently not employed Since'], 'selected': []}, 'Previous Profession:', {'options': ['Retired Since'], 'selected': []}, 'Previous Profession:', {'options': ['Homemaker/housewife Since'], 'selected': []}, 'Previous Profession:', {'options': ['Student Since Country of study:'], 'selected': []}, 'Previous Profession:', {'options': ['Diplomat Since Home country of diplomatic mission:'], 'selected': []}, 'Previous Profession:', {'options': ['Military representative Since Home country of military establishment:'], 'selected': []}, 'Previous Profession:', {'options': ['Other Since'], 'selected': []}, 'Previous Profession:', {'options': ['Unknown'], 'selected': []}] {'options': ['Student Since Country of study:'], 'selected': []}\n",
      "[{'options': ['Currently not employed Since'], 'selected': []}, 'Previous Profession:', {'options': ['Retired Since'], 'selected': []}, 'Previous Profession:', {'options': ['Homemaker/housewife Since'], 'selected': []}, 'Previous Profession:', {'options': ['Student Since Country of study:'], 'selected': []}, 'Previous Profession:', {'options': ['Diplomat Since Home country of diplomatic mission:'], 'selected': []}, 'Previous Profession:', {'options': ['Military representative Since Home country of military establishment:'], 'selected': []}, 'Previous Profession:', {'options': ['Other Since'], 'selected': []}, 'Previous Profession:', {'options': ['Unknown'], 'selected': []}] Previous Profession:\n",
      "[{'options': ['Currently not employed Since'], 'selected': []}, 'Previous Profession:', {'options': ['Retired Since'], 'selected': []}, 'Previous Profession:', {'options': ['Homemaker/housewife Since'], 'selected': []}, 'Previous Profession:', {'options': ['Student Since Country of study:'], 'selected': []}, 'Previous Profession:', {'options': ['Diplomat Since Home country of diplomatic mission:'], 'selected': []}, 'Previous Profession:', {'options': ['Military representative Since Home country of military establishment:'], 'selected': []}, 'Previous Profession:', {'options': ['Other Since'], 'selected': []}, 'Previous Profession:', {'options': ['Unknown'], 'selected': []}] {'options': ['Diplomat Since Home country of diplomatic mission:'], 'selected': []}\n",
      "[{'options': ['Currently not employed Since'], 'selected': []}, 'Previous Profession:', {'options': ['Retired Since'], 'selected': []}, 'Previous Profession:', {'options': ['Homemaker/housewife Since'], 'selected': []}, 'Previous Profession:', {'options': ['Student Since Country of study:'], 'selected': []}, 'Previous Profession:', {'options': ['Diplomat Since Home country of diplomatic mission:'], 'selected': []}, 'Previous Profession:', {'options': ['Military representative Since Home country of military establishment:'], 'selected': []}, 'Previous Profession:', {'options': ['Other Since'], 'selected': []}, 'Previous Profession:', {'options': ['Unknown'], 'selected': []}] Previous Profession:\n",
      "[{'options': ['Currently not employed Since'], 'selected': []}, 'Previous Profession:', {'options': ['Retired Since'], 'selected': []}, 'Previous Profession:', {'options': ['Homemaker/housewife Since'], 'selected': []}, 'Previous Profession:', {'options': ['Student Since Country of study:'], 'selected': []}, 'Previous Profession:', {'options': ['Diplomat Since Home country of diplomatic mission:'], 'selected': []}, 'Previous Profession:', {'options': ['Military representative Since Home country of military establishment:'], 'selected': []}, 'Previous Profession:', {'options': ['Other Since'], 'selected': []}, 'Previous Profession:', {'options': ['Unknown'], 'selected': []}] {'options': ['Military representative Since Home country of military establishment:'], 'selected': []}\n",
      "[{'options': ['Currently not employed Since'], 'selected': []}, 'Previous Profession:', {'options': ['Retired Since'], 'selected': []}, 'Previous Profession:', {'options': ['Homemaker/housewife Since'], 'selected': []}, 'Previous Profession:', {'options': ['Student Since Country of study:'], 'selected': []}, 'Previous Profession:', {'options': ['Diplomat Since Home country of diplomatic mission:'], 'selected': []}, 'Previous Profession:', {'options': ['Military representative Since Home country of military establishment:'], 'selected': []}, 'Previous Profession:', {'options': ['Other Since'], 'selected': []}, 'Previous Profession:', {'options': ['Unknown'], 'selected': []}] Previous Profession:\n",
      "[{'options': ['Currently not employed Since'], 'selected': []}, 'Previous Profession:', {'options': ['Retired Since'], 'selected': []}, 'Previous Profession:', {'options': ['Homemaker/housewife Since'], 'selected': []}, 'Previous Profession:', {'options': ['Student Since Country of study:'], 'selected': []}, 'Previous Profession:', {'options': ['Diplomat Since Home country of diplomatic mission:'], 'selected': []}, 'Previous Profession:', {'options': ['Military representative Since Home country of military establishment:'], 'selected': []}, 'Previous Profession:', {'options': ['Other Since'], 'selected': []}, 'Previous Profession:', {'options': ['Unknown'], 'selected': []}] {'options': ['Other Since'], 'selected': []}\n",
      "[{'options': ['Currently not employed Since'], 'selected': []}, 'Previous Profession:', {'options': ['Retired Since'], 'selected': []}, 'Previous Profession:', {'options': ['Homemaker/housewife Since'], 'selected': []}, 'Previous Profession:', {'options': ['Student Since Country of study:'], 'selected': []}, 'Previous Profession:', {'options': ['Diplomat Since Home country of diplomatic mission:'], 'selected': []}, 'Previous Profession:', {'options': ['Military representative Since Home country of military establishment:'], 'selected': []}, 'Previous Profession:', {'options': ['Other Since'], 'selected': []}, 'Previous Profession:', {'options': ['Unknown'], 'selected': []}] Previous Profession:\n",
      "[{'options': ['Currently not employed Since'], 'selected': []}, 'Previous Profession:', {'options': ['Retired Since'], 'selected': []}, 'Previous Profession:', {'options': ['Homemaker/housewife Since'], 'selected': []}, 'Previous Profession:', {'options': ['Student Since Country of study:'], 'selected': []}, 'Previous Profession:', {'options': ['Diplomat Since Home country of diplomatic mission:'], 'selected': []}, 'Previous Profession:', {'options': ['Military representative Since Home country of military establishment:'], 'selected': []}, 'Previous Profession:', {'options': ['Other Since'], 'selected': []}, 'Previous Profession:', {'options': ['Unknown'], 'selected': []}] {'options': ['Unknown'], 'selected': []}\n"
     ]
    },
    {
     "data": {
      "text/plain": [
       "{'status': '', 'since': None, 'previous_profession': ''}"
      ]
     },
     "execution_count": 111,
     "metadata": {},
     "output_type": "execute_result"
    }
   ],
   "source": [
    "extract_employment_history_manual(\n",
    "    client_data[\"profile\"][\"Account Holder – Professional and Economic Background – Business\"]\n",
    ")"
   ]
  },
  {
   "cell_type": "code",
   "execution_count": null,
   "metadata": {},
   "outputs": [
    {
     "data": {
      "text/plain": [
       "{'Surname': 'REITER',\n",
       " 'Code': 'AUT',\n",
       " 'Passport Number': 'YK6562036',\n",
       " 'Given Name': 'MARCEL PAUL',\n",
       " 'Birth Date': '15-May-1986',\n",
       " 'Citizenship': 'Austrian/OSTERREICH',\n",
       " 'Sex': 'M',\n",
       " 'Issue Date': '01-Jul-2017',\n",
       " 'Expiry Date': '30-Jun-2027',\n",
       " 'MRZ Line 1': 'P<ATREITER<MARCEL PAUL',\n",
       " 'MRZ Line 2': 'YK6562036AUT680515',\n",
       " 'Signature': '+ujo+ujo+ujo+ujo+ujo+ujo+ujo+ujo+ujo+ujo+ujo+ujo+ujo+ujo+ujo+ujo+ujo+ujo+ujo+ujo+ujo+ujo+ujo+ujo+ujo+ujo+ujo+ujo+ujo+ujo+ujo+ujo+ujo+ujo+ujo+ujo+ujo+ujo+ujo+ujo+ujo+ujo+ujo+ujo+ujo+ujo+ujo+ujo+ujo+ujo+ujo+ujo+ujo+ujo+ujo+ujo+ujo+ujo+ujo+ujo+ujo+ujo+ujo+ujo+ujo+ujo+ujo+ujo+ujo+ujo+ujo+ujo+ujo+ujo+ujo+ujo+ujo+ujo+ujo+ujo+ujo+ujo+ujo+ujo+ujo+ujo+ujo+ujo+ujo+ujo+ujo+ujo+ujo+ujo+ujo+ujo+ujo+ujo+ujo+ujo+ujo+ujo+ujo+ujo+ujo+ujo+ujo+ujo+ujo+ujo+ujo+ujo+ujo+ujo+ujo+ujo+ujo+ujo+ujo+ujo+ujo+ujo+ujo+ujo+ujo+ujo+ujo+ujo+ujo+ujo+ujo+ujo+ujo+ujo+ujo+ujo+ujo+ujo+ujo+ujo+ujo+ujo+ujo+ujo+ujo+ujo+ujo4dDQPDc3FxUV4dDQgHd3EA8PenFx49PTPDc3EhAQxLa2+ujo+ujo+ujo+ujo+ujo+ujo+ujo+ujo+ujo+ujo+ujo+ujo+ujo+ujo+ujo+ujo6dnZKygoc2pq+ujo+ujo+ujo+ujo+ujo+ujo+ujo+ujo+ujo+ujo+ujo+ujo+ujo+ujo+ujo+ujo+ujo+ujo+ujo+ujo+ujo+ujo+ujo+ujo+ujo+ujo+ujo+ujo+ujo+ujo+ujo+ujo+ujo+ujo+ujo+ujo+ujo+ujo+ujo+ujo+ujo+ujo+ujo+ujo+ujo+ujo+ujo+ujo+ujo+ujo+ujo+ujo+ujo+ujo+ujo+ujo+ujo+ujo+ujo+ujo+ujo+ujo+ujo+ujo+ujo+ujo+ujo+ujo+ujo+ujo+ujo+ujo+ujo+ujo+ujo+ujo+ujo+ujo+ujo+ujo+ujo+ujo+ujo+ujo+ujo+ujo+ujo+ujo+ujo+ujoPzo6oZWVGxkZcWlpU01NlImJGRgYW1VVp5ubKicncGho+ujo+ujo+ujo+ujo+ujo+ujo+ujo+ujo+ujo+ujo+ujo+ujo+ujo+ujo+ujo+ujofXR0Zl9fKicn+ujo+ujo+ujot6qqODQ0CgkJGhkZjIKC+ujo+ujo+ujo+ujo+ujo+ujo+ujo+ujo9uTkS0ZGVU9P+ujo+ujo+ujo+ujo+ujo+ujo+ujo+ujo+ujo+ujo+ujo+ujo+ujo+ujo+ujo+ujo+ujo+ujo+ujo+ujo+ujo+ujo+ujo+ujo+ujo+ujo+ujo+ujo+ujo+ujo+ujo+ujo+ujo+ujo+ujo+ujo+ujo+ujo+ujo+ujo+ujo+ujo+ujo+ujo+ujo+ujo+ujo+ujo+ujo+ujo+ujo+ujo+ujo+ujo+ujo+ujo+ujo+ujo+ujo+ujo+ujo+ujo+ujo+ujo+ujo+ujo+ujo+ujo+ujo+ujo+ujoqZyc+ujoHx0dKicn6tnZxri4DAsLa2Nj+ujoPDc3eG9v+ujo+ujo+ujo+ujo+ujo+ujo+ujo+ujo+ujo+ujo+ujo+ujo+ujo+ujo+ujo+ujoIyEhxri4NTEx+ujo+ujosKSkGxkZmo+Py7y8dWxsAAAA0cLC+ujo+ujo+ujo+ujo+ujo+ujo+ujomI2NWlRUIyEh+ujo+ujo+ujo+ujo+ujo+ujo+ujo+ujo+ujo+ujo+ujo+ujo+ujo+ujo+ujo+ujo+ujo+ujo+ujo+ujo+ujo+ujo+ujo+ujo+ujo+ujo+ujo+ujo+ujo+ujo+ujo+ujo+ujo+ujo+ujo+ujo+ujo+ujo+ujo+ujo+ujo+ujo+ujo+ujo+ujo+ujo+ujo+ujo+ujo+ujo+ujo+ujo+ujo+ujo+ujo+ujo+ujo+ujo+ujo+ujo+ujo+ujo+ujo+ujo+ujo+ujo+ujo+ujo+ujo+ujo+ujo+ujo+efnBwYGYFlZ+ujoq56eAAAAxLa2+ujoFBISnJGR+ujo+ujo+ujo+ujo+ujo+ujo+ujo+ujo+ujo+ujo+ujo+ujo+ujo+ujo+ujo4dHRFBISwbOzX1hY+ujo+ObmIB4ew7W1OTU1lImJ2srKAAAAxri4+ujo+ujo+ujo+ujo8N/fGhkZrqGhQz4+nZKSS0VF+ujo+ujo+ujo+ujo+ujo+ujo+ujo+ujo+ujo+ujo+ujo+ujo+ujo+ujo+ujo+ujo+ujo+ujo+ujo+ujo+ujo+ujo+ujo+ujo+ujo+ujo+ujo+ujo+ujo+ujo+ujo+ujo+ujo+ujo+ujo+ujo+ujo+ujo+ujo+ujo+ujo+ujo+ujo+ujo+ujo+ujo+ujo+ujo+ujo+ujo+ujo+ujo+ujo+ujo+ujo+ujo+ujo+ujo+ujo+ujo+ujo+ujo+ujo+ujo+ujo+ujo+ujo+ujo+ujo+ujo+ujo+ujo4dHRAAAAqZyc+ujoh35+EA8P+efn4M/PAAAAybu7+ujoioCAEhAQ+ujo+ujo+ujo+ujo+ujo+ujo+ujo+ujo+ujo+ujo+ujo+ujos6amOTU1fHNzppqa+ujow7W1NzMz9uTkBwYGqJycYVpaNjIy9uTk+ujo+ujo+ujo+ujo+ujo5NTU9uTkDQwMSEJCyru7+ujo+ujo+ujo+ujo+ujo+ujo+ujo+ujo+ujo+ujo+ujo+ujo+ujo+ujo+ujo+ujo+ujo+ujo+ujo+ujo+ujo+ujo+ujo+ujo+ujo+ujo+ujo+ujo+ujo+ujo+ujo+ujo+ujo+ujo+ujo+ujo+ujo+ujo+ujo+ujo+ujo+ujo+ujo+ujo+ujo+ujo+ujo+ujo+ujo+ujo+ujo+ujo+ujo+ujo+ujo+ujo+ujo+ujo+ujo+ujo+ujo+ujo+ujo+ujo+ujo+ujo+ujo+ujo+ujo+ujo+ujo+ujowLKyAAAA3c3N+ujoYltbRD8/+ujotaioAwMD8uHhvrGxCgkJgXh4gnl51sbGOTU1l4yMFhQU3MzMR0JCFRMT18fHSkREEA8PwrS0k4iIS0ZGNDAw8uHh+ujolYqKbmZmVlBQAAAAAAAAXFZW6dnZ+ujo9ePjSkREEA8PwrS01sbGLisrFxUVAAAAAAAADw4O9OPjSkREEA8PwrS01sbGOTU1l4yMFhQU5NTU+ujo+ujo+ujo+ujo+ujo+ujo+ujo+ujo+ujo+ujo+ujo+ujo+ujo+ujo+ujo+ujo+ujo+ujo+ujo+ujo+ujo+ujo+ujo+ujo+ujo+ujo+ujo+ujo+ujo+ujo+ujo+ujo+ujo+ujo+ujo+ujo+ujo+ujo+ujo+ujo+ujo+ujo+ujo+ujo+ujo+ujo+ujo+ujo+ujo+ujo+ujo+ujo+ujo+ujo+ujo+ujo+ujo+ujo+ujo+ujo+ujo+ujo+ujonJGRDQwM+ujo+ujoOzc3bGRk+ujolouLHBoa+ujoYFlZYltbkIaGKSYmmI2NODQ0OjY2AAAAZ2BgMC0tTklJaGBgRD8/YFlZjIKCgnl5FBISe3Jy+ujo+ujog3p6f3Z2raCgCwoKa2NjGBYW797e+ujojIKCRD8/YFlZjIKCmY6OPzo6tqmpExER18fH6tnZjIKCRD8/YFlZjIKCmI2NODQ0OjY2AAAAwLKy0cLC+ujo+ujo+ujo+ujo+ujo+ujo+ujo+ujo+ujo+ujo+ujo+ujo+ujo+ujo+ujo+ujo+ujo+ujo+ujo+ujo+ujo+ujo+ujo+ujo+ujo+ujo+ujo+ujo+ujo+ujo+ujo+ujo+ujo+ujo+ufn+ufn+ufn+ufn+ufn+ufn+ufn+ufn+ufn+ufn+ufn+ufn+ufn+ufn+ufn+ufn+ufn+ufn+ufn+ufn+ufn+ufn+ufn+ufn+ufn+ufn+ufn+ufnfnV1Lisr+ufn+ufnGhgYjoOD+ufnn5OTCwoKvK6uFRMTWFJSOjU1TkhId25uAgICxLW1Dg0NBgUFc2pq0cHBU01NNzMzKicn28rKbmVlFhQU7dvb1MTE9+TkmY2NcmlplImJKygo7NraCQgInpKS+ufnQTw8Pzo6Kicn28rKX1hYZl5exba2DQwM+ufn+ufnS0VFQDs7Kicn28rKZV1dAgICxLW1Dg0NFBIS2cjI+ufn+ufn+ufn+ufn+ufn+ufn+ufn+ufn+ufn+ufn+ufn+ufn+ufn+ufn+ufn+ufn+ufn+ufn+ufn+ufn+ufn+ufn+ufn+ufn+ufn+ufn+ufn+ufn+ufn+ufn+ufn+ufn+ufn+ufn+ufn+ufn+ufn+ufn+ufn+ufn+ufn+ufn+ufn+ufn+ufn+ufn+ufn+ufn+ufn+ufn+ufn+ufn+ufn+ufn+ufn+ufn+ufn+ufn+ufn+ufn+ufn+ufnjYKCZFxc+ufn+ufnLSoqwrOz+ufn7NraNDAwEQ8PamJiEQ8PfXR0UEpKJSIiGRcX+ufn4tHRW1RUS0ZGyLm5HRsbGRcXuaurWVJSS0VFLCkpt6mpKicn9eLiy7y8JyQkWVJSTUhI+ufnX1hYLCkpva+vFBISJSIiuaurWVJSMS0tWlNTR0FBBgUFq56ehXt7LSoqJSIiuaurWVJSMy8vIR8f+ufn4tHR8N7e+ufn+ufn+ufn+ufn+ufn+ufn+ufn+ufn+ufn+ufn+ufn+ufn+ufn+ufn+ufn+ufn+ufn+ufn+ufn+ufn+ufn+ufn+ufn+ufn+ufn+ufn+ufn+ufn+ufn+ufn+ufn+ufn+ufn+ufn+ufn++fn++fn++fn++fn++fn++fn++fn++fn++fn++fn++fn++fn++fn++fn++fn++fn++fn++fn++fn++fn++fn++fn++fn++fn++fn++fn++fn++fn++fn++fn++fn++fn++fn++fn++fn++fn++fn++fn++fn++fn++fnGxgYTUdHcGdn++fn++fn0sHBJiMjEA4ObWVlLysrCwoKX1hY6dfXOjU1GxgYv7Cw++fn++fncGdnCwoKo5aW++fn3s3NJCIiHhsbqZycLysrCwoKX1hYs6WlDg0NfnR0hnt7DQwMSEJC0L+/LysrCwoKX1hYmIyMcGdn++fn++fn++fn++fn++fn++fn++fn++fn++fn++fn++fn++fn++fn++fn++fn++fn++fn++fn++fn++fn++fn++fn++fn++fn++fn++fn++fn++fn++fn++fn++fn++fn++fn++fn++fn++fn++fn++fn++fn++fn++fn++fn++fn++fn++fn++fn++fn++fn++fn++fn++fn++fn++fn++fn++fn++fn++fn++fn++fn++fn++fn++fn++fn++fn++fn++fn++fn++fn++fn++fn++fn++fn++fn++fn++fn++fn++fn++fn++fn++fn++fn++fn++fn++fn++fn++fn++fn++fn++fn++fn++fn++fn++fn++fn++fn++fn++fn++fn++fn++fn++fn++fn++fn++fn++fn++fn++fn++fn++fn++fn++fn++fn++fn++fn++fn++fn++fn++fn++fn++fn++fn++fn++fn++fn++fn++fn++fn++fn++fn++fn++fn++fn++fn++fn++fn++fn++fn++fn++fn++fn++fn++fn++fn++fn++fn++fn++fn++fn++fn++fn++fn++fn++fn++fn++fn++fn++fn++fn++fn++fn++fn++fn++fn++fn++fn++fn++fn++fn++fn++fn++fn++fn++fn++fn++fn++fn++fn++fn++fn++fn++fn++fn++fn++fn++fn++fn++fn++fn++fn++fn++fn++fn++fn++fn++fn++fn++fn++fn++fn++fn++fn++fn++fn++fn++fn++fn++fn++fn++fn++fn++fn++fn++fn++fn++fn++fn++fn++fn++fn++fn++fn++fn++fn++fn++fn++fn++fn++fn++fn++fn++fn++fn++fn++fn++fn++fn++fn++fn++fn++fn++fn++fn++fn++fn++fn++fn++fn++fn++fn++fn++fn++fn++fn++fn++fn++fn++fn++fn++fn++fn++fn++fn++fn++fn++fn++fn++fn++fn++fn++fn++fn++fn++fn++fn++fn++fn++fn++fn++fn++fn++fn++fn++fn++fn++fn++fn++fn++fn++fn++fn++fn++fn++fn++fn++fn++fn++fn++fn++fn++fn++fn++fn++fn++fn++fn++fn++fn++fn++fn++fn++fn++fn++fn++fn++fn++fn++fn++fn++fn++fn++fn++fn++fn++fn++fn++fn++fn++fn++fn++fn++fn++fn++fn++fn++fn++fn++fn++fn++fn++fn++fn++fn++fn++fn++fn++fn++fn++fn++fn++fn++fn++fn++fn++fn++fn++fn++fn++fn++fn++fn++fn++fn++fn++fn++fn++fn++fn++fn++fn++fn++fn++fn++fn++fn++fn++fn++fn++fn++fn++fn++fn++fn++fn++fn++fn++fn++fn++fn++fn++fn++fn++fn++fn++fn++fn++fn++fn++fn++fn++fn++fn++fn++fn++fn++fn++fn++fn++fn++fn++fn++fn++fn++fn++fn++fn++fn++fn++fn++fn++fn++fn++fn++fn++fn++fn++fn++fn++fn++fn++fn++fn++fn++fn++fn++fn++fn++fn++fn++fn++fn++fn++fn++fn++fn++fn++fn++fn++fn++fn++fn++fn++fn++fn++fn++fn++fn++fn++fn++fn++fn++fn++fn++fn++fn++fn++fn++fn++fn++fn++fn++fn++fn++fn++fn++fn++fn++fn++fn++fn++fn++fn++fn++fn++fn++fn++fn++fn++fn++fn++fn++fn++fn++fn++fn++fn++fn++fn++fn++fn++fn++fn++fn++fn++fn++fn++fn++fn++fn++fn++fn++fn++fn++fn++fn++fn++fn++fn++fn++fn++fn++fn++fn++fn++fn++fn++fn++fn++fn++fn++fn++fn++fn++fn++fn++fn++fn++fn++fn++fn++fn++fn++fn++fn++fn++fn++fn++fn++fn++fn++fn++fn++fn++fn++fn++fn++fn++fn++fn++fn++fn++fn++fn++fn++fn++fn++fn++fn++fn++fn++fn++fn++fn++fn++fn++fn++fn++fn++fn++fn++fn++fn++fn++fn++fn++fn++fn++fn++fn++fn++fn++fn++fn++fn++fn++fn++fn++fn++fn++fn++fn++fn++fn++fn++fn++fn++fn++fn++fn++fn++fn++fn++fn++fn++fn++fn++fn++fn++fn++fn++fn++fn++fn++fn++fn++fn++fn++fn++fn++fn++fn++fn++fn++fn++fn++fn++fn++fn++fn++fn++fn++fn++fn++fn++fn++fn++fn++fn++fn++fn++fn++fn++fn++fn++fn++fn++fn++fn++fn++fn++fn++fn++fn++fn++fn++fn++fn++fn++fn++fn++fn++fn++fn++fn++fn++fn++fn++fn++fn++fn++fn++fn++fn++fn++fn++fn++fn++fn++fn++fn++fn++fn++fn++fn++fn++fn++fn++fn++fn++fn++fn++fn++fn++fn++fn++fn++fn++fn++fn++fn++fn++fn++fn++fn++fn++fn++fn++fn++fn++fn++fn++fn++fn++fn++fn++fn++fn++fn++fn++fn++fn++fn++fn++fn++fn++fn++fn++fn++fn++fn++fn++fn++fn++fn++fn++fn++fn++fn++fn++fn++fn++fn++fn++fn++fn++fn++fn++fn++fn++fn++fn++fn++fn++fn++fn++fn++fn++fn++fn++fn++fn++fn++fn++fn++fn++fn++fn++fn++fn++fn++fn++fn++fn++fn++fn++fn++fn++fn++fn++fn++fn++fn++fn++fn++fn++fn++fn++fn++fn++fn++fn++fn++fn++fn++fn++fn++fn++fn++fn++fn++fn++fn++fn++fn++fn++fn++fn++fn++fn++fn++fn++fn++fn++fn++fn++fn++fn++fn++fn++fn++fn++fn++fn++fn++fn++fn++fn++fn++fn++fn++fn++fn++fn++fn++fn++fn++fn++fn++fn++fn++fn++fn++fn++fn++fn++fn++fn++fn++fn++fn++fn++fn++fn++fn++fn++fn++fn++fn++fn++fn++fn++fn++fn++fn++fn++fn++fn++fn++fn++fn++fn++fn++fn++fn++fn++fn++fn++fn++fn++fn++fn++fn++fn++fn++fn++fn++fn++fn++fn++fn++fn++fn++fn++fn++fn++fn++fn++fn++fn++fn++fn++fn++fn++fn++fn++fn++fn++fn++fn++fn++fn++fn++fn++fn++fn++fn++fn++fn++fn++fn++fn++fn++fn++fn++fn++fn++fn++fn++fn++fn++fn++fn++fn++fn++fn++fn++fn++fn++fn++fn++fn++fn++fn++fn++fn++fn++fn++fn++fn++fn++fn++fn++fn++fn++fn++fn++fn++fn++fn++fn++fn++fn++fn++fn++fn++fn++fn++fn++fn++fn++fn++fn++fn++fn++fn++fn++fn++fn++fn++fn++fn++fn++fn++fn++fn++fn++fn++fn++fn++fn++fn++fn++fn++fn++fn++fn++fn++fn++fn++fn++fn++fn++fn++fn++fn++fn++fn++fn++fn++fn++fn++fn++fn++fn++fn++fn++fn++fn++fn++fn++fn++fn++fn++fn++fn++fn++fn++fn++fn++fn++fn++fn++fn++fn++fn++fn++fn++fn++fn++fn++fn++fn++fn++fn++fn++fn++fn++fn++fn++fn++fn++fn++fn++fn++fn++fn++fn++fn++fn++fn++fn++fn++fn++fn++fn++fn++fn++fn++fn++fn++fn++fn++fn++fn++fn++fn++fn++fn++fn++fn++fn++fn++fn++fn++fn++fn++fn++fn++fn++fn++fn++fn++fn++fn++fn++fn++fn++fn++fn++fn++fn++fn++fn++fn++fn++fn++fn++fn++fn++fn++fn++fn++fn++fn++fn++fn++fn++fn++fn++fn++fn++fn++fn++fn++fn++fn++fn++fn++fn++fn++fn++fn++fn++fn++fn++fn++fn++fn++fn++fn++fn++fn++fn++fn++fn++fn++fn++fn++fn++fn++fn++fn++fn++fn++fn++fn++fn++fn++fn++fn++fn++fn++fn++fn++fn++fn++fn++fn++fn++fn++fn++fn++fn++fn++fn++fn++fn++fn++fn++fn++fn++fn++fn++fn++fn++fn++fn++fn++fn++fn++fn++fn++fn++fn++fn++fn++fn++fn++fn++fn++fn++fn++fn++fn++fn++fn++fn++fn++fn++fn++fn++fn++fn++fn++fn++fn++fn++fn++fn++fn++fn++fn++fn++fn++fn++fn++fn++fn++fn++fn++fn++fn++fn++fn++fn++fn++fn++fn++fn++fn++fn++fn++fn++fn++fn++fn++fn++fn++fn++fn++fn++fn++fn++fn++fn++fn++fn++fn++fn++fn++fn++fn++fn++fn++fn++fn++fn++fn++fn++fn++fn++fn++fn++fn++fn++fn++fn++fn++fn++fn++fn++fn++fn++fn++fn++fn++fn++fn++fn++fn++fn++fn++fn++fn++fn++fn++fn++fn++fn++fn++fn++fn++fn++fn++fn++fn++fn++fn++fn++fn++fn++fn++fn++fn++fn++fn++fn++fn++fn++fn++fn++fn++fn++fn++fn++fn++fn++fn++fn++fn++fn++fn++fn++fn++fn++fn++fn++fn++fn++fn++fn++fn++fn++fn++fn++fn++fn++fn++fn++fn++fn++fn++fn++fn++fn++fn++fn++fn++fn++fn++fn++fn++fn++fn++fn++fn++fn++fn++fn++fn++fn++fn++fn++fn++fn++fn++fn++fn++fn++fn++fn++fn++fn++fn++fn++fn++fn++fn++fn++fn++fn++fn++fn++fn++fn++fn++fn++fn++fn++fn++fn++fn++fn++fn++fn++fn++fn++fn++fn++fn++fn++fn++fn++fn++fn++fn++fn++fn++fn++fn++fn++fn++fn++fn++fn++fn++fn++fn++fn++fn++fn++fn++fn++fn++fn++fn++fn++fn++fn++fn++fn++fn++fn++fn++fn++fn++fn++fn++fn++fn++fn++fn++fn++fn++fn++fn++fn++fn++fn++fn++fn++fn++fn++fn++fn++fn++fn++fn++fn++fn++fn++fn++fn++fn++fn++fn++fn++fn++fn++fn++fn++fn++fn++fn++fn++fn++fn++fn++fn++fn++fn++fn++fn++fn++fn++fn++fn++fn++fn++fn++fn++fn++fn++fn++fn++fn++fn++fn++fn++fn++fn++fn++fn++fn++fn++fn++fn++fn++fn++fn++fn++fn++fn++fn++fn++fn++fn++fn++fn++fn++fn++fn++fn++fn++fn++fn++fn++fn++fn++fn++fn++fn++fn++fn++fn++fn++fn++fn++fn++fn++fn++fn++fn++fn++fn++fn++fn++fn++fn++fn++fn++fn++fn++fn++fn++fn++fn++fn++fn++fn++fn++fn++fn++fn++fn++fn++fn++fn++fn++fn++fn++fn++fn++fn++fn++fn++fn++fn++fn++fn++fn++fn++fn++fn++fn++fn++fn++fn++fn++fn++fn++fn++fn++fn++fn++fn++fn++fn++fn++fn++fn++fn++fn++fn++fn++fn++fn++fn++fn++fn++fn++fn++fn++fn++fn++fn++fn++fn++fn++fn++fn++fn++fn++fn++fn++fn++fn++fn++fn++fn++fn++fn++fn++fn++fn++fn++fn++fn++fn++fn++fn++fn++fn++fn++fn++fn++fn++fn++fn++fn++fn++fn++fn++fn++fn++fn++fn++fn++fn++fn++fn++fn++fn++fn++fn++fn++fn++fn++fn++fn++fn++fn++fn++fn++fn++fn++fn++fn++fn++fn++fn++fn++fn++fn++fn++fn++fn++fn++fn++fn++fn++fn++fn++fn++fn++fn++fn++fn++fn++fn++fn++fn++fn++fn++fn++fn++fn++fn++fn++fn++fn++fn++fn++fn++fn++fn++fn++fn++fn++fn++fn++fn++fn++fn++fn++fn++fn++fn++fn++fn++fn++fn++fn++fn++fn++fn++fn++fn++fn++fn++fn++fn++fn++fn++fn++fn++fn++fn++fn++fn++fn++fn++fn++fn++fn++fn++fn++fn++fn++fn++fn++fn++fn++fn++fn++fn++fn++fn++fn++fn++fn++fn++fn++fn++fn++fn++fn++fn++fn++fn++fn++fn++fn++fn++fn++fn++fn++fn++fn++fn++fn++fn++fn++fn++fn++fn++fn++fn++fn++fn++fn++fn++fn++fn++fn++fn++fn++fn++fn++fn++fn++fn++fn++fn++fn++fn++fn++fn++fn++fn++fn++fn++fn++fn++fn++fn++fn++fn++fn++fn++fn++fn++fn++fn++fn++fn++fn++fn++fn++fn++fn++fn++fn++fn++fn++fn++fn++fn++fn++fn++fn++fn++fn++fn++fn++fn++fn++fn++fn++fn++fn++fn++fn++fn++fn++fn++fn++fn++fn++fn++fn++fn++fn++fn++fn++fn++fn++fn++fn++fn++fn++fn++fn++fn++fn++fn++fn++fn++fn++fn++fn++fn++fn++fn++fn++fn++fn++fn++fn++fn++fn++fn++fn++fn++fn++fn++fn++fn++fn++fn++fn++fn++fn++fn++fn++fn++fn++fn++fn++fn++fn++fn++fn++fn++fn++fn++fn++fn++fn++fn++fn++fn++fn++fn++fn++fn++fn++fn++fn++fn++fn++fn++fn++fn++fn++fn++fn++fn++fn++fn++fn++fn++fn++fn++fn++fn++fn++fn++fn++fn++fn++fn++fn++fn++fn++fn++fn++fn++fn++fn++fn++fn++fn++fn++fn++fn++fn++fn++fn++fn++fn++fn++fn++fn++fn++fn++fn++fn++fn++fn++fn++fn++fn++fn++fn++fn++fn++fn++fn++fn++fn++fn++fn++fn++fn++fn++fn++fn++fn++fn++fn++fn++fn++fn++fn++fn++fn++fn++fn++fn++fn++fn++fn++fn++fn++fn++fn++fn++fn++fn++fn++fn++fn++fn++fn++fn++fn++fn++fn++fn++fn++fn++fn++fn++fn++fn++fn++fn++fn++fn++fn++fn++fn++fn++fn++fn++fn++fn++fn++fn++fn++fn++fn++fn++fn++fn++fn++fn++fn++fn++fn++fn++fn++fn++fn++fn++fn++fn++fn++fn++fn++fn++fn++fn++fn++fn++fn++fn++fn++fn++fn++fn++fn++fn++fn++fn++fn++fn++fn++fn++fn++fn++fn++fn++fn++fn++fn++fn++fn++fn++fn++fn++fn++fn++fn++fn++fn++fn++fn++fn++fn++fn++fn++fn++fn++fn++fn++fn++fn++fn++fn++fn++fn++fn++fn++fn++fn++fn++fn++fn++fn++fn++fn++fn++fn++fn++fn++fn++fn++fn++fn++fn++fn++fn++fn++fn++fn++fn++fn++fn++fn++fn++fn++fn++fn++fn++fn++fn++fn++fn++fn++fn++fn++fn++fn++fn++fn++fn++fn++fn++fn++fn++fn++fn++fn++fn++fn++fn++fn++fn++fn++fn++fn++fn++fn++fn++fn++fn++fn++fn++fn++fn++fn++fn++fn++fn++fn++fn++fn++fn++fn++fn++fn++fn++fn++fn++fn++fn++fn++fn++fn++fn++fn++fn++fn++fn++fn++fn++fn++fn++fn++fn++fn++fn++fn++fn++fn++fn++fn++fn++fn++fn++fn++fn++fn++fn++fn++fn++fn++fn++fn++fn++fn++fn++fn++fn++fn++fn++fn++fn++fn++fn++fn++fn++fn++fn++fn++fn++fn++fn++fn++fn++fn++fn++fn++fn++fn++fn++fn++fn++fn++fn++fn++fn++fn++fn++fn++fn++fn++fn++fn++fn++fn++fn++fn++fn++fn++fn++fn/Ofn/Ofn/Ofn/Ofn/Ofn/Ofn/Ofn/Ofn/Ofn/Ofn/Ofn/Ofn/Ofn/Ofn/Ofn/Ofn/Ofn/Ofn/Ofn/Ofn/Ofn/Ofn/Ofn/Ofn/Ofn/Ofn/Ofn/Ofn/Ofn/Ofn/Ofn/Ofn/Ofn/Ofn/Ofn/Ofn/Ofn/Ofn/Ofn/Ofn/Ofn/Ofn/Ofn/Ofn/Ofn/Ofn/Ofn/Ofn/Ofn/Ofn/Ofn/Ofn/Ofn/Ofn/Ofn/Ofn/Ofn/Ofn/Ofn/Ofn/Ofn/Ofn/Ofn/Ofn/Ofn/Ofn/Ofn/Ofn/Ofn/Ofn/Ofn/Ofn/Ofn/Ofn/Ofn/Ofn/Ofn/Ofn/Ofn/Ofn/Ofn/Ofn/Ofn/Ofn/Ofn/Ofn/Ofn/Ofn/Ofn/Ofn/Ofn/Ofn/Ofn/Ofn/Ofn/Ofn/Ofn/Ofn/Ofn/Ofn/Ofn/Ofn/Ofn/Ofn/Ofn/Ofn/Ofn/Ofn/Ofn/Ofn/Ofn/Ofn/Ofn/Ofn/Ofn/Ofn/Ofn/Ofn/Ofn/Ofn/Ofn/Ofn/Ofn/Ofn/Ofn/Ofn/Ofn/Ofn/Ofn/Ofn/Ofn/Ofn/Ofn/Ofn/Ofn/Ofn/Ofn/Ofn/Ofn/Ofn/Ofn/Ofn/Ofn/Ofn/Ofn/Ofn/Ofn/Ofn/Ofn/Ofn/Ofn/Ofn/Ofn/Ofn/Ofn/Ofn/Ofn/Ofn/Ofn/Ofn/Ofn/Ofn/Ofn/Ofn/Ofn/Ofn/Ofn/Ofn/Ofn/Ofn/Ofn/Ofn/Ofn/Ofn/Ofn/Ofn/Ofn/Ofn/Ofn/Ofn/Ofn/Ofn/Ofn/Ofn/Ofn/Ofn/Ofn/Ofn/Ofn/Ofn/Ofn/Ofn/Ofn/Ofn/Ofn/Ofn/Ofn/Ofn/Ofn/Ofn/Ofn/Ofn/Ofn/Ofn/Ofn/Ofn/Ofn/Ofn/Ofn/Ofn/Ofn/Ofn/Ofn/Ofn/Ofn/Ofn/Ofn/Ofn/Ofn/Ofn/Ofn/Ofn/Ofn/Ofn/Ofn/Ofn/Ofn/Ofn/Ofn/Ofn/Ofn/Ofn/Ofn/Ofn/Ofn/Ofn/Ofn/Ofn/Ofn/Ofn'}"
      ]
     },
     "execution_count": 149,
     "metadata": {},
     "output_type": "execute_result"
    }
   ],
   "source": [
    "client_data[\"passport\"]"
   ]
  },
  {
   "cell_type": "code",
   "execution_count": 126,
   "metadata": {},
   "outputs": [],
   "source": [
    "from jb_onboarding.preprocessing import transform_profile, extract_employment_history_manual\n",
    "\n",
    "filtered_data = transform_profile(client_data[\"profile\"])"
   ]
  },
  {
   "cell_type": "code",
   "execution_count": null,
   "metadata": {},
   "outputs": [
    {
     "name": "stdout",
     "output_type": "stream",
     "text": [
      "Surname mismatch: REITER vs P\n"
     ]
    }
   ],
   "source": [
    "# Process names\n",
    "passport_surname = \"REITER\"\n",
    "passport_given = \"MARCEL PAUL\"\n",
    "\n",
    "# MRZ processing\n",
    "mrz_parts = re.split(r\"[<>]+\", \"ATREITER<MARCEL PAUL\")  # After removing P<AT\n",
    "# Result: ['ATREITER', 'MARCEL PAUL']\n",
    "\n",
    "mrz_surname = mrz_parts[0]  # \"ATREITER\" (should be \"REITER\")\n",
    "mrz_given = \" \".join(mrz_parts[1:])  # \"MARCEL PAUL\"\n",
    "\n",
    "print(f\"Surname mismatch: {passport_surname} vs {mrz_surname}\")\n",
    "# Output: Surname mismatch: REITER vs ATREITER"
   ]
  },
  {
   "cell_type": "code",
   "execution_count": null,
   "metadata": {},
   "outputs": [
    {
     "data": {
      "text/plain": [
       "{'Surname': 'REITER',\n",
       " 'Code': 'AUT',\n",
       " 'Passport Number': 'YK6562036',\n",
       " 'Given Name': 'MARCEL PAUL',\n",
       " 'Birth Date': '15-May-1986',\n",
       " 'Citizenship': 'Austrian/OSTERREICH',\n",
       " 'Sex': 'M',\n",
       " 'Issue Date': '01-Jul-2017',\n",
       " 'Expiry Date': '30-Jun-2027',\n",
       " 'MRZ Line 1': 'P<ATREITER<MARCEL PAUL',\n",
       " 'MRZ Line 2': 'YK6562036AUT680515',\n",
       " 'Signature': '+ujo+ujo+ujo+ujo+ujo+ujo+ujo+ujo+ujo+ujo+ujo+ujo+ujo+ujo+ujo+ujo+ujo+ujo+ujo+ujo+ujo+ujo+ujo+ujo+ujo+ujo+ujo+ujo+ujo+ujo+ujo+ujo+ujo+ujo+ujo+ujo+ujo+ujo+ujo+ujo+ujo+ujo+ujo+ujo+ujo+ujo+ujo+ujo+ujo+ujo+ujo+ujo+ujo+ujo+ujo+ujo+ujo+ujo+ujo+ujo+ujo+ujo+ujo+ujo+ujo+ujo+ujo+ujo+ujo+ujo+ujo+ujo+ujo+ujo+ujo+ujo+ujo+ujo+ujo+ujo+ujo+ujo+ujo+ujo+ujo+ujo+ujo+ujo+ujo+ujo+ujo+ujo+ujo+ujo+ujo+ujo+ujo+ujo+ujo+ujo+ujo+ujo+ujo+ujo+ujo+ujo+ujo+ujo+ujo+ujo+ujo+ujo+ujo+ujo+ujo+ujo+ujo+ujo+ujo+ujo+ujo+ujo+ujo+ujo+ujo+ujo+ujo+ujo+ujo+ujo+ujo+ujo+ujo+ujo+ujo+ujo+ujo+ujo+ujo+ujo+ujo+ujo+ujo+ujo+ujo+ujo+ujo4dDQPDc3FxUV4dDQgHd3EA8PenFx49PTPDc3EhAQxLa2+ujo+ujo+ujo+ujo+ujo+ujo+ujo+ujo+ujo+ujo+ujo+ujo+ujo+ujo+ujo+ujo6dnZKygoc2pq+ujo+ujo+ujo+ujo+ujo+ujo+ujo+ujo+ujo+ujo+ujo+ujo+ujo+ujo+ujo+ujo+ujo+ujo+ujo+ujo+ujo+ujo+ujo+ujo+ujo+ujo+ujo+ujo+ujo+ujo+ujo+ujo+ujo+ujo+ujo+ujo+ujo+ujo+ujo+ujo+ujo+ujo+ujo+ujo+ujo+ujo+ujo+ujo+ujo+ujo+ujo+ujo+ujo+ujo+ujo+ujo+ujo+ujo+ujo+ujo+ujo+ujo+ujo+ujo+ujo+ujo+ujo+ujo+ujo+ujo+ujo+ujo+ujo+ujo+ujo+ujo+ujo+ujo+ujo+ujo+ujo+ujo+ujo+ujo+ujo+ujo+ujo+ujo+ujo+ujoPzo6oZWVGxkZcWlpU01NlImJGRgYW1VVp5ubKicncGho+ujo+ujo+ujo+ujo+ujo+ujo+ujo+ujo+ujo+ujo+ujo+ujo+ujo+ujo+ujo+ujofXR0Zl9fKicn+ujo+ujo+ujot6qqODQ0CgkJGhkZjIKC+ujo+ujo+ujo+ujo+ujo+ujo+ujo+ujo9uTkS0ZGVU9P+ujo+ujo+ujo+ujo+ujo+ujo+ujo+ujo+ujo+ujo+ujo+ujo+ujo+ujo+ujo+ujo+ujo+ujo+ujo+ujo+ujo+ujo+ujo+ujo+ujo+ujo+ujo+ujo+ujo+ujo+ujo+ujo+ujo+ujo+ujo+ujo+ujo+ujo+ujo+ujo+ujo+ujo+ujo+ujo+ujo+ujo+ujo+ujo+ujo+ujo+ujo+ujo+ujo+ujo+ujo+ujo+ujo+ujo+ujo+ujo+ujo+ujo+ujo+ujo+ujo+ujo+ujo+ujo+ujo+ujo+ujoqZyc+ujoHx0dKicn6tnZxri4DAsLa2Nj+ujoPDc3eG9v+ujo+ujo+ujo+ujo+ujo+ujo+ujo+ujo+ujo+ujo+ujo+ujo+ujo+ujo+ujo+ujoIyEhxri4NTEx+ujo+ujosKSkGxkZmo+Py7y8dWxsAAAA0cLC+ujo+ujo+ujo+ujo+ujo+ujo+ujomI2NWlRUIyEh+ujo+ujo+ujo+ujo+ujo+ujo+ujo+ujo+ujo+ujo+ujo+ujo+ujo+ujo+ujo+ujo+ujo+ujo+ujo+ujo+ujo+ujo+ujo+ujo+ujo+ujo+ujo+ujo+ujo+ujo+ujo+ujo+ujo+ujo+ujo+ujo+ujo+ujo+ujo+ujo+ujo+ujo+ujo+ujo+ujo+ujo+ujo+ujo+ujo+ujo+ujo+ujo+ujo+ujo+ujo+ujo+ujo+ujo+ujo+ujo+ujo+ujo+ujo+ujo+ujo+ujo+ujo+ujo+ujo+ujo+ujo+ujo+efnBwYGYFlZ+ujoq56eAAAAxLa2+ujoFBISnJGR+ujo+ujo+ujo+ujo+ujo+ujo+ujo+ujo+ujo+ujo+ujo+ujo+ujo+ujo+ujo4dHRFBISwbOzX1hY+ujo+ObmIB4ew7W1OTU1lImJ2srKAAAAxri4+ujo+ujo+ujo+ujo8N/fGhkZrqGhQz4+nZKSS0VF+ujo+ujo+ujo+ujo+ujo+ujo+ujo+ujo+ujo+ujo+ujo+ujo+ujo+ujo+ujo+ujo+ujo+ujo+ujo+ujo+ujo+ujo+ujo+ujo+ujo+ujo+ujo+ujo+ujo+ujo+ujo+ujo+ujo+ujo+ujo+ujo+ujo+ujo+ujo+ujo+ujo+ujo+ujo+ujo+ujo+ujo+ujo+ujo+ujo+ujo+ujo+ujo+ujo+ujo+ujo+ujo+ujo+ujo+ujo+ujo+ujo+ujo+ujo+ujo+ujo+ujo+ujo+ujo+ujo+ujo+ujo+ujo4dHRAAAAqZyc+ujoh35+EA8P+efn4M/PAAAAybu7+ujoioCAEhAQ+ujo+ujo+ujo+ujo+ujo+ujo+ujo+ujo+ujo+ujo+ujo+ujos6amOTU1fHNzppqa+ujow7W1NzMz9uTkBwYGqJycYVpaNjIy9uTk+ujo+ujo+ujo+ujo+ujo5NTU9uTkDQwMSEJCyru7+ujo+ujo+ujo+ujo+ujo+ujo+ujo+ujo+ujo+ujo+ujo+ujo+ujo+ujo+ujo+ujo+ujo+ujo+ujo+ujo+ujo+ujo+ujo+ujo+ujo+ujo+ujo+ujo+ujo+ujo+ujo+ujo+ujo+ujo+ujo+ujo+ujo+ujo+ujo+ujo+ujo+ujo+ujo+ujo+ujo+ujo+ujo+ujo+ujo+ujo+ujo+ujo+ujo+ujo+ujo+ujo+ujo+ujo+ujo+ujo+ujo+ujo+ujo+ujo+ujo+ujo+ujo+ujo+ujo+ujo+ujo+ujowLKyAAAA3c3N+ujoYltbRD8/+ujotaioAwMD8uHhvrGxCgkJgXh4gnl51sbGOTU1l4yMFhQU3MzMR0JCFRMT18fHSkREEA8PwrS0k4iIS0ZGNDAw8uHh+ujolYqKbmZmVlBQAAAAAAAAXFZW6dnZ+ujo9ePjSkREEA8PwrS01sbGLisrFxUVAAAAAAAADw4O9OPjSkREEA8PwrS01sbGOTU1l4yMFhQU5NTU+ujo+ujo+ujo+ujo+ujo+ujo+ujo+ujo+ujo+ujo+ujo+ujo+ujo+ujo+ujo+ujo+ujo+ujo+ujo+ujo+ujo+ujo+ujo+ujo+ujo+ujo+ujo+ujo+ujo+ujo+ujo+ujo+ujo+ujo+ujo+ujo+ujo+ujo+ujo+ujo+ujo+ujo+ujo+ujo+ujo+ujo+ujo+ujo+ujo+ujo+ujo+ujo+ujo+ujo+ujo+ujo+ujo+ujo+ujo+ujo+ujo+ujo+ujonJGRDQwM+ujo+ujoOzc3bGRk+ujolouLHBoa+ujoYFlZYltbkIaGKSYmmI2NODQ0OjY2AAAAZ2BgMC0tTklJaGBgRD8/YFlZjIKCgnl5FBISe3Jy+ujo+ujog3p6f3Z2raCgCwoKa2NjGBYW797e+ujojIKCRD8/YFlZjIKCmY6OPzo6tqmpExER18fH6tnZjIKCRD8/YFlZjIKCmI2NODQ0OjY2AAAAwLKy0cLC+ujo+ujo+ujo+ujo+ujo+ujo+ujo+ujo+ujo+ujo+ujo+ujo+ujo+ujo+ujo+ujo+ujo+ujo+ujo+ujo+ujo+ujo+ujo+ujo+ujo+ujo+ujo+ujo+ujo+ujo+ujo+ujo+ujo+ujo+ufn+ufn+ufn+ufn+ufn+ufn+ufn+ufn+ufn+ufn+ufn+ufn+ufn+ufn+ufn+ufn+ufn+ufn+ufn+ufn+ufn+ufn+ufn+ufn+ufn+ufn+ufn+ufnfnV1Lisr+ufn+ufnGhgYjoOD+ufnn5OTCwoKvK6uFRMTWFJSOjU1TkhId25uAgICxLW1Dg0NBgUFc2pq0cHBU01NNzMzKicn28rKbmVlFhQU7dvb1MTE9+TkmY2NcmlplImJKygo7NraCQgInpKS+ufnQTw8Pzo6Kicn28rKX1hYZl5exba2DQwM+ufn+ufnS0VFQDs7Kicn28rKZV1dAgICxLW1Dg0NFBIS2cjI+ufn+ufn+ufn+ufn+ufn+ufn+ufn+ufn+ufn+ufn+ufn+ufn+ufn+ufn+ufn+ufn+ufn+ufn+ufn+ufn+ufn+ufn+ufn+ufn+ufn+ufn+ufn+ufn+ufn+ufn+ufn+ufn+ufn+ufn+ufn+ufn+ufn+ufn+ufn+ufn+ufn+ufn+ufn+ufn+ufn+ufn+ufn+ufn+ufn+ufn+ufn+ufn+ufn+ufn+ufn+ufn+ufn+ufn+ufn+ufn+ufn+ufnjYKCZFxc+ufn+ufnLSoqwrOz+ufn7NraNDAwEQ8PamJiEQ8PfXR0UEpKJSIiGRcX+ufn4tHRW1RUS0ZGyLm5HRsbGRcXuaurWVJSS0VFLCkpt6mpKicn9eLiy7y8JyQkWVJSTUhI+ufnX1hYLCkpva+vFBISJSIiuaurWVJSMS0tWlNTR0FBBgUFq56ehXt7LSoqJSIiuaurWVJSMy8vIR8f+ufn4tHR8N7e+ufn+ufn+ufn+ufn+ufn+ufn+ufn+ufn+ufn+ufn+ufn+ufn+ufn+ufn+ufn+ufn+ufn+ufn+ufn+ufn+ufn+ufn+ufn+ufn+ufn+ufn+ufn+ufn+ufn+ufn+ufn+ufn+ufn+ufn+ufn++fn++fn++fn++fn++fn++fn++fn++fn++fn++fn++fn++fn++fn++fn++fn++fn++fn++fn++fn++fn++fn++fn++fn++fn++fn++fn++fn++fn++fn++fn++fn++fn++fn++fn++fn++fn++fn++fn++fn++fn++fnGxgYTUdHcGdn++fn++fn0sHBJiMjEA4ObWVlLysrCwoKX1hY6dfXOjU1GxgYv7Cw++fn++fncGdnCwoKo5aW++fn3s3NJCIiHhsbqZycLysrCwoKX1hYs6WlDg0NfnR0hnt7DQwMSEJC0L+/LysrCwoKX1hYmIyMcGdn++fn++fn++fn++fn++fn++fn++fn++fn++fn++fn++fn++fn++fn++fn++fn++fn++fn++fn++fn++fn++fn++fn++fn++fn++fn++fn++fn++fn++fn++fn++fn++fn++fn++fn++fn++fn++fn++fn++fn++fn++fn++fn++fn++fn++fn++fn++fn++fn++fn++fn++fn++fn++fn++fn++fn++fn++fn++fn++fn++fn++fn++fn++fn++fn++fn++fn++fn++fn++fn++fn++fn++fn++fn++fn++fn++fn++fn++fn++fn++fn++fn++fn++fn++fn++fn++fn++fn++fn++fn++fn++fn++fn++fn++fn++fn++fn++fn++fn++fn++fn++fn++fn++fn++fn++fn++fn++fn++fn++fn++fn++fn++fn++fn++fn++fn++fn++fn++fn++fn++fn++fn++fn++fn++fn++fn++fn++fn++fn++fn++fn++fn++fn++fn++fn++fn++fn++fn++fn++fn++fn++fn++fn++fn++fn++fn++fn++fn++fn++fn++fn++fn++fn++fn++fn++fn++fn++fn++fn++fn++fn++fn++fn++fn++fn++fn++fn++fn++fn++fn++fn++fn++fn++fn++fn++fn++fn++fn++fn++fn++fn++fn++fn++fn++fn++fn++fn++fn++fn++fn++fn++fn++fn++fn++fn++fn++fn++fn++fn++fn++fn++fn++fn++fn++fn++fn++fn++fn++fn++fn++fn++fn++fn++fn++fn++fn++fn++fn++fn++fn++fn++fn++fn++fn++fn++fn++fn++fn++fn++fn++fn++fn++fn++fn++fn++fn++fn++fn++fn++fn++fn++fn++fn++fn++fn++fn++fn++fn++fn++fn++fn++fn++fn++fn++fn++fn++fn++fn++fn++fn++fn++fn++fn++fn++fn++fn++fn++fn++fn++fn++fn++fn++fn++fn++fn++fn++fn++fn++fn++fn++fn++fn++fn++fn++fn++fn++fn++fn++fn++fn++fn++fn++fn++fn++fn++fn++fn++fn++fn++fn++fn++fn++fn++fn++fn++fn++fn++fn++fn++fn++fn++fn++fn++fn++fn++fn++fn++fn++fn++fn++fn++fn++fn++fn++fn++fn++fn++fn++fn++fn++fn++fn++fn++fn++fn++fn++fn++fn++fn++fn++fn++fn++fn++fn++fn++fn++fn++fn++fn++fn++fn++fn++fn++fn++fn++fn++fn++fn++fn++fn++fn++fn++fn++fn++fn++fn++fn++fn++fn++fn++fn++fn++fn++fn++fn++fn++fn++fn++fn++fn++fn++fn++fn++fn++fn++fn++fn++fn++fn++fn++fn++fn++fn++fn++fn++fn++fn++fn++fn++fn++fn++fn++fn++fn++fn++fn++fn++fn++fn++fn++fn++fn++fn++fn++fn++fn++fn++fn++fn++fn++fn++fn++fn++fn++fn++fn++fn++fn++fn++fn++fn++fn++fn++fn++fn++fn++fn++fn++fn++fn++fn++fn++fn++fn++fn++fn++fn++fn++fn++fn++fn++fn++fn++fn++fn++fn++fn++fn++fn++fn++fn++fn++fn++fn++fn++fn++fn++fn++fn++fn++fn++fn++fn++fn++fn++fn++fn++fn++fn++fn++fn++fn++fn++fn++fn++fn++fn++fn++fn++fn++fn++fn++fn++fn++fn++fn++fn++fn++fn++fn++fn++fn++fn++fn++fn++fn++fn++fn++fn++fn++fn++fn++fn++fn++fn++fn++fn++fn++fn++fn++fn++fn++fn++fn++fn++fn++fn++fn++fn++fn++fn++fn++fn++fn++fn++fn++fn++fn++fn++fn++fn++fn++fn++fn++fn++fn++fn++fn++fn++fn++fn++fn++fn++fn++fn++fn++fn++fn++fn++fn++fn++fn++fn++fn++fn++fn++fn++fn++fn++fn++fn++fn++fn++fn++fn++fn++fn++fn++fn++fn++fn++fn++fn++fn++fn++fn++fn++fn++fn++fn++fn++fn++fn++fn++fn++fn++fn++fn++fn++fn++fn++fn++fn++fn++fn++fn++fn++fn++fn++fn++fn++fn++fn++fn++fn++fn++fn++fn++fn++fn++fn++fn++fn++fn++fn++fn++fn++fn++fn++fn++fn++fn++fn++fn++fn++fn++fn++fn++fn++fn++fn++fn++fn++fn++fn++fn++fn++fn++fn++fn++fn++fn++fn++fn++fn++fn++fn++fn++fn++fn++fn++fn++fn++fn++fn++fn++fn++fn++fn++fn++fn++fn++fn++fn++fn++fn++fn++fn++fn++fn++fn++fn++fn++fn++fn++fn++fn++fn++fn++fn++fn++fn++fn++fn++fn++fn++fn++fn++fn++fn++fn++fn++fn++fn++fn++fn++fn++fn++fn++fn++fn++fn++fn++fn++fn++fn++fn++fn++fn++fn++fn++fn++fn++fn++fn++fn++fn++fn++fn++fn++fn++fn++fn++fn++fn++fn++fn++fn++fn++fn++fn++fn++fn++fn++fn++fn++fn++fn++fn++fn++fn++fn++fn++fn++fn++fn++fn++fn++fn++fn++fn++fn++fn++fn++fn++fn++fn++fn++fn++fn++fn++fn++fn++fn++fn++fn++fn++fn++fn++fn++fn++fn++fn++fn++fn++fn++fn++fn++fn++fn++fn++fn++fn++fn++fn++fn++fn++fn++fn++fn++fn++fn++fn++fn++fn++fn++fn++fn++fn++fn++fn++fn++fn++fn++fn++fn++fn++fn++fn++fn++fn++fn++fn++fn++fn++fn++fn++fn++fn++fn++fn++fn++fn++fn++fn++fn++fn++fn++fn++fn++fn++fn++fn++fn++fn++fn++fn++fn++fn++fn++fn++fn++fn++fn++fn++fn++fn++fn++fn++fn++fn++fn++fn++fn++fn++fn++fn++fn++fn++fn++fn++fn++fn++fn++fn++fn++fn++fn++fn++fn++fn++fn++fn++fn++fn++fn++fn++fn++fn++fn++fn++fn++fn++fn++fn++fn++fn++fn++fn++fn++fn++fn++fn++fn++fn++fn++fn++fn++fn++fn++fn++fn++fn++fn++fn++fn++fn++fn++fn++fn++fn++fn++fn++fn++fn++fn++fn++fn++fn++fn++fn++fn++fn++fn++fn++fn++fn++fn++fn++fn++fn++fn++fn++fn++fn++fn++fn++fn++fn++fn++fn++fn++fn++fn++fn++fn++fn++fn++fn++fn++fn++fn++fn++fn++fn++fn++fn++fn++fn++fn++fn++fn++fn++fn++fn++fn++fn++fn++fn++fn++fn++fn++fn++fn++fn++fn++fn++fn++fn++fn++fn++fn++fn++fn++fn++fn++fn++fn++fn++fn++fn++fn++fn++fn++fn++fn++fn++fn++fn++fn++fn++fn++fn++fn++fn++fn++fn++fn++fn++fn++fn++fn++fn++fn++fn++fn++fn++fn++fn++fn++fn++fn++fn++fn++fn++fn++fn++fn++fn++fn++fn++fn++fn++fn++fn++fn++fn++fn++fn++fn++fn++fn++fn++fn++fn++fn++fn++fn++fn++fn++fn++fn++fn++fn++fn++fn++fn++fn++fn++fn++fn++fn++fn++fn++fn++fn++fn++fn++fn++fn++fn++fn++fn++fn++fn++fn++fn++fn++fn++fn++fn++fn++fn++fn++fn++fn++fn++fn++fn++fn++fn++fn++fn++fn++fn++fn++fn++fn++fn++fn++fn++fn++fn++fn++fn++fn++fn++fn++fn++fn++fn++fn++fn++fn++fn++fn++fn++fn++fn++fn++fn++fn++fn++fn++fn++fn++fn++fn++fn++fn++fn++fn++fn++fn++fn++fn++fn++fn++fn++fn++fn++fn++fn++fn++fn++fn++fn++fn++fn++fn++fn++fn++fn++fn++fn++fn++fn++fn++fn++fn++fn++fn++fn++fn++fn++fn++fn++fn++fn++fn++fn++fn++fn++fn++fn++fn++fn++fn++fn++fn++fn++fn++fn++fn++fn++fn++fn++fn++fn++fn++fn++fn++fn++fn++fn++fn++fn++fn++fn++fn++fn++fn++fn++fn++fn++fn++fn++fn++fn++fn++fn++fn++fn++fn++fn++fn++fn++fn++fn++fn++fn++fn++fn++fn++fn++fn++fn++fn++fn++fn++fn++fn++fn++fn++fn++fn++fn++fn++fn++fn++fn++fn++fn++fn++fn++fn++fn++fn++fn++fn++fn++fn++fn++fn++fn++fn++fn++fn++fn++fn++fn++fn++fn++fn++fn++fn++fn++fn++fn++fn++fn++fn++fn++fn++fn++fn++fn++fn++fn++fn++fn++fn++fn++fn++fn++fn++fn++fn++fn++fn++fn++fn++fn++fn++fn++fn++fn++fn++fn++fn++fn++fn++fn++fn++fn++fn++fn++fn++fn++fn++fn++fn++fn++fn++fn++fn++fn++fn++fn++fn++fn++fn++fn++fn++fn++fn++fn++fn++fn++fn++fn++fn++fn++fn++fn++fn++fn++fn++fn++fn++fn++fn++fn++fn++fn++fn++fn++fn++fn++fn++fn++fn++fn++fn++fn++fn++fn++fn++fn++fn++fn++fn++fn++fn++fn++fn++fn++fn++fn++fn++fn++fn++fn++fn++fn++fn++fn++fn++fn++fn++fn++fn++fn++fn++fn++fn++fn++fn++fn++fn++fn++fn++fn++fn++fn++fn++fn++fn++fn++fn++fn++fn++fn++fn++fn++fn++fn++fn++fn++fn++fn++fn++fn++fn++fn++fn++fn++fn++fn++fn++fn++fn++fn++fn++fn++fn++fn++fn++fn++fn++fn++fn++fn++fn++fn++fn++fn++fn++fn++fn++fn++fn++fn++fn++fn++fn++fn++fn++fn++fn++fn++fn++fn++fn++fn++fn++fn++fn++fn++fn++fn++fn++fn++fn++fn++fn++fn++fn++fn++fn++fn++fn++fn++fn++fn++fn++fn++fn++fn++fn++fn++fn++fn++fn++fn++fn++fn++fn++fn++fn++fn++fn++fn++fn++fn++fn++fn++fn++fn++fn++fn++fn++fn++fn++fn++fn++fn++fn++fn++fn++fn++fn++fn++fn++fn++fn++fn++fn++fn++fn++fn++fn++fn++fn++fn++fn++fn++fn++fn++fn++fn++fn++fn++fn++fn++fn++fn++fn++fn++fn++fn++fn++fn++fn++fn++fn++fn++fn++fn++fn++fn++fn++fn++fn++fn++fn++fn++fn++fn++fn++fn++fn++fn++fn++fn++fn++fn++fn++fn++fn++fn++fn++fn++fn++fn++fn++fn++fn++fn++fn++fn++fn++fn++fn++fn++fn++fn++fn++fn++fn++fn++fn++fn++fn++fn++fn++fn++fn++fn++fn++fn++fn++fn++fn++fn++fn++fn++fn++fn++fn++fn++fn++fn++fn++fn++fn++fn++fn++fn++fn++fn++fn++fn++fn++fn++fn++fn++fn++fn++fn++fn++fn++fn++fn++fn++fn++fn++fn++fn++fn++fn++fn++fn++fn++fn++fn++fn++fn++fn++fn++fn++fn++fn++fn++fn++fn++fn++fn++fn++fn++fn++fn++fn++fn++fn++fn++fn++fn++fn++fn++fn++fn++fn++fn++fn++fn++fn++fn++fn++fn++fn++fn++fn++fn++fn++fn++fn++fn++fn++fn++fn++fn++fn++fn++fn++fn++fn++fn++fn++fn++fn++fn++fn++fn++fn++fn++fn++fn++fn++fn++fn++fn++fn++fn++fn++fn++fn++fn++fn++fn++fn++fn++fn++fn++fn++fn++fn++fn++fn++fn++fn++fn++fn++fn++fn++fn++fn++fn++fn++fn++fn++fn++fn++fn++fn++fn++fn++fn++fn++fn++fn++fn++fn++fn++fn++fn++fn++fn++fn++fn++fn++fn++fn++fn++fn++fn++fn++fn++fn++fn++fn++fn++fn++fn++fn++fn++fn++fn++fn++fn++fn++fn++fn++fn++fn++fn++fn++fn++fn++fn++fn++fn++fn++fn++fn++fn++fn++fn++fn++fn++fn++fn++fn++fn++fn++fn++fn++fn++fn++fn++fn++fn++fn++fn++fn++fn++fn++fn++fn++fn++fn++fn++fn++fn++fn++fn++fn++fn++fn++fn++fn++fn++fn++fn++fn++fn++fn++fn++fn++fn++fn++fn++fn++fn++fn++fn++fn++fn++fn++fn++fn++fn++fn++fn++fn++fn++fn++fn++fn++fn++fn++fn++fn++fn++fn++fn++fn++fn++fn++fn++fn++fn++fn++fn++fn++fn++fn++fn++fn++fn++fn++fn++fn++fn++fn++fn++fn++fn++fn++fn++fn++fn++fn++fn++fn++fn++fn++fn++fn++fn++fn++fn++fn++fn++fn++fn++fn++fn++fn++fn++fn++fn++fn++fn++fn++fn++fn++fn++fn++fn++fn++fn++fn++fn++fn++fn++fn++fn++fn++fn++fn++fn++fn++fn++fn++fn++fn++fn++fn++fn++fn++fn++fn++fn++fn++fn++fn++fn++fn++fn++fn++fn++fn++fn++fn++fn++fn++fn++fn++fn++fn++fn++fn++fn++fn++fn++fn++fn++fn++fn++fn++fn++fn++fn++fn++fn++fn++fn++fn++fn++fn++fn++fn++fn++fn++fn++fn++fn++fn++fn++fn++fn++fn++fn++fn++fn++fn++fn++fn++fn++fn++fn++fn++fn++fn++fn++fn++fn++fn++fn++fn++fn++fn++fn++fn++fn++fn++fn++fn++fn++fn++fn++fn++fn++fn++fn++fn++fn++fn++fn++fn++fn++fn++fn++fn++fn++fn++fn++fn++fn++fn++fn++fn++fn++fn++fn++fn++fn++fn++fn++fn++fn++fn++fn++fn++fn++fn++fn++fn++fn++fn++fn++fn++fn++fn++fn++fn++fn++fn++fn++fn++fn++fn++fn++fn++fn++fn++fn++fn++fn++fn++fn++fn++fn++fn++fn++fn++fn++fn++fn++fn++fn++fn++fn++fn++fn++fn++fn++fn++fn++fn++fn++fn++fn++fn++fn++fn++fn++fn++fn++fn++fn++fn++fn++fn++fn++fn++fn++fn++fn++fn++fn++fn++fn++fn++fn++fn++fn++fn++fn++fn++fn++fn++fn++fn++fn++fn++fn++fn++fn++fn++fn++fn++fn++fn++fn++fn++fn++fn++fn++fn++fn++fn++fn++fn++fn++fn++fn++fn++fn++fn++fn++fn++fn++fn++fn++fn++fn++fn++fn++fn++fn++fn++fn++fn++fn++fn++fn++fn++fn++fn++fn++fn++fn++fn++fn++fn++fn++fn++fn++fn++fn++fn++fn++fn++fn++fn++fn++fn++fn++fn++fn++fn++fn++fn++fn++fn++fn++fn++fn++fn++fn++fn++fn++fn++fn++fn++fn++fn++fn++fn++fn++fn++fn++fn++fn++fn++fn++fn++fn++fn++fn++fn++fn++fn++fn++fn++fn++fn++fn++fn++fn++fn++fn++fn++fn++fn++fn++fn++fn++fn++fn++fn++fn++fn++fn++fn++fn++fn++fn++fn++fn++fn++fn++fn++fn++fn++fn++fn++fn++fn++fn++fn++fn++fn++fn++fn++fn++fn++fn++fn++fn++fn++fn++fn++fn++fn++fn++fn++fn++fn++fn++fn++fn++fn++fn++fn++fn++fn++fn++fn++fn++fn++fn++fn++fn++fn++fn++fn/Ofn/Ofn/Ofn/Ofn/Ofn/Ofn/Ofn/Ofn/Ofn/Ofn/Ofn/Ofn/Ofn/Ofn/Ofn/Ofn/Ofn/Ofn/Ofn/Ofn/Ofn/Ofn/Ofn/Ofn/Ofn/Ofn/Ofn/Ofn/Ofn/Ofn/Ofn/Ofn/Ofn/Ofn/Ofn/Ofn/Ofn/Ofn/Ofn/Ofn/Ofn/Ofn/Ofn/Ofn/Ofn/Ofn/Ofn/Ofn/Ofn/Ofn/Ofn/Ofn/Ofn/Ofn/Ofn/Ofn/Ofn/Ofn/Ofn/Ofn/Ofn/Ofn/Ofn/Ofn/Ofn/Ofn/Ofn/Ofn/Ofn/Ofn/Ofn/Ofn/Ofn/Ofn/Ofn/Ofn/Ofn/Ofn/Ofn/Ofn/Ofn/Ofn/Ofn/Ofn/Ofn/Ofn/Ofn/Ofn/Ofn/Ofn/Ofn/Ofn/Ofn/Ofn/Ofn/Ofn/Ofn/Ofn/Ofn/Ofn/Ofn/Ofn/Ofn/Ofn/Ofn/Ofn/Ofn/Ofn/Ofn/Ofn/Ofn/Ofn/Ofn/Ofn/Ofn/Ofn/Ofn/Ofn/Ofn/Ofn/Ofn/Ofn/Ofn/Ofn/Ofn/Ofn/Ofn/Ofn/Ofn/Ofn/Ofn/Ofn/Ofn/Ofn/Ofn/Ofn/Ofn/Ofn/Ofn/Ofn/Ofn/Ofn/Ofn/Ofn/Ofn/Ofn/Ofn/Ofn/Ofn/Ofn/Ofn/Ofn/Ofn/Ofn/Ofn/Ofn/Ofn/Ofn/Ofn/Ofn/Ofn/Ofn/Ofn/Ofn/Ofn/Ofn/Ofn/Ofn/Ofn/Ofn/Ofn/Ofn/Ofn/Ofn/Ofn/Ofn/Ofn/Ofn/Ofn/Ofn/Ofn/Ofn/Ofn/Ofn/Ofn/Ofn/Ofn/Ofn/Ofn/Ofn/Ofn/Ofn/Ofn/Ofn/Ofn/Ofn/Ofn/Ofn/Ofn/Ofn/Ofn/Ofn/Ofn/Ofn/Ofn/Ofn/Ofn/Ofn/Ofn/Ofn/Ofn/Ofn/Ofn/Ofn/Ofn/Ofn/Ofn/Ofn/Ofn/Ofn/Ofn/Ofn/Ofn/Ofn/Ofn/Ofn/Ofn/Ofn/Ofn/Ofn/Ofn/Ofn/Ofn/Ofn/Ofn/Ofn/Ofn/Ofn/Ofn/Ofn',\n",
       " 'signature': ''}"
      ]
     },
     "execution_count": 146,
     "metadata": {},
     "output_type": "execute_result"
    }
   ],
   "source": [
    "filtered_data[\"passport\"]"
   ]
  },
  {
   "cell_type": "code",
   "execution_count": 190,
   "metadata": {},
   "outputs": [],
   "source": [
    "client_data[\"passport\"][\"MRZ Line 1\"] = \"P<AUTREITER<MARCEL PAUL\"\n",
    "client_data[\"passport\"][\"MRZ Line 2\"] = \"YK6562036AUT860515\"\n"
   ]
  },
  {
   "cell_type": "code",
   "execution_count": 189,
   "metadata": {},
   "outputs": [
    {
     "data": {
      "text/plain": [
       "{'Surname': 'REITER',\n",
       " 'Code': 'AUT',\n",
       " 'Passport Number': 'YK6562036',\n",
       " 'Given Name': 'MARCEL PAUL',\n",
       " 'Birth Date': '15-May-1986',\n",
       " 'Citizenship': 'Austrian/OSTERREICH',\n",
       " 'Sex': 'M',\n",
       " 'Issue Date': '01-Jul-2017',\n",
       " 'Expiry Date': '30-Jun-2027',\n",
       " 'MRZ Line 1': 'P<AUTEITER<MARCEL PAUL',\n",
       " 'MRZ Line 2': 'YK6562036AUT680515',\n",
       " 'Signature': '+ujo+ujo+ujo+ujo+ujo+ujo+ujo+ujo+ujo+ujo+ujo+ujo+ujo+ujo+ujo+ujo+ujo+ujo+ujo+ujo+ujo+ujo+ujo+ujo+ujo+ujo+ujo+ujo+ujo+ujo+ujo+ujo+ujo+ujo+ujo+ujo+ujo+ujo+ujo+ujo+ujo+ujo+ujo+ujo+ujo+ujo+ujo+ujo+ujo+ujo+ujo+ujo+ujo+ujo+ujo+ujo+ujo+ujo+ujo+ujo+ujo+ujo+ujo+ujo+ujo+ujo+ujo+ujo+ujo+ujo+ujo+ujo+ujo+ujo+ujo+ujo+ujo+ujo+ujo+ujo+ujo+ujo+ujo+ujo+ujo+ujo+ujo+ujo+ujo+ujo+ujo+ujo+ujo+ujo+ujo+ujo+ujo+ujo+ujo+ujo+ujo+ujo+ujo+ujo+ujo+ujo+ujo+ujo+ujo+ujo+ujo+ujo+ujo+ujo+ujo+ujo+ujo+ujo+ujo+ujo+ujo+ujo+ujo+ujo+ujo+ujo+ujo+ujo+ujo+ujo+ujo+ujo+ujo+ujo+ujo+ujo+ujo+ujo+ujo+ujo+ujo+ujo+ujo+ujo+ujo+ujo+ujo4dDQPDc3FxUV4dDQgHd3EA8PenFx49PTPDc3EhAQxLa2+ujo+ujo+ujo+ujo+ujo+ujo+ujo+ujo+ujo+ujo+ujo+ujo+ujo+ujo+ujo+ujo6dnZKygoc2pq+ujo+ujo+ujo+ujo+ujo+ujo+ujo+ujo+ujo+ujo+ujo+ujo+ujo+ujo+ujo+ujo+ujo+ujo+ujo+ujo+ujo+ujo+ujo+ujo+ujo+ujo+ujo+ujo+ujo+ujo+ujo+ujo+ujo+ujo+ujo+ujo+ujo+ujo+ujo+ujo+ujo+ujo+ujo+ujo+ujo+ujo+ujo+ujo+ujo+ujo+ujo+ujo+ujo+ujo+ujo+ujo+ujo+ujo+ujo+ujo+ujo+ujo+ujo+ujo+ujo+ujo+ujo+ujo+ujo+ujo+ujo+ujo+ujo+ujo+ujo+ujo+ujo+ujo+ujo+ujo+ujo+ujo+ujo+ujo+ujo+ujo+ujo+ujo+ujo+ujoPzo6oZWVGxkZcWlpU01NlImJGRgYW1VVp5ubKicncGho+ujo+ujo+ujo+ujo+ujo+ujo+ujo+ujo+ujo+ujo+ujo+ujo+ujo+ujo+ujo+ujofXR0Zl9fKicn+ujo+ujo+ujot6qqODQ0CgkJGhkZjIKC+ujo+ujo+ujo+ujo+ujo+ujo+ujo+ujo9uTkS0ZGVU9P+ujo+ujo+ujo+ujo+ujo+ujo+ujo+ujo+ujo+ujo+ujo+ujo+ujo+ujo+ujo+ujo+ujo+ujo+ujo+ujo+ujo+ujo+ujo+ujo+ujo+ujo+ujo+ujo+ujo+ujo+ujo+ujo+ujo+ujo+ujo+ujo+ujo+ujo+ujo+ujo+ujo+ujo+ujo+ujo+ujo+ujo+ujo+ujo+ujo+ujo+ujo+ujo+ujo+ujo+ujo+ujo+ujo+ujo+ujo+ujo+ujo+ujo+ujo+ujo+ujo+ujo+ujo+ujo+ujo+ujo+ujoqZyc+ujoHx0dKicn6tnZxri4DAsLa2Nj+ujoPDc3eG9v+ujo+ujo+ujo+ujo+ujo+ujo+ujo+ujo+ujo+ujo+ujo+ujo+ujo+ujo+ujo+ujoIyEhxri4NTEx+ujo+ujosKSkGxkZmo+Py7y8dWxsAAAA0cLC+ujo+ujo+ujo+ujo+ujo+ujo+ujomI2NWlRUIyEh+ujo+ujo+ujo+ujo+ujo+ujo+ujo+ujo+ujo+ujo+ujo+ujo+ujo+ujo+ujo+ujo+ujo+ujo+ujo+ujo+ujo+ujo+ujo+ujo+ujo+ujo+ujo+ujo+ujo+ujo+ujo+ujo+ujo+ujo+ujo+ujo+ujo+ujo+ujo+ujo+ujo+ujo+ujo+ujo+ujo+ujo+ujo+ujo+ujo+ujo+ujo+ujo+ujo+ujo+ujo+ujo+ujo+ujo+ujo+ujo+ujo+ujo+ujo+ujo+ujo+ujo+ujo+ujo+ujo+ujo+ujo+ujo+efnBwYGYFlZ+ujoq56eAAAAxLa2+ujoFBISnJGR+ujo+ujo+ujo+ujo+ujo+ujo+ujo+ujo+ujo+ujo+ujo+ujo+ujo+ujo+ujo4dHRFBISwbOzX1hY+ujo+ObmIB4ew7W1OTU1lImJ2srKAAAAxri4+ujo+ujo+ujo+ujo8N/fGhkZrqGhQz4+nZKSS0VF+ujo+ujo+ujo+ujo+ujo+ujo+ujo+ujo+ujo+ujo+ujo+ujo+ujo+ujo+ujo+ujo+ujo+ujo+ujo+ujo+ujo+ujo+ujo+ujo+ujo+ujo+ujo+ujo+ujo+ujo+ujo+ujo+ujo+ujo+ujo+ujo+ujo+ujo+ujo+ujo+ujo+ujo+ujo+ujo+ujo+ujo+ujo+ujo+ujo+ujo+ujo+ujo+ujo+ujo+ujo+ujo+ujo+ujo+ujo+ujo+ujo+ujo+ujo+ujo+ujo+ujo+ujo+ujo+ujo+ujo+ujo+ujo4dHRAAAAqZyc+ujoh35+EA8P+efn4M/PAAAAybu7+ujoioCAEhAQ+ujo+ujo+ujo+ujo+ujo+ujo+ujo+ujo+ujo+ujo+ujo+ujos6amOTU1fHNzppqa+ujow7W1NzMz9uTkBwYGqJycYVpaNjIy9uTk+ujo+ujo+ujo+ujo+ujo5NTU9uTkDQwMSEJCyru7+ujo+ujo+ujo+ujo+ujo+ujo+ujo+ujo+ujo+ujo+ujo+ujo+ujo+ujo+ujo+ujo+ujo+ujo+ujo+ujo+ujo+ujo+ujo+ujo+ujo+ujo+ujo+ujo+ujo+ujo+ujo+ujo+ujo+ujo+ujo+ujo+ujo+ujo+ujo+ujo+ujo+ujo+ujo+ujo+ujo+ujo+ujo+ujo+ujo+ujo+ujo+ujo+ujo+ujo+ujo+ujo+ujo+ujo+ujo+ujo+ujo+ujo+ujo+ujo+ujo+ujo+ujo+ujo+ujo+ujo+ujo+ujowLKyAAAA3c3N+ujoYltbRD8/+ujotaioAwMD8uHhvrGxCgkJgXh4gnl51sbGOTU1l4yMFhQU3MzMR0JCFRMT18fHSkREEA8PwrS0k4iIS0ZGNDAw8uHh+ujolYqKbmZmVlBQAAAAAAAAXFZW6dnZ+ujo9ePjSkREEA8PwrS01sbGLisrFxUVAAAAAAAADw4O9OPjSkREEA8PwrS01sbGOTU1l4yMFhQU5NTU+ujo+ujo+ujo+ujo+ujo+ujo+ujo+ujo+ujo+ujo+ujo+ujo+ujo+ujo+ujo+ujo+ujo+ujo+ujo+ujo+ujo+ujo+ujo+ujo+ujo+ujo+ujo+ujo+ujo+ujo+ujo+ujo+ujo+ujo+ujo+ujo+ujo+ujo+ujo+ujo+ujo+ujo+ujo+ujo+ujo+ujo+ujo+ujo+ujo+ujo+ujo+ujo+ujo+ujo+ujo+ujo+ujo+ujo+ujo+ujo+ujo+ujo+ujonJGRDQwM+ujo+ujoOzc3bGRk+ujolouLHBoa+ujoYFlZYltbkIaGKSYmmI2NODQ0OjY2AAAAZ2BgMC0tTklJaGBgRD8/YFlZjIKCgnl5FBISe3Jy+ujo+ujog3p6f3Z2raCgCwoKa2NjGBYW797e+ujojIKCRD8/YFlZjIKCmY6OPzo6tqmpExER18fH6tnZjIKCRD8/YFlZjIKCmI2NODQ0OjY2AAAAwLKy0cLC+ujo+ujo+ujo+ujo+ujo+ujo+ujo+ujo+ujo+ujo+ujo+ujo+ujo+ujo+ujo+ujo+ujo+ujo+ujo+ujo+ujo+ujo+ujo+ujo+ujo+ujo+ujo+ujo+ujo+ujo+ujo+ujo+ujo+ujo+ufn+ufn+ufn+ufn+ufn+ufn+ufn+ufn+ufn+ufn+ufn+ufn+ufn+ufn+ufn+ufn+ufn+ufn+ufn+ufn+ufn+ufn+ufn+ufn+ufn+ufn+ufn+ufnfnV1Lisr+ufn+ufnGhgYjoOD+ufnn5OTCwoKvK6uFRMTWFJSOjU1TkhId25uAgICxLW1Dg0NBgUFc2pq0cHBU01NNzMzKicn28rKbmVlFhQU7dvb1MTE9+TkmY2NcmlplImJKygo7NraCQgInpKS+ufnQTw8Pzo6Kicn28rKX1hYZl5exba2DQwM+ufn+ufnS0VFQDs7Kicn28rKZV1dAgICxLW1Dg0NFBIS2cjI+ufn+ufn+ufn+ufn+ufn+ufn+ufn+ufn+ufn+ufn+ufn+ufn+ufn+ufn+ufn+ufn+ufn+ufn+ufn+ufn+ufn+ufn+ufn+ufn+ufn+ufn+ufn+ufn+ufn+ufn+ufn+ufn+ufn+ufn+ufn+ufn+ufn+ufn+ufn+ufn+ufn+ufn+ufn+ufn+ufn+ufn+ufn+ufn+ufn+ufn+ufn+ufn+ufn+ufn+ufn+ufn+ufn+ufn+ufn+ufn+ufn+ufnjYKCZFxc+ufn+ufnLSoqwrOz+ufn7NraNDAwEQ8PamJiEQ8PfXR0UEpKJSIiGRcX+ufn4tHRW1RUS0ZGyLm5HRsbGRcXuaurWVJSS0VFLCkpt6mpKicn9eLiy7y8JyQkWVJSTUhI+ufnX1hYLCkpva+vFBISJSIiuaurWVJSMS0tWlNTR0FBBgUFq56ehXt7LSoqJSIiuaurWVJSMy8vIR8f+ufn4tHR8N7e+ufn+ufn+ufn+ufn+ufn+ufn+ufn+ufn+ufn+ufn+ufn+ufn+ufn+ufn+ufn+ufn+ufn+ufn+ufn+ufn+ufn+ufn+ufn+ufn+ufn+ufn+ufn+ufn+ufn+ufn+ufn+ufn+ufn+ufn+ufn++fn++fn++fn++fn++fn++fn++fn++fn++fn++fn++fn++fn++fn++fn++fn++fn++fn++fn++fn++fn++fn++fn++fn++fn++fn++fn++fn++fn++fn++fn++fn++fn++fn++fn++fn++fn++fn++fn++fn++fn++fnGxgYTUdHcGdn++fn++fn0sHBJiMjEA4ObWVlLysrCwoKX1hY6dfXOjU1GxgYv7Cw++fn++fncGdnCwoKo5aW++fn3s3NJCIiHhsbqZycLysrCwoKX1hYs6WlDg0NfnR0hnt7DQwMSEJC0L+/LysrCwoKX1hYmIyMcGdn++fn++fn++fn++fn++fn++fn++fn++fn++fn++fn++fn++fn++fn++fn++fn++fn++fn++fn++fn++fn++fn++fn++fn++fn++fn++fn++fn++fn++fn++fn++fn++fn++fn++fn++fn++fn++fn++fn++fn++fn++fn++fn++fn++fn++fn++fn++fn++fn++fn++fn++fn++fn++fn++fn++fn++fn++fn++fn++fn++fn++fn++fn++fn++fn++fn++fn++fn++fn++fn++fn++fn++fn++fn++fn++fn++fn++fn++fn++fn++fn++fn++fn++fn++fn++fn++fn++fn++fn++fn++fn++fn++fn++fn++fn++fn++fn++fn++fn++fn++fn++fn++fn++fn++fn++fn++fn++fn++fn++fn++fn++fn++fn++fn++fn++fn++fn++fn++fn++fn++fn++fn++fn++fn++fn++fn++fn++fn++fn++fn++fn++fn++fn++fn++fn++fn++fn++fn++fn++fn++fn++fn++fn++fn++fn++fn++fn++fn++fn++fn++fn++fn++fn++fn++fn++fn++fn++fn++fn++fn++fn++fn++fn++fn++fn++fn++fn++fn++fn++fn++fn++fn++fn++fn++fn++fn++fn++fn++fn++fn++fn++fn++fn++fn++fn++fn++fn++fn++fn++fn++fn++fn++fn++fn++fn++fn++fn++fn++fn++fn++fn++fn++fn++fn++fn++fn++fn++fn++fn++fn++fn++fn++fn++fn++fn++fn++fn++fn++fn++fn++fn++fn++fn++fn++fn++fn++fn++fn++fn++fn++fn++fn++fn++fn++fn++fn++fn++fn++fn++fn++fn++fn++fn++fn++fn++fn++fn++fn++fn++fn++fn++fn++fn++fn++fn++fn++fn++fn++fn++fn++fn++fn++fn++fn++fn++fn++fn++fn++fn++fn++fn++fn++fn++fn++fn++fn++fn++fn++fn++fn++fn++fn++fn++fn++fn++fn++fn++fn++fn++fn++fn++fn++fn++fn++fn++fn++fn++fn++fn++fn++fn++fn++fn++fn++fn++fn++fn++fn++fn++fn++fn++fn++fn++fn++fn++fn++fn++fn++fn++fn++fn++fn++fn++fn++fn++fn++fn++fn++fn++fn++fn++fn++fn++fn++fn++fn++fn++fn++fn++fn++fn++fn++fn++fn++fn++fn++fn++fn++fn++fn++fn++fn++fn++fn++fn++fn++fn++fn++fn++fn++fn++fn++fn++fn++fn++fn++fn++fn++fn++fn++fn++fn++fn++fn++fn++fn++fn++fn++fn++fn++fn++fn++fn++fn++fn++fn++fn++fn++fn++fn++fn++fn++fn++fn++fn++fn++fn++fn++fn++fn++fn++fn++fn++fn++fn++fn++fn++fn++fn++fn++fn++fn++fn++fn++fn++fn++fn++fn++fn++fn++fn++fn++fn++fn++fn++fn++fn++fn++fn++fn++fn++fn++fn++fn++fn++fn++fn++fn++fn++fn++fn++fn++fn++fn++fn++fn++fn++fn++fn++fn++fn++fn++fn++fn++fn++fn++fn++fn++fn++fn++fn++fn++fn++fn++fn++fn++fn++fn++fn++fn++fn++fn++fn++fn++fn++fn++fn++fn++fn++fn++fn++fn++fn++fn++fn++fn++fn++fn++fn++fn++fn++fn++fn++fn++fn++fn++fn++fn++fn++fn++fn++fn++fn++fn++fn++fn++fn++fn++fn++fn++fn++fn++fn++fn++fn++fn++fn++fn++fn++fn++fn++fn++fn++fn++fn++fn++fn++fn++fn++fn++fn++fn++fn++fn++fn++fn++fn++fn++fn++fn++fn++fn++fn++fn++fn++fn++fn++fn++fn++fn++fn++fn++fn++fn++fn++fn++fn++fn++fn++fn++fn++fn++fn++fn++fn++fn++fn++fn++fn++fn++fn++fn++fn++fn++fn++fn++fn++fn++fn++fn++fn++fn++fn++fn++fn++fn++fn++fn++fn++fn++fn++fn++fn++fn++fn++fn++fn++fn++fn++fn++fn++fn++fn++fn++fn++fn++fn++fn++fn++fn++fn++fn++fn++fn++fn++fn++fn++fn++fn++fn++fn++fn++fn++fn++fn++fn++fn++fn++fn++fn++fn++fn++fn++fn++fn++fn++fn++fn++fn++fn++fn++fn++fn++fn++fn++fn++fn++fn++fn++fn++fn++fn++fn++fn++fn++fn++fn++fn++fn++fn++fn++fn++fn++fn++fn++fn++fn++fn++fn++fn++fn++fn++fn++fn++fn++fn++fn++fn++fn++fn++fn++fn++fn++fn++fn++fn++fn++fn++fn++fn++fn++fn++fn++fn++fn++fn++fn++fn++fn++fn++fn++fn++fn++fn++fn++fn++fn++fn++fn++fn++fn++fn++fn++fn++fn++fn++fn++fn++fn++fn++fn++fn++fn++fn++fn++fn++fn++fn++fn++fn++fn++fn++fn++fn++fn++fn++fn++fn++fn++fn++fn++fn++fn++fn++fn++fn++fn++fn++fn++fn++fn++fn++fn++fn++fn++fn++fn++fn++fn++fn++fn++fn++fn++fn++fn++fn++fn++fn++fn++fn++fn++fn++fn++fn++fn++fn++fn++fn++fn++fn++fn++fn++fn++fn++fn++fn++fn++fn++fn++fn++fn++fn++fn++fn++fn++fn++fn++fn++fn++fn++fn++fn++fn++fn++fn++fn++fn++fn++fn++fn++fn++fn++fn++fn++fn++fn++fn++fn++fn++fn++fn++fn++fn++fn++fn++fn++fn++fn++fn++fn++fn++fn++fn++fn++fn++fn++fn++fn++fn++fn++fn++fn++fn++fn++fn++fn++fn++fn++fn++fn++fn++fn++fn++fn++fn++fn++fn++fn++fn++fn++fn++fn++fn++fn++fn++fn++fn++fn++fn++fn++fn++fn++fn++fn++fn++fn++fn++fn++fn++fn++fn++fn++fn++fn++fn++fn++fn++fn++fn++fn++fn++fn++fn++fn++fn++fn++fn++fn++fn++fn++fn++fn++fn++fn++fn++fn++fn++fn++fn++fn++fn++fn++fn++fn++fn++fn++fn++fn++fn++fn++fn++fn++fn++fn++fn++fn++fn++fn++fn++fn++fn++fn++fn++fn++fn++fn++fn++fn++fn++fn++fn++fn++fn++fn++fn++fn++fn++fn++fn++fn++fn++fn++fn++fn++fn++fn++fn++fn++fn++fn++fn++fn++fn++fn++fn++fn++fn++fn++fn++fn++fn++fn++fn++fn++fn++fn++fn++fn++fn++fn++fn++fn++fn++fn++fn++fn++fn++fn++fn++fn++fn++fn++fn++fn++fn++fn++fn++fn++fn++fn++fn++fn++fn++fn++fn++fn++fn++fn++fn++fn++fn++fn++fn++fn++fn++fn++fn++fn++fn++fn++fn++fn++fn++fn++fn++fn++fn++fn++fn++fn++fn++fn++fn++fn++fn++fn++fn++fn++fn++fn++fn++fn++fn++fn++fn++fn++fn++fn++fn++fn++fn++fn++fn++fn++fn++fn++fn++fn++fn++fn++fn++fn++fn++fn++fn++fn++fn++fn++fn++fn++fn++fn++fn++fn++fn++fn++fn++fn++fn++fn++fn++fn++fn++fn++fn++fn++fn++fn++fn++fn++fn++fn++fn++fn++fn++fn++fn++fn++fn++fn++fn++fn++fn++fn++fn++fn++fn++fn++fn++fn++fn++fn++fn++fn++fn++fn++fn++fn++fn++fn++fn++fn++fn++fn++fn++fn++fn++fn++fn++fn++fn++fn++fn++fn++fn++fn++fn++fn++fn++fn++fn++fn++fn++fn++fn++fn++fn++fn++fn++fn++fn++fn++fn++fn++fn++fn++fn++fn++fn++fn++fn++fn++fn++fn++fn++fn++fn++fn++fn++fn++fn++fn++fn++fn++fn++fn++fn++fn++fn++fn++fn++fn++fn++fn++fn++fn++fn++fn++fn++fn++fn++fn++fn++fn++fn++fn++fn++fn++fn++fn++fn++fn++fn++fn++fn++fn++fn++fn++fn++fn++fn++fn++fn++fn++fn++fn++fn++fn++fn++fn++fn++fn++fn++fn++fn++fn++fn++fn++fn++fn++fn++fn++fn++fn++fn++fn++fn++fn++fn++fn++fn++fn++fn++fn++fn++fn++fn++fn++fn++fn++fn++fn++fn++fn++fn++fn++fn++fn++fn++fn++fn++fn++fn++fn++fn++fn++fn++fn++fn++fn++fn++fn++fn++fn++fn++fn++fn++fn++fn++fn++fn++fn++fn++fn++fn++fn++fn++fn++fn++fn++fn++fn++fn++fn++fn++fn++fn++fn++fn++fn++fn++fn++fn++fn++fn++fn++fn++fn++fn++fn++fn++fn++fn++fn++fn++fn++fn++fn++fn++fn++fn++fn++fn++fn++fn++fn++fn++fn++fn++fn++fn++fn++fn++fn++fn++fn++fn++fn++fn++fn++fn++fn++fn++fn++fn++fn++fn++fn++fn++fn++fn++fn++fn++fn++fn++fn++fn++fn++fn++fn++fn++fn++fn++fn++fn++fn++fn++fn++fn++fn++fn++fn++fn++fn++fn++fn++fn++fn++fn++fn++fn++fn++fn++fn++fn++fn++fn++fn++fn++fn++fn++fn++fn++fn++fn++fn++fn++fn++fn++fn++fn++fn++fn++fn++fn++fn++fn++fn++fn++fn++fn++fn++fn++fn++fn++fn++fn++fn++fn++fn++fn++fn++fn++fn++fn++fn++fn++fn++fn++fn++fn++fn++fn++fn++fn++fn++fn++fn++fn++fn++fn++fn++fn++fn++fn++fn++fn++fn++fn++fn++fn++fn++fn++fn++fn++fn++fn++fn++fn++fn++fn++fn++fn++fn++fn++fn++fn++fn++fn++fn++fn++fn++fn++fn++fn++fn++fn++fn++fn++fn++fn++fn++fn++fn++fn++fn++fn++fn++fn++fn++fn++fn++fn++fn++fn++fn++fn++fn++fn++fn++fn++fn++fn++fn++fn++fn++fn++fn++fn++fn++fn++fn++fn++fn++fn++fn++fn++fn++fn++fn++fn++fn++fn++fn++fn++fn++fn++fn++fn++fn++fn++fn++fn++fn++fn++fn++fn++fn++fn++fn++fn++fn++fn++fn++fn++fn++fn++fn++fn++fn++fn++fn++fn++fn++fn++fn++fn++fn++fn++fn++fn++fn++fn++fn++fn++fn++fn++fn++fn++fn++fn++fn++fn++fn++fn++fn++fn++fn++fn++fn++fn++fn++fn++fn++fn++fn++fn++fn++fn++fn++fn++fn++fn++fn++fn++fn++fn++fn++fn++fn++fn++fn++fn++fn++fn++fn++fn++fn++fn++fn++fn++fn++fn++fn++fn++fn++fn++fn++fn++fn++fn++fn++fn++fn++fn++fn++fn++fn++fn++fn++fn++fn++fn++fn++fn++fn++fn++fn++fn++fn++fn++fn++fn++fn++fn++fn++fn++fn++fn++fn++fn++fn++fn++fn++fn++fn++fn++fn++fn++fn++fn++fn++fn++fn++fn++fn++fn++fn++fn++fn++fn++fn++fn++fn++fn++fn++fn++fn++fn++fn++fn++fn++fn++fn++fn++fn++fn++fn++fn++fn++fn++fn++fn++fn++fn++fn++fn++fn++fn++fn++fn++fn++fn++fn++fn++fn++fn++fn++fn++fn++fn++fn++fn++fn++fn++fn++fn++fn++fn++fn++fn++fn++fn++fn++fn++fn++fn++fn++fn++fn++fn++fn++fn++fn++fn++fn++fn++fn++fn++fn++fn++fn++fn++fn++fn++fn++fn++fn++fn++fn++fn++fn++fn++fn++fn++fn++fn++fn++fn++fn++fn++fn++fn++fn++fn++fn++fn++fn++fn++fn++fn++fn++fn++fn++fn++fn++fn++fn++fn++fn++fn++fn++fn++fn++fn++fn++fn++fn++fn++fn++fn++fn++fn++fn++fn++fn++fn++fn++fn++fn++fn++fn++fn++fn++fn++fn++fn++fn++fn++fn++fn++fn++fn++fn++fn++fn++fn++fn++fn++fn++fn++fn++fn++fn++fn++fn++fn++fn++fn++fn++fn++fn++fn++fn++fn++fn++fn++fn++fn++fn++fn++fn++fn++fn++fn++fn++fn++fn++fn++fn++fn++fn++fn++fn++fn++fn++fn++fn++fn++fn++fn++fn++fn++fn++fn++fn++fn++fn++fn++fn++fn++fn++fn++fn++fn++fn++fn++fn++fn++fn++fn++fn++fn++fn++fn++fn++fn++fn++fn++fn++fn++fn++fn++fn++fn++fn++fn++fn++fn++fn++fn++fn++fn++fn++fn++fn++fn++fn++fn++fn++fn++fn++fn++fn++fn++fn++fn++fn++fn++fn++fn++fn++fn++fn++fn++fn++fn++fn++fn++fn++fn++fn++fn++fn++fn++fn++fn++fn++fn++fn++fn++fn++fn++fn++fn++fn++fn++fn++fn++fn++fn++fn++fn++fn++fn++fn++fn++fn++fn++fn++fn++fn++fn++fn++fn++fn++fn++fn++fn++fn++fn++fn++fn++fn++fn++fn++fn++fn++fn++fn++fn++fn++fn++fn++fn++fn++fn++fn++fn++fn++fn++fn++fn++fn++fn++fn++fn++fn++fn++fn++fn++fn++fn++fn++fn++fn++fn++fn++fn++fn++fn++fn++fn++fn++fn++fn++fn++fn++fn++fn++fn++fn++fn++fn++fn++fn++fn++fn++fn++fn++fn++fn++fn++fn++fn++fn++fn++fn++fn++fn++fn++fn++fn++fn++fn++fn++fn++fn++fn++fn++fn++fn++fn++fn++fn++fn++fn++fn++fn++fn++fn++fn++fn++fn++fn++fn++fn++fn++fn++fn++fn++fn++fn++fn++fn++fn++fn++fn++fn++fn++fn++fn++fn++fn++fn++fn++fn++fn++fn++fn++fn++fn++fn++fn++fn++fn++fn++fn++fn++fn++fn++fn++fn++fn++fn++fn++fn++fn++fn++fn++fn++fn++fn++fn++fn++fn++fn++fn++fn++fn++fn++fn++fn++fn++fn++fn++fn++fn++fn++fn++fn++fn++fn++fn++fn++fn++fn++fn++fn++fn++fn++fn++fn++fn++fn++fn++fn++fn++fn++fn++fn++fn++fn++fn++fn++fn++fn++fn++fn++fn++fn++fn++fn++fn++fn++fn++fn++fn++fn++fn++fn++fn++fn++fn++fn++fn++fn++fn++fn++fn++fn++fn++fn++fn++fn++fn++fn++fn++fn++fn++fn++fn++fn++fn++fn++fn++fn++fn++fn++fn++fn++fn++fn++fn++fn++fn++fn++fn++fn++fn++fn++fn++fn++fn++fn++fn++fn++fn++fn++fn++fn++fn++fn++fn++fn++fn++fn++fn++fn++fn++fn++fn++fn++fn++fn++fn++fn++fn++fn++fn++fn++fn++fn++fn++fn++fn++fn++fn++fn++fn++fn++fn++fn++fn++fn++fn++fn++fn++fn++fn++fn++fn++fn++fn++fn++fn++fn++fn++fn++fn++fn++fn++fn++fn++fn++fn++fn++fn++fn++fn++fn++fn++fn++fn++fn++fn++fn++fn++fn++fn++fn++fn++fn++fn++fn++fn++fn++fn++fn++fn++fn++fn++fn++fn++fn++fn++fn++fn++fn++fn++fn++fn++fn++fn++fn++fn++fn++fn++fn/Ofn/Ofn/Ofn/Ofn/Ofn/Ofn/Ofn/Ofn/Ofn/Ofn/Ofn/Ofn/Ofn/Ofn/Ofn/Ofn/Ofn/Ofn/Ofn/Ofn/Ofn/Ofn/Ofn/Ofn/Ofn/Ofn/Ofn/Ofn/Ofn/Ofn/Ofn/Ofn/Ofn/Ofn/Ofn/Ofn/Ofn/Ofn/Ofn/Ofn/Ofn/Ofn/Ofn/Ofn/Ofn/Ofn/Ofn/Ofn/Ofn/Ofn/Ofn/Ofn/Ofn/Ofn/Ofn/Ofn/Ofn/Ofn/Ofn/Ofn/Ofn/Ofn/Ofn/Ofn/Ofn/Ofn/Ofn/Ofn/Ofn/Ofn/Ofn/Ofn/Ofn/Ofn/Ofn/Ofn/Ofn/Ofn/Ofn/Ofn/Ofn/Ofn/Ofn/Ofn/Ofn/Ofn/Ofn/Ofn/Ofn/Ofn/Ofn/Ofn/Ofn/Ofn/Ofn/Ofn/Ofn/Ofn/Ofn/Ofn/Ofn/Ofn/Ofn/Ofn/Ofn/Ofn/Ofn/Ofn/Ofn/Ofn/Ofn/Ofn/Ofn/Ofn/Ofn/Ofn/Ofn/Ofn/Ofn/Ofn/Ofn/Ofn/Ofn/Ofn/Ofn/Ofn/Ofn/Ofn/Ofn/Ofn/Ofn/Ofn/Ofn/Ofn/Ofn/Ofn/Ofn/Ofn/Ofn/Ofn/Ofn/Ofn/Ofn/Ofn/Ofn/Ofn/Ofn/Ofn/Ofn/Ofn/Ofn/Ofn/Ofn/Ofn/Ofn/Ofn/Ofn/Ofn/Ofn/Ofn/Ofn/Ofn/Ofn/Ofn/Ofn/Ofn/Ofn/Ofn/Ofn/Ofn/Ofn/Ofn/Ofn/Ofn/Ofn/Ofn/Ofn/Ofn/Ofn/Ofn/Ofn/Ofn/Ofn/Ofn/Ofn/Ofn/Ofn/Ofn/Ofn/Ofn/Ofn/Ofn/Ofn/Ofn/Ofn/Ofn/Ofn/Ofn/Ofn/Ofn/Ofn/Ofn/Ofn/Ofn/Ofn/Ofn/Ofn/Ofn/Ofn/Ofn/Ofn/Ofn/Ofn/Ofn/Ofn/Ofn/Ofn/Ofn/Ofn/Ofn/Ofn/Ofn/Ofn/Ofn/Ofn/Ofn/Ofn/Ofn/Ofn/Ofn/Ofn/Ofn/Ofn/Ofn/Ofn/Ofn/Ofn/Ofn/Ofn/Ofn',\n",
       " 'signature': ''}"
      ]
     },
     "execution_count": 189,
     "metadata": {},
     "output_type": "execute_result"
    }
   ],
   "source": [
    "filtered_data[\"passport\"]"
   ]
  },
  {
   "cell_type": "code",
   "execution_count": null,
   "metadata": {},
   "outputs": [
    {
     "data": {
      "text/plain": [
       "'YK6562036AUT860515'"
      ]
     },
     "execution_count": 188,
     "metadata": {},
     "output_type": "execute_result"
    }
   ],
   "source": [
    "\"YK6562036AUT860515\"\n",
    "\"YK6562036AUT680515\""
   ]
  },
  {
   "cell_type": "code",
   "execution_count": 191,
   "metadata": {},
   "outputs": [
    {
     "name": "stdout",
     "output_type": "stream",
     "text": [
      "Passport data: {'Country': 'Austria', 'Surname': 'REITER', 'Code': 'AUT', 'Passport Number': 'YK6562036', 'Given Name': 'MARCEL PAUL', 'Birth Date': '15-May-1986', 'Citizenship': 'Austrian/OSTERREICH', 'Sex': 'M', 'Issue Date': '01-Jul-2017', 'Expiry Date': '30-Jun-2027', 'MRZ Line 1': 'P<AUTREITER<MARCEL PAUL', 'MRZ Line 2': 'YK6562036AUT860515', 'Signature': '+ujo+ujo+ujo+ujo+ujo+ujo+ujo+ujo+ujo+ujo+ujo+ujo+ujo+ujo+ujo+ujo+ujo+ujo+ujo+ujo+ujo+ujo+ujo+ujo+ujo+ujo+ujo+ujo+ujo+ujo+ujo+ujo+ujo+ujo+ujo+ujo+ujo+ujo+ujo+ujo+ujo+ujo+ujo+ujo+ujo+ujo+ujo+ujo+ujo+ujo+ujo+ujo+ujo+ujo+ujo+ujo+ujo+ujo+ujo+ujo+ujo+ujo+ujo+ujo+ujo+ujo+ujo+ujo+ujo+ujo+ujo+ujo+ujo+ujo+ujo+ujo+ujo+ujo+ujo+ujo+ujo+ujo+ujo+ujo+ujo+ujo+ujo+ujo+ujo+ujo+ujo+ujo+ujo+ujo+ujo+ujo+ujo+ujo+ujo+ujo+ujo+ujo+ujo+ujo+ujo+ujo+ujo+ujo+ujo+ujo+ujo+ujo+ujo+ujo+ujo+ujo+ujo+ujo+ujo+ujo+ujo+ujo+ujo+ujo+ujo+ujo+ujo+ujo+ujo+ujo+ujo+ujo+ujo+ujo+ujo+ujo+ujo+ujo+ujo+ujo+ujo+ujo+ujo+ujo+ujo+ujo+ujo4dDQPDc3FxUV4dDQgHd3EA8PenFx49PTPDc3EhAQxLa2+ujo+ujo+ujo+ujo+ujo+ujo+ujo+ujo+ujo+ujo+ujo+ujo+ujo+ujo+ujo+ujo6dnZKygoc2pq+ujo+ujo+ujo+ujo+ujo+ujo+ujo+ujo+ujo+ujo+ujo+ujo+ujo+ujo+ujo+ujo+ujo+ujo+ujo+ujo+ujo+ujo+ujo+ujo+ujo+ujo+ujo+ujo+ujo+ujo+ujo+ujo+ujo+ujo+ujo+ujo+ujo+ujo+ujo+ujo+ujo+ujo+ujo+ujo+ujo+ujo+ujo+ujo+ujo+ujo+ujo+ujo+ujo+ujo+ujo+ujo+ujo+ujo+ujo+ujo+ujo+ujo+ujo+ujo+ujo+ujo+ujo+ujo+ujo+ujo+ujo+ujo+ujo+ujo+ujo+ujo+ujo+ujo+ujo+ujo+ujo+ujo+ujo+ujo+ujo+ujo+ujo+ujo+ujo+ujoPzo6oZWVGxkZcWlpU01NlImJGRgYW1VVp5ubKicncGho+ujo+ujo+ujo+ujo+ujo+ujo+ujo+ujo+ujo+ujo+ujo+ujo+ujo+ujo+ujo+ujofXR0Zl9fKicn+ujo+ujo+ujot6qqODQ0CgkJGhkZjIKC+ujo+ujo+ujo+ujo+ujo+ujo+ujo+ujo9uTkS0ZGVU9P+ujo+ujo+ujo+ujo+ujo+ujo+ujo+ujo+ujo+ujo+ujo+ujo+ujo+ujo+ujo+ujo+ujo+ujo+ujo+ujo+ujo+ujo+ujo+ujo+ujo+ujo+ujo+ujo+ujo+ujo+ujo+ujo+ujo+ujo+ujo+ujo+ujo+ujo+ujo+ujo+ujo+ujo+ujo+ujo+ujo+ujo+ujo+ujo+ujo+ujo+ujo+ujo+ujo+ujo+ujo+ujo+ujo+ujo+ujo+ujo+ujo+ujo+ujo+ujo+ujo+ujo+ujo+ujo+ujo+ujo+ujoqZyc+ujoHx0dKicn6tnZxri4DAsLa2Nj+ujoPDc3eG9v+ujo+ujo+ujo+ujo+ujo+ujo+ujo+ujo+ujo+ujo+ujo+ujo+ujo+ujo+ujo+ujoIyEhxri4NTEx+ujo+ujosKSkGxkZmo+Py7y8dWxsAAAA0cLC+ujo+ujo+ujo+ujo+ujo+ujo+ujomI2NWlRUIyEh+ujo+ujo+ujo+ujo+ujo+ujo+ujo+ujo+ujo+ujo+ujo+ujo+ujo+ujo+ujo+ujo+ujo+ujo+ujo+ujo+ujo+ujo+ujo+ujo+ujo+ujo+ujo+ujo+ujo+ujo+ujo+ujo+ujo+ujo+ujo+ujo+ujo+ujo+ujo+ujo+ujo+ujo+ujo+ujo+ujo+ujo+ujo+ujo+ujo+ujo+ujo+ujo+ujo+ujo+ujo+ujo+ujo+ujo+ujo+ujo+ujo+ujo+ujo+ujo+ujo+ujo+ujo+ujo+ujo+ujo+ujo+ujo+efnBwYGYFlZ+ujoq56eAAAAxLa2+ujoFBISnJGR+ujo+ujo+ujo+ujo+ujo+ujo+ujo+ujo+ujo+ujo+ujo+ujo+ujo+ujo+ujo4dHRFBISwbOzX1hY+ujo+ObmIB4ew7W1OTU1lImJ2srKAAAAxri4+ujo+ujo+ujo+ujo8N/fGhkZrqGhQz4+nZKSS0VF+ujo+ujo+ujo+ujo+ujo+ujo+ujo+ujo+ujo+ujo+ujo+ujo+ujo+ujo+ujo+ujo+ujo+ujo+ujo+ujo+ujo+ujo+ujo+ujo+ujo+ujo+ujo+ujo+ujo+ujo+ujo+ujo+ujo+ujo+ujo+ujo+ujo+ujo+ujo+ujo+ujo+ujo+ujo+ujo+ujo+ujo+ujo+ujo+ujo+ujo+ujo+ujo+ujo+ujo+ujo+ujo+ujo+ujo+ujo+ujo+ujo+ujo+ujo+ujo+ujo+ujo+ujo+ujo+ujo+ujo+ujo+ujo4dHRAAAAqZyc+ujoh35+EA8P+efn4M/PAAAAybu7+ujoioCAEhAQ+ujo+ujo+ujo+ujo+ujo+ujo+ujo+ujo+ujo+ujo+ujo+ujos6amOTU1fHNzppqa+ujow7W1NzMz9uTkBwYGqJycYVpaNjIy9uTk+ujo+ujo+ujo+ujo+ujo5NTU9uTkDQwMSEJCyru7+ujo+ujo+ujo+ujo+ujo+ujo+ujo+ujo+ujo+ujo+ujo+ujo+ujo+ujo+ujo+ujo+ujo+ujo+ujo+ujo+ujo+ujo+ujo+ujo+ujo+ujo+ujo+ujo+ujo+ujo+ujo+ujo+ujo+ujo+ujo+ujo+ujo+ujo+ujo+ujo+ujo+ujo+ujo+ujo+ujo+ujo+ujo+ujo+ujo+ujo+ujo+ujo+ujo+ujo+ujo+ujo+ujo+ujo+ujo+ujo+ujo+ujo+ujo+ujo+ujo+ujo+ujo+ujo+ujo+ujo+ujo+ujowLKyAAAA3c3N+ujoYltbRD8/+ujotaioAwMD8uHhvrGxCgkJgXh4gnl51sbGOTU1l4yMFhQU3MzMR0JCFRMT18fHSkREEA8PwrS0k4iIS0ZGNDAw8uHh+ujolYqKbmZmVlBQAAAAAAAAXFZW6dnZ+ujo9ePjSkREEA8PwrS01sbGLisrFxUVAAAAAAAADw4O9OPjSkREEA8PwrS01sbGOTU1l4yMFhQU5NTU+ujo+ujo+ujo+ujo+ujo+ujo+ujo+ujo+ujo+ujo+ujo+ujo+ujo+ujo+ujo+ujo+ujo+ujo+ujo+ujo+ujo+ujo+ujo+ujo+ujo+ujo+ujo+ujo+ujo+ujo+ujo+ujo+ujo+ujo+ujo+ujo+ujo+ujo+ujo+ujo+ujo+ujo+ujo+ujo+ujo+ujo+ujo+ujo+ujo+ujo+ujo+ujo+ujo+ujo+ujo+ujo+ujo+ujo+ujo+ujo+ujo+ujo+ujonJGRDQwM+ujo+ujoOzc3bGRk+ujolouLHBoa+ujoYFlZYltbkIaGKSYmmI2NODQ0OjY2AAAAZ2BgMC0tTklJaGBgRD8/YFlZjIKCgnl5FBISe3Jy+ujo+ujog3p6f3Z2raCgCwoKa2NjGBYW797e+ujojIKCRD8/YFlZjIKCmY6OPzo6tqmpExER18fH6tnZjIKCRD8/YFlZjIKCmI2NODQ0OjY2AAAAwLKy0cLC+ujo+ujo+ujo+ujo+ujo+ujo+ujo+ujo+ujo+ujo+ujo+ujo+ujo+ujo+ujo+ujo+ujo+ujo+ujo+ujo+ujo+ujo+ujo+ujo+ujo+ujo+ujo+ujo+ujo+ujo+ujo+ujo+ujo+ujo+ufn+ufn+ufn+ufn+ufn+ufn+ufn+ufn+ufn+ufn+ufn+ufn+ufn+ufn+ufn+ufn+ufn+ufn+ufn+ufn+ufn+ufn+ufn+ufn+ufn+ufn+ufn+ufnfnV1Lisr+ufn+ufnGhgYjoOD+ufnn5OTCwoKvK6uFRMTWFJSOjU1TkhId25uAgICxLW1Dg0NBgUFc2pq0cHBU01NNzMzKicn28rKbmVlFhQU7dvb1MTE9+TkmY2NcmlplImJKygo7NraCQgInpKS+ufnQTw8Pzo6Kicn28rKX1hYZl5exba2DQwM+ufn+ufnS0VFQDs7Kicn28rKZV1dAgICxLW1Dg0NFBIS2cjI+ufn+ufn+ufn+ufn+ufn+ufn+ufn+ufn+ufn+ufn+ufn+ufn+ufn+ufn+ufn+ufn+ufn+ufn+ufn+ufn+ufn+ufn+ufn+ufn+ufn+ufn+ufn+ufn+ufn+ufn+ufn+ufn+ufn+ufn+ufn+ufn+ufn+ufn+ufn+ufn+ufn+ufn+ufn+ufn+ufn+ufn+ufn+ufn+ufn+ufn+ufn+ufn+ufn+ufn+ufn+ufn+ufn+ufn+ufn+ufn+ufn+ufnjYKCZFxc+ufn+ufnLSoqwrOz+ufn7NraNDAwEQ8PamJiEQ8PfXR0UEpKJSIiGRcX+ufn4tHRW1RUS0ZGyLm5HRsbGRcXuaurWVJSS0VFLCkpt6mpKicn9eLiy7y8JyQkWVJSTUhI+ufnX1hYLCkpva+vFBISJSIiuaurWVJSMS0tWlNTR0FBBgUFq56ehXt7LSoqJSIiuaurWVJSMy8vIR8f+ufn4tHR8N7e+ufn+ufn+ufn+ufn+ufn+ufn+ufn+ufn+ufn+ufn+ufn+ufn+ufn+ufn+ufn+ufn+ufn+ufn+ufn+ufn+ufn+ufn+ufn+ufn+ufn+ufn+ufn+ufn+ufn+ufn+ufn+ufn+ufn+ufn+ufn++fn++fn++fn++fn++fn++fn++fn++fn++fn++fn++fn++fn++fn++fn++fn++fn++fn++fn++fn++fn++fn++fn++fn++fn++fn++fn++fn++fn++fn++fn++fn++fn++fn++fn++fn++fn++fn++fn++fn++fn++fnGxgYTUdHcGdn++fn++fn0sHBJiMjEA4ObWVlLysrCwoKX1hY6dfXOjU1GxgYv7Cw++fn++fncGdnCwoKo5aW++fn3s3NJCIiHhsbqZycLysrCwoKX1hYs6WlDg0NfnR0hnt7DQwMSEJC0L+/LysrCwoKX1hYmIyMcGdn++fn++fn++fn++fn++fn++fn++fn++fn++fn++fn++fn++fn++fn++fn++fn++fn++fn++fn++fn++fn++fn++fn++fn++fn++fn++fn++fn++fn++fn++fn++fn++fn++fn++fn++fn++fn++fn++fn++fn++fn++fn++fn++fn++fn++fn++fn++fn++fn++fn++fn++fn++fn++fn++fn++fn++fn++fn++fn++fn++fn++fn++fn++fn++fn++fn++fn++fn++fn++fn++fn++fn++fn++fn++fn++fn++fn++fn++fn++fn++fn++fn++fn++fn++fn++fn++fn++fn++fn++fn++fn++fn++fn++fn++fn++fn++fn++fn++fn++fn++fn++fn++fn++fn++fn++fn++fn++fn++fn++fn++fn++fn++fn++fn++fn++fn++fn++fn++fn++fn++fn++fn++fn++fn++fn++fn++fn++fn++fn++fn++fn++fn++fn++fn++fn++fn++fn++fn++fn++fn++fn++fn++fn++fn++fn++fn++fn++fn++fn++fn++fn++fn++fn++fn++fn++fn++fn++fn++fn++fn++fn++fn++fn++fn++fn++fn++fn++fn++fn++fn++fn++fn++fn++fn++fn++fn++fn++fn++fn++fn++fn++fn++fn++fn++fn++fn++fn++fn++fn++fn++fn++fn++fn++fn++fn++fn++fn++fn++fn++fn++fn++fn++fn++fn++fn++fn++fn++fn++fn++fn++fn++fn++fn++fn++fn++fn++fn++fn++fn++fn++fn++fn++fn++fn++fn++fn++fn++fn++fn++fn++fn++fn++fn++fn++fn++fn++fn++fn++fn++fn++fn++fn++fn++fn++fn++fn++fn++fn++fn++fn++fn++fn++fn++fn++fn++fn++fn++fn++fn++fn++fn++fn++fn++fn++fn++fn++fn++fn++fn++fn++fn++fn++fn++fn++fn++fn++fn++fn++fn++fn++fn++fn++fn++fn++fn++fn++fn++fn++fn++fn++fn++fn++fn++fn++fn++fn++fn++fn++fn++fn++fn++fn++fn++fn++fn++fn++fn++fn++fn++fn++fn++fn++fn++fn++fn++fn++fn++fn++fn++fn++fn++fn++fn++fn++fn++fn++fn++fn++fn++fn++fn++fn++fn++fn++fn++fn++fn++fn++fn++fn++fn++fn++fn++fn++fn++fn++fn++fn++fn++fn++fn++fn++fn++fn++fn++fn++fn++fn++fn++fn++fn++fn++fn++fn++fn++fn++fn++fn++fn++fn++fn++fn++fn++fn++fn++fn++fn++fn++fn++fn++fn++fn++fn++fn++fn++fn++fn++fn++fn++fn++fn++fn++fn++fn++fn++fn++fn++fn++fn++fn++fn++fn++fn++fn++fn++fn++fn++fn++fn++fn++fn++fn++fn++fn++fn++fn++fn++fn++fn++fn++fn++fn++fn++fn++fn++fn++fn++fn++fn++fn++fn++fn++fn++fn++fn++fn++fn++fn++fn++fn++fn++fn++fn++fn++fn++fn++fn++fn++fn++fn++fn++fn++fn++fn++fn++fn++fn++fn++fn++fn++fn++fn++fn++fn++fn++fn++fn++fn++fn++fn++fn++fn++fn++fn++fn++fn++fn++fn++fn++fn++fn++fn++fn++fn++fn++fn++fn++fn++fn++fn++fn++fn++fn++fn++fn++fn++fn++fn++fn++fn++fn++fn++fn++fn++fn++fn++fn++fn++fn++fn++fn++fn++fn++fn++fn++fn++fn++fn++fn++fn++fn++fn++fn++fn++fn++fn++fn++fn++fn++fn++fn++fn++fn++fn++fn++fn++fn++fn++fn++fn++fn++fn++fn++fn++fn++fn++fn++fn++fn++fn++fn++fn++fn++fn++fn++fn++fn++fn++fn++fn++fn++fn++fn++fn++fn++fn++fn++fn++fn++fn++fn++fn++fn++fn++fn++fn++fn++fn++fn++fn++fn++fn++fn++fn++fn++fn++fn++fn++fn++fn++fn++fn++fn++fn++fn++fn++fn++fn++fn++fn++fn++fn++fn++fn++fn++fn++fn++fn++fn++fn++fn++fn++fn++fn++fn++fn++fn++fn++fn++fn++fn++fn++fn++fn++fn++fn++fn++fn++fn++fn++fn++fn++fn++fn++fn++fn++fn++fn++fn++fn++fn++fn++fn++fn++fn++fn++fn++fn++fn++fn++fn++fn++fn++fn++fn++fn++fn++fn++fn++fn++fn++fn++fn++fn++fn++fn++fn++fn++fn++fn++fn++fn++fn++fn++fn++fn++fn++fn++fn++fn++fn++fn++fn++fn++fn++fn++fn++fn++fn++fn++fn++fn++fn++fn++fn++fn++fn++fn++fn++fn++fn++fn++fn++fn++fn++fn++fn++fn++fn++fn++fn++fn++fn++fn++fn++fn++fn++fn++fn++fn++fn++fn++fn++fn++fn++fn++fn++fn++fn++fn++fn++fn++fn++fn++fn++fn++fn++fn++fn++fn++fn++fn++fn++fn++fn++fn++fn++fn++fn++fn++fn++fn++fn++fn++fn++fn++fn++fn++fn++fn++fn++fn++fn++fn++fn++fn++fn++fn++fn++fn++fn++fn++fn++fn++fn++fn++fn++fn++fn++fn++fn++fn++fn++fn++fn++fn++fn++fn++fn++fn++fn++fn++fn++fn++fn++fn++fn++fn++fn++fn++fn++fn++fn++fn++fn++fn++fn++fn++fn++fn++fn++fn++fn++fn++fn++fn++fn++fn++fn++fn++fn++fn++fn++fn++fn++fn++fn++fn++fn++fn++fn++fn++fn++fn++fn++fn++fn++fn++fn++fn++fn++fn++fn++fn++fn++fn++fn++fn++fn++fn++fn++fn++fn++fn++fn++fn++fn++fn++fn++fn++fn++fn++fn++fn++fn++fn++fn++fn++fn++fn++fn++fn++fn++fn++fn++fn++fn++fn++fn++fn++fn++fn++fn++fn++fn++fn++fn++fn++fn++fn++fn++fn++fn++fn++fn++fn++fn++fn++fn++fn++fn++fn++fn++fn++fn++fn++fn++fn++fn++fn++fn++fn++fn++fn++fn++fn++fn++fn++fn++fn++fn++fn++fn++fn++fn++fn++fn++fn++fn++fn++fn++fn++fn++fn++fn++fn++fn++fn++fn++fn++fn++fn++fn++fn++fn++fn++fn++fn++fn++fn++fn++fn++fn++fn++fn++fn++fn++fn++fn++fn++fn++fn++fn++fn++fn++fn++fn++fn++fn++fn++fn++fn++fn++fn++fn++fn++fn++fn++fn++fn++fn++fn++fn++fn++fn++fn++fn++fn++fn++fn++fn++fn++fn++fn++fn++fn++fn++fn++fn++fn++fn++fn++fn++fn++fn++fn++fn++fn++fn++fn++fn++fn++fn++fn++fn++fn++fn++fn++fn++fn++fn++fn++fn++fn++fn++fn++fn++fn++fn++fn++fn++fn++fn++fn++fn++fn++fn++fn++fn++fn++fn++fn++fn++fn++fn++fn++fn++fn++fn++fn++fn++fn++fn++fn++fn++fn++fn++fn++fn++fn++fn++fn++fn++fn++fn++fn++fn++fn++fn++fn++fn++fn++fn++fn++fn++fn++fn++fn++fn++fn++fn++fn++fn++fn++fn++fn++fn++fn++fn++fn++fn++fn++fn++fn++fn++fn++fn++fn++fn++fn++fn++fn++fn++fn++fn++fn++fn++fn++fn++fn++fn++fn++fn++fn++fn++fn++fn++fn++fn++fn++fn++fn++fn++fn++fn++fn++fn++fn++fn++fn++fn++fn++fn++fn++fn++fn++fn++fn++fn++fn++fn++fn++fn++fn++fn++fn++fn++fn++fn++fn++fn++fn++fn++fn++fn++fn++fn++fn++fn++fn++fn++fn++fn++fn++fn++fn++fn++fn++fn++fn++fn++fn++fn++fn++fn++fn++fn++fn++fn++fn++fn++fn++fn++fn++fn++fn++fn++fn++fn++fn++fn++fn++fn++fn++fn++fn++fn++fn++fn++fn++fn++fn++fn++fn++fn++fn++fn++fn++fn++fn++fn++fn++fn++fn++fn++fn++fn++fn++fn++fn++fn++fn++fn++fn++fn++fn++fn++fn++fn++fn++fn++fn++fn++fn++fn++fn++fn++fn++fn++fn++fn++fn++fn++fn++fn++fn++fn++fn++fn++fn++fn++fn++fn++fn++fn++fn++fn++fn++fn++fn++fn++fn++fn++fn++fn++fn++fn++fn++fn++fn++fn++fn++fn++fn++fn++fn++fn++fn++fn++fn++fn++fn++fn++fn++fn++fn++fn++fn++fn++fn++fn++fn++fn++fn++fn++fn++fn++fn++fn++fn++fn++fn++fn++fn++fn++fn++fn++fn++fn++fn++fn++fn++fn++fn++fn++fn++fn++fn++fn++fn++fn++fn++fn++fn++fn++fn++fn++fn++fn++fn++fn++fn++fn++fn++fn++fn++fn++fn++fn++fn++fn++fn++fn++fn++fn++fn++fn++fn++fn++fn++fn++fn++fn++fn++fn++fn++fn++fn++fn++fn++fn++fn++fn++fn++fn++fn++fn++fn++fn++fn++fn++fn++fn++fn++fn++fn++fn++fn++fn++fn++fn++fn++fn++fn++fn++fn++fn++fn++fn++fn++fn++fn++fn++fn++fn++fn++fn++fn++fn++fn++fn++fn++fn++fn++fn++fn++fn++fn++fn++fn++fn++fn++fn++fn++fn++fn++fn++fn++fn++fn++fn++fn++fn++fn++fn++fn++fn++fn++fn++fn++fn++fn++fn++fn++fn++fn++fn++fn++fn++fn++fn++fn++fn++fn++fn++fn++fn++fn++fn++fn++fn++fn++fn++fn++fn++fn++fn++fn++fn++fn++fn++fn++fn++fn++fn++fn++fn++fn++fn++fn++fn++fn++fn++fn++fn++fn++fn++fn++fn++fn++fn++fn++fn++fn++fn++fn++fn++fn++fn++fn++fn++fn++fn++fn++fn++fn++fn++fn++fn++fn++fn++fn++fn++fn++fn++fn++fn++fn++fn++fn++fn++fn++fn++fn++fn++fn++fn++fn++fn++fn++fn++fn++fn++fn++fn++fn++fn++fn++fn++fn++fn++fn++fn++fn++fn++fn++fn++fn++fn++fn++fn++fn++fn++fn++fn++fn++fn++fn++fn++fn++fn++fn++fn++fn++fn++fn++fn++fn++fn++fn++fn++fn++fn++fn++fn++fn++fn++fn++fn++fn++fn++fn++fn++fn++fn++fn++fn++fn++fn++fn++fn++fn++fn++fn++fn++fn++fn++fn++fn++fn++fn++fn++fn++fn++fn++fn++fn++fn++fn++fn++fn++fn++fn++fn++fn++fn++fn++fn++fn++fn++fn++fn++fn++fn++fn++fn++fn++fn++fn++fn++fn++fn++fn++fn++fn++fn++fn++fn++fn++fn++fn++fn++fn++fn++fn++fn++fn++fn++fn++fn++fn++fn++fn++fn++fn++fn++fn++fn++fn++fn++fn++fn++fn++fn++fn++fn++fn++fn++fn++fn++fn++fn++fn++fn++fn++fn++fn++fn++fn++fn++fn++fn++fn++fn++fn++fn++fn++fn++fn++fn++fn++fn++fn++fn++fn++fn++fn++fn++fn++fn++fn++fn++fn++fn++fn++fn++fn++fn++fn++fn++fn++fn++fn++fn++fn++fn++fn++fn++fn++fn++fn++fn++fn++fn++fn++fn++fn++fn++fn++fn++fn++fn++fn++fn++fn++fn++fn++fn++fn++fn++fn++fn++fn++fn++fn++fn++fn++fn++fn++fn++fn++fn++fn++fn++fn++fn++fn++fn++fn++fn++fn++fn++fn++fn++fn++fn++fn++fn++fn++fn++fn++fn++fn++fn++fn++fn++fn++fn++fn++fn++fn++fn++fn++fn++fn++fn++fn++fn++fn++fn++fn++fn++fn++fn++fn++fn++fn++fn++fn++fn++fn++fn++fn++fn++fn++fn++fn++fn++fn++fn++fn++fn++fn++fn++fn++fn++fn++fn++fn++fn++fn++fn++fn++fn++fn++fn++fn++fn++fn++fn++fn++fn++fn++fn++fn++fn++fn++fn++fn++fn++fn++fn++fn++fn++fn++fn++fn++fn++fn++fn++fn++fn++fn++fn++fn++fn++fn++fn++fn++fn++fn++fn++fn++fn++fn++fn++fn++fn++fn++fn++fn++fn++fn++fn++fn++fn++fn++fn++fn++fn++fn++fn++fn++fn++fn++fn++fn++fn++fn++fn++fn++fn++fn++fn++fn++fn++fn++fn++fn++fn++fn++fn++fn++fn++fn++fn++fn++fn++fn++fn++fn++fn++fn++fn++fn++fn++fn++fn++fn++fn++fn++fn++fn++fn++fn++fn++fn++fn++fn++fn++fn++fn++fn++fn++fn++fn++fn++fn++fn++fn++fn++fn++fn++fn++fn++fn++fn++fn++fn++fn++fn++fn++fn++fn++fn++fn++fn++fn++fn++fn++fn++fn++fn++fn++fn++fn++fn++fn++fn++fn++fn++fn++fn++fn++fn++fn++fn++fn++fn++fn++fn++fn++fn++fn++fn++fn++fn++fn++fn++fn++fn++fn++fn++fn++fn++fn++fn++fn++fn++fn++fn++fn++fn++fn++fn++fn++fn++fn++fn++fn++fn++fn++fn++fn++fn++fn++fn++fn++fn++fn++fn++fn++fn++fn++fn++fn++fn++fn++fn++fn++fn++fn++fn++fn++fn++fn++fn++fn++fn++fn++fn++fn++fn++fn++fn++fn++fn++fn++fn++fn++fn++fn++fn++fn++fn++fn++fn++fn++fn++fn++fn++fn++fn++fn++fn++fn++fn++fn++fn++fn++fn++fn++fn++fn++fn++fn++fn++fn++fn++fn++fn++fn++fn++fn++fn++fn++fn++fn++fn++fn++fn++fn++fn++fn++fn++fn++fn++fn++fn++fn++fn++fn++fn++fn++fn++fn++fn++fn++fn++fn++fn++fn++fn++fn++fn++fn++fn++fn++fn++fn++fn++fn++fn++fn++fn++fn++fn++fn++fn++fn++fn++fn++fn++fn++fn++fn++fn++fn++fn++fn++fn++fn++fn++fn++fn++fn++fn++fn++fn++fn++fn++fn++fn++fn++fn++fn++fn++fn++fn++fn++fn++fn++fn++fn++fn++fn++fn++fn++fn++fn++fn++fn++fn++fn++fn++fn++fn++fn++fn++fn++fn++fn++fn++fn++fn++fn++fn++fn++fn++fn++fn++fn++fn++fn++fn++fn++fn++fn++fn++fn++fn++fn++fn++fn++fn++fn++fn++fn++fn++fn++fn++fn++fn++fn++fn++fn++fn++fn++fn++fn++fn++fn++fn++fn++fn++fn++fn++fn++fn++fn++fn++fn++fn++fn++fn++fn++fn++fn++fn++fn++fn++fn++fn++fn++fn++fn++fn++fn++fn++fn++fn++fn++fn++fn++fn++fn++fn++fn++fn++fn++fn++fn++fn++fn++fn++fn++fn++fn++fn++fn++fn++fn++fn++fn++fn++fn++fn++fn++fn++fn++fn++fn++fn++fn++fn++fn++fn++fn++fn++fn++fn++fn++fn++fn++fn++fn++fn++fn++fn++fn++fn++fn++fn++fn++fn++fn++fn++fn++fn++fn++fn++fn++fn++fn++fn++fn++fn++fn++fn++fn++fn++fn++fn++fn++fn++fn++fn++fn++fn/Ofn/Ofn/Ofn/Ofn/Ofn/Ofn/Ofn/Ofn/Ofn/Ofn/Ofn/Ofn/Ofn/Ofn/Ofn/Ofn/Ofn/Ofn/Ofn/Ofn/Ofn/Ofn/Ofn/Ofn/Ofn/Ofn/Ofn/Ofn/Ofn/Ofn/Ofn/Ofn/Ofn/Ofn/Ofn/Ofn/Ofn/Ofn/Ofn/Ofn/Ofn/Ofn/Ofn/Ofn/Ofn/Ofn/Ofn/Ofn/Ofn/Ofn/Ofn/Ofn/Ofn/Ofn/Ofn/Ofn/Ofn/Ofn/Ofn/Ofn/Ofn/Ofn/Ofn/Ofn/Ofn/Ofn/Ofn/Ofn/Ofn/Ofn/Ofn/Ofn/Ofn/Ofn/Ofn/Ofn/Ofn/Ofn/Ofn/Ofn/Ofn/Ofn/Ofn/Ofn/Ofn/Ofn/Ofn/Ofn/Ofn/Ofn/Ofn/Ofn/Ofn/Ofn/Ofn/Ofn/Ofn/Ofn/Ofn/Ofn/Ofn/Ofn/Ofn/Ofn/Ofn/Ofn/Ofn/Ofn/Ofn/Ofn/Ofn/Ofn/Ofn/Ofn/Ofn/Ofn/Ofn/Ofn/Ofn/Ofn/Ofn/Ofn/Ofn/Ofn/Ofn/Ofn/Ofn/Ofn/Ofn/Ofn/Ofn/Ofn/Ofn/Ofn/Ofn/Ofn/Ofn/Ofn/Ofn/Ofn/Ofn/Ofn/Ofn/Ofn/Ofn/Ofn/Ofn/Ofn/Ofn/Ofn/Ofn/Ofn/Ofn/Ofn/Ofn/Ofn/Ofn/Ofn/Ofn/Ofn/Ofn/Ofn/Ofn/Ofn/Ofn/Ofn/Ofn/Ofn/Ofn/Ofn/Ofn/Ofn/Ofn/Ofn/Ofn/Ofn/Ofn/Ofn/Ofn/Ofn/Ofn/Ofn/Ofn/Ofn/Ofn/Ofn/Ofn/Ofn/Ofn/Ofn/Ofn/Ofn/Ofn/Ofn/Ofn/Ofn/Ofn/Ofn/Ofn/Ofn/Ofn/Ofn/Ofn/Ofn/Ofn/Ofn/Ofn/Ofn/Ofn/Ofn/Ofn/Ofn/Ofn/Ofn/Ofn/Ofn/Ofn/Ofn/Ofn/Ofn/Ofn/Ofn/Ofn/Ofn/Ofn/Ofn/Ofn/Ofn/Ofn/Ofn/Ofn/Ofn/Ofn/Ofn/Ofn/Ofn/Ofn/Ofn/Ofn/Ofn'}\n",
      "MRZ Line 1: P<AUTREITER<MARCEL PAUL\n",
      "MRZ Line 1 starts with P<AUT\n",
      "MRZ parts: ['REITER', 'MARCEL PAUL']\n",
      "MRZ Surname: REITER, MRZ Given Names: MARCEL PAUL\n",
      "MRZ Line 2: YK6562036AUT860515\n",
      "Birth Date: 1986-05-15 00:00:00\n",
      "YK6562036AUT860515\n",
      "MRZ Line 2: YK6562036AUT860515\n",
      "Expected MRZ Line 2 start: YK6562036AUT860515\n",
      "True\n",
      "Passport Number: YK6562036\n"
     ]
    },
    {
     "data": {
      "text/plain": [
       "True"
      ]
     },
     "execution_count": 191,
     "metadata": {},
     "output_type": "execute_result"
    }
   ],
   "source": [
    "from jb_onboarding.checks.check_passport_consistency import passport_is_consistent\n",
    "\n",
    "passport_is_consistent(client_data)"
   ]
  },
  {
   "cell_type": "code",
   "execution_count": null,
   "metadata": {},
   "outputs": [
    {
     "data": {
      "text/plain": [
       "{'Surname': 'REITER',\n",
       " 'Code': 'AUT',\n",
       " 'Passport Number': 'YK6562036',\n",
       " 'Given Name': 'MARCEL PAUL',\n",
       " 'Birth Date': '15-May-1986',\n",
       " 'Citizenship': 'Austrian/OSTERREICH',\n",
       " 'Sex': 'M',\n",
       " 'Issue Date': '01-Jul-2017',\n",
       " 'Expiry Date': '30-Jun-2027',\n",
       " 'MRZ Line 1': 'P<ATREITER<MARCEL PAUL',\n",
       " 'MRZ Line 2': 'YK6562036AUT680515',\n",
       " 'Signature': '+ujo+ujo+ujo+ujo+ujo+ujo+ujo+ujo+ujo+ujo+ujo+ujo+ujo+ujo+ujo+ujo+ujo+ujo+ujo+ujo+ujo+ujo+ujo+ujo+ujo+ujo+ujo+ujo+ujo+ujo+ujo+ujo+ujo+ujo+ujo+ujo+ujo+ujo+ujo+ujo+ujo+ujo+ujo+ujo+ujo+ujo+ujo+ujo+ujo+ujo+ujo+ujo+ujo+ujo+ujo+ujo+ujo+ujo+ujo+ujo+ujo+ujo+ujo+ujo+ujo+ujo+ujo+ujo+ujo+ujo+ujo+ujo+ujo+ujo+ujo+ujo+ujo+ujo+ujo+ujo+ujo+ujo+ujo+ujo+ujo+ujo+ujo+ujo+ujo+ujo+ujo+ujo+ujo+ujo+ujo+ujo+ujo+ujo+ujo+ujo+ujo+ujo+ujo+ujo+ujo+ujo+ujo+ujo+ujo+ujo+ujo+ujo+ujo+ujo+ujo+ujo+ujo+ujo+ujo+ujo+ujo+ujo+ujo+ujo+ujo+ujo+ujo+ujo+ujo+ujo+ujo+ujo+ujo+ujo+ujo+ujo+ujo+ujo+ujo+ujo+ujo+ujo+ujo+ujo+ujo+ujo+ujo4dDQPDc3FxUV4dDQgHd3EA8PenFx49PTPDc3EhAQxLa2+ujo+ujo+ujo+ujo+ujo+ujo+ujo+ujo+ujo+ujo+ujo+ujo+ujo+ujo+ujo+ujo6dnZKygoc2pq+ujo+ujo+ujo+ujo+ujo+ujo+ujo+ujo+ujo+ujo+ujo+ujo+ujo+ujo+ujo+ujo+ujo+ujo+ujo+ujo+ujo+ujo+ujo+ujo+ujo+ujo+ujo+ujo+ujo+ujo+ujo+ujo+ujo+ujo+ujo+ujo+ujo+ujo+ujo+ujo+ujo+ujo+ujo+ujo+ujo+ujo+ujo+ujo+ujo+ujo+ujo+ujo+ujo+ujo+ujo+ujo+ujo+ujo+ujo+ujo+ujo+ujo+ujo+ujo+ujo+ujo+ujo+ujo+ujo+ujo+ujo+ujo+ujo+ujo+ujo+ujo+ujo+ujo+ujo+ujo+ujo+ujo+ujo+ujo+ujo+ujo+ujo+ujo+ujo+ujoPzo6oZWVGxkZcWlpU01NlImJGRgYW1VVp5ubKicncGho+ujo+ujo+ujo+ujo+ujo+ujo+ujo+ujo+ujo+ujo+ujo+ujo+ujo+ujo+ujo+ujofXR0Zl9fKicn+ujo+ujo+ujot6qqODQ0CgkJGhkZjIKC+ujo+ujo+ujo+ujo+ujo+ujo+ujo+ujo9uTkS0ZGVU9P+ujo+ujo+ujo+ujo+ujo+ujo+ujo+ujo+ujo+ujo+ujo+ujo+ujo+ujo+ujo+ujo+ujo+ujo+ujo+ujo+ujo+ujo+ujo+ujo+ujo+ujo+ujo+ujo+ujo+ujo+ujo+ujo+ujo+ujo+ujo+ujo+ujo+ujo+ujo+ujo+ujo+ujo+ujo+ujo+ujo+ujo+ujo+ujo+ujo+ujo+ujo+ujo+ujo+ujo+ujo+ujo+ujo+ujo+ujo+ujo+ujo+ujo+ujo+ujo+ujo+ujo+ujo+ujo+ujo+ujo+ujoqZyc+ujoHx0dKicn6tnZxri4DAsLa2Nj+ujoPDc3eG9v+ujo+ujo+ujo+ujo+ujo+ujo+ujo+ujo+ujo+ujo+ujo+ujo+ujo+ujo+ujo+ujoIyEhxri4NTEx+ujo+ujosKSkGxkZmo+Py7y8dWxsAAAA0cLC+ujo+ujo+ujo+ujo+ujo+ujo+ujomI2NWlRUIyEh+ujo+ujo+ujo+ujo+ujo+ujo+ujo+ujo+ujo+ujo+ujo+ujo+ujo+ujo+ujo+ujo+ujo+ujo+ujo+ujo+ujo+ujo+ujo+ujo+ujo+ujo+ujo+ujo+ujo+ujo+ujo+ujo+ujo+ujo+ujo+ujo+ujo+ujo+ujo+ujo+ujo+ujo+ujo+ujo+ujo+ujo+ujo+ujo+ujo+ujo+ujo+ujo+ujo+ujo+ujo+ujo+ujo+ujo+ujo+ujo+ujo+ujo+ujo+ujo+ujo+ujo+ujo+ujo+ujo+ujo+ujo+ujo+efnBwYGYFlZ+ujoq56eAAAAxLa2+ujoFBISnJGR+ujo+ujo+ujo+ujo+ujo+ujo+ujo+ujo+ujo+ujo+ujo+ujo+ujo+ujo+ujo4dHRFBISwbOzX1hY+ujo+ObmIB4ew7W1OTU1lImJ2srKAAAAxri4+ujo+ujo+ujo+ujo8N/fGhkZrqGhQz4+nZKSS0VF+ujo+ujo+ujo+ujo+ujo+ujo+ujo+ujo+ujo+ujo+ujo+ujo+ujo+ujo+ujo+ujo+ujo+ujo+ujo+ujo+ujo+ujo+ujo+ujo+ujo+ujo+ujo+ujo+ujo+ujo+ujo+ujo+ujo+ujo+ujo+ujo+ujo+ujo+ujo+ujo+ujo+ujo+ujo+ujo+ujo+ujo+ujo+ujo+ujo+ujo+ujo+ujo+ujo+ujo+ujo+ujo+ujo+ujo+ujo+ujo+ujo+ujo+ujo+ujo+ujo+ujo+ujo+ujo+ujo+ujo+ujo+ujo4dHRAAAAqZyc+ujoh35+EA8P+efn4M/PAAAAybu7+ujoioCAEhAQ+ujo+ujo+ujo+ujo+ujo+ujo+ujo+ujo+ujo+ujo+ujo+ujos6amOTU1fHNzppqa+ujow7W1NzMz9uTkBwYGqJycYVpaNjIy9uTk+ujo+ujo+ujo+ujo+ujo5NTU9uTkDQwMSEJCyru7+ujo+ujo+ujo+ujo+ujo+ujo+ujo+ujo+ujo+ujo+ujo+ujo+ujo+ujo+ujo+ujo+ujo+ujo+ujo+ujo+ujo+ujo+ujo+ujo+ujo+ujo+ujo+ujo+ujo+ujo+ujo+ujo+ujo+ujo+ujo+ujo+ujo+ujo+ujo+ujo+ujo+ujo+ujo+ujo+ujo+ujo+ujo+ujo+ujo+ujo+ujo+ujo+ujo+ujo+ujo+ujo+ujo+ujo+ujo+ujo+ujo+ujo+ujo+ujo+ujo+ujo+ujo+ujo+ujo+ujo+ujo+ujowLKyAAAA3c3N+ujoYltbRD8/+ujotaioAwMD8uHhvrGxCgkJgXh4gnl51sbGOTU1l4yMFhQU3MzMR0JCFRMT18fHSkREEA8PwrS0k4iIS0ZGNDAw8uHh+ujolYqKbmZmVlBQAAAAAAAAXFZW6dnZ+ujo9ePjSkREEA8PwrS01sbGLisrFxUVAAAAAAAADw4O9OPjSkREEA8PwrS01sbGOTU1l4yMFhQU5NTU+ujo+ujo+ujo+ujo+ujo+ujo+ujo+ujo+ujo+ujo+ujo+ujo+ujo+ujo+ujo+ujo+ujo+ujo+ujo+ujo+ujo+ujo+ujo+ujo+ujo+ujo+ujo+ujo+ujo+ujo+ujo+ujo+ujo+ujo+ujo+ujo+ujo+ujo+ujo+ujo+ujo+ujo+ujo+ujo+ujo+ujo+ujo+ujo+ujo+ujo+ujo+ujo+ujo+ujo+ujo+ujo+ujo+ujo+ujo+ujo+ujo+ujo+ujonJGRDQwM+ujo+ujoOzc3bGRk+ujolouLHBoa+ujoYFlZYltbkIaGKSYmmI2NODQ0OjY2AAAAZ2BgMC0tTklJaGBgRD8/YFlZjIKCgnl5FBISe3Jy+ujo+ujog3p6f3Z2raCgCwoKa2NjGBYW797e+ujojIKCRD8/YFlZjIKCmY6OPzo6tqmpExER18fH6tnZjIKCRD8/YFlZjIKCmI2NODQ0OjY2AAAAwLKy0cLC+ujo+ujo+ujo+ujo+ujo+ujo+ujo+ujo+ujo+ujo+ujo+ujo+ujo+ujo+ujo+ujo+ujo+ujo+ujo+ujo+ujo+ujo+ujo+ujo+ujo+ujo+ujo+ujo+ujo+ujo+ujo+ujo+ujo+ujo+ufn+ufn+ufn+ufn+ufn+ufn+ufn+ufn+ufn+ufn+ufn+ufn+ufn+ufn+ufn+ufn+ufn+ufn+ufn+ufn+ufn+ufn+ufn+ufn+ufn+ufn+ufn+ufnfnV1Lisr+ufn+ufnGhgYjoOD+ufnn5OTCwoKvK6uFRMTWFJSOjU1TkhId25uAgICxLW1Dg0NBgUFc2pq0cHBU01NNzMzKicn28rKbmVlFhQU7dvb1MTE9+TkmY2NcmlplImJKygo7NraCQgInpKS+ufnQTw8Pzo6Kicn28rKX1hYZl5exba2DQwM+ufn+ufnS0VFQDs7Kicn28rKZV1dAgICxLW1Dg0NFBIS2cjI+ufn+ufn+ufn+ufn+ufn+ufn+ufn+ufn+ufn+ufn+ufn+ufn+ufn+ufn+ufn+ufn+ufn+ufn+ufn+ufn+ufn+ufn+ufn+ufn+ufn+ufn+ufn+ufn+ufn+ufn+ufn+ufn+ufn+ufn+ufn+ufn+ufn+ufn+ufn+ufn+ufn+ufn+ufn+ufn+ufn+ufn+ufn+ufn+ufn+ufn+ufn+ufn+ufn+ufn+ufn+ufn+ufn+ufn+ufn+ufn+ufn+ufnjYKCZFxc+ufn+ufnLSoqwrOz+ufn7NraNDAwEQ8PamJiEQ8PfXR0UEpKJSIiGRcX+ufn4tHRW1RUS0ZGyLm5HRsbGRcXuaurWVJSS0VFLCkpt6mpKicn9eLiy7y8JyQkWVJSTUhI+ufnX1hYLCkpva+vFBISJSIiuaurWVJSMS0tWlNTR0FBBgUFq56ehXt7LSoqJSIiuaurWVJSMy8vIR8f+ufn4tHR8N7e+ufn+ufn+ufn+ufn+ufn+ufn+ufn+ufn+ufn+ufn+ufn+ufn+ufn+ufn+ufn+ufn+ufn+ufn+ufn+ufn+ufn+ufn+ufn+ufn+ufn+ufn+ufn+ufn+ufn+ufn+ufn+ufn+ufn+ufn+ufn++fn++fn++fn++fn++fn++fn++fn++fn++fn++fn++fn++fn++fn++fn++fn++fn++fn++fn++fn++fn++fn++fn++fn++fn++fn++fn++fn++fn++fn++fn++fn++fn++fn++fn++fn++fn++fn++fn++fn++fn++fnGxgYTUdHcGdn++fn++fn0sHBJiMjEA4ObWVlLysrCwoKX1hY6dfXOjU1GxgYv7Cw++fn++fncGdnCwoKo5aW++fn3s3NJCIiHhsbqZycLysrCwoKX1hYs6WlDg0NfnR0hnt7DQwMSEJC0L+/LysrCwoKX1hYmIyMcGdn++fn++fn++fn++fn++fn++fn++fn++fn++fn++fn++fn++fn++fn++fn++fn++fn++fn++fn++fn++fn++fn++fn++fn++fn++fn++fn++fn++fn++fn++fn++fn++fn++fn++fn++fn++fn++fn++fn++fn++fn++fn++fn++fn++fn++fn++fn++fn++fn++fn++fn++fn++fn++fn++fn++fn++fn++fn++fn++fn++fn++fn++fn++fn++fn++fn++fn++fn++fn++fn++fn++fn++fn++fn++fn++fn++fn++fn++fn++fn++fn++fn++fn++fn++fn++fn++fn++fn++fn++fn++fn++fn++fn++fn++fn++fn++fn++fn++fn++fn++fn++fn++fn++fn++fn++fn++fn++fn++fn++fn++fn++fn++fn++fn++fn++fn++fn++fn++fn++fn++fn++fn++fn++fn++fn++fn++fn++fn++fn++fn++fn++fn++fn++fn++fn++fn++fn++fn++fn++fn++fn++fn++fn++fn++fn++fn++fn++fn++fn++fn++fn++fn++fn++fn++fn++fn++fn++fn++fn++fn++fn++fn++fn++fn++fn++fn++fn++fn++fn++fn++fn++fn++fn++fn++fn++fn++fn++fn++fn++fn++fn++fn++fn++fn++fn++fn++fn++fn++fn++fn++fn++fn++fn++fn++fn++fn++fn++fn++fn++fn++fn++fn++fn++fn++fn++fn++fn++fn++fn++fn++fn++fn++fn++fn++fn++fn++fn++fn++fn++fn++fn++fn++fn++fn++fn++fn++fn++fn++fn++fn++fn++fn++fn++fn++fn++fn++fn++fn++fn++fn++fn++fn++fn++fn++fn++fn++fn++fn++fn++fn++fn++fn++fn++fn++fn++fn++fn++fn++fn++fn++fn++fn++fn++fn++fn++fn++fn++fn++fn++fn++fn++fn++fn++fn++fn++fn++fn++fn++fn++fn++fn++fn++fn++fn++fn++fn++fn++fn++fn++fn++fn++fn++fn++fn++fn++fn++fn++fn++fn++fn++fn++fn++fn++fn++fn++fn++fn++fn++fn++fn++fn++fn++fn++fn++fn++fn++fn++fn++fn++fn++fn++fn++fn++fn++fn++fn++fn++fn++fn++fn++fn++fn++fn++fn++fn++fn++fn++fn++fn++fn++fn++fn++fn++fn++fn++fn++fn++fn++fn++fn++fn++fn++fn++fn++fn++fn++fn++fn++fn++fn++fn++fn++fn++fn++fn++fn++fn++fn++fn++fn++fn++fn++fn++fn++fn++fn++fn++fn++fn++fn++fn++fn++fn++fn++fn++fn++fn++fn++fn++fn++fn++fn++fn++fn++fn++fn++fn++fn++fn++fn++fn++fn++fn++fn++fn++fn++fn++fn++fn++fn++fn++fn++fn++fn++fn++fn++fn++fn++fn++fn++fn++fn++fn++fn++fn++fn++fn++fn++fn++fn++fn++fn++fn++fn++fn++fn++fn++fn++fn++fn++fn++fn++fn++fn++fn++fn++fn++fn++fn++fn++fn++fn++fn++fn++fn++fn++fn++fn++fn++fn++fn++fn++fn++fn++fn++fn++fn++fn++fn++fn++fn++fn++fn++fn++fn++fn++fn++fn++fn++fn++fn++fn++fn++fn++fn++fn++fn++fn++fn++fn++fn++fn++fn++fn++fn++fn++fn++fn++fn++fn++fn++fn++fn++fn++fn++fn++fn++fn++fn++fn++fn++fn++fn++fn++fn++fn++fn++fn++fn++fn++fn++fn++fn++fn++fn++fn++fn++fn++fn++fn++fn++fn++fn++fn++fn++fn++fn++fn++fn++fn++fn++fn++fn++fn++fn++fn++fn++fn++fn++fn++fn++fn++fn++fn++fn++fn++fn++fn++fn++fn++fn++fn++fn++fn++fn++fn++fn++fn++fn++fn++fn++fn++fn++fn++fn++fn++fn++fn++fn++fn++fn++fn++fn++fn++fn++fn++fn++fn++fn++fn++fn++fn++fn++fn++fn++fn++fn++fn++fn++fn++fn++fn++fn++fn++fn++fn++fn++fn++fn++fn++fn++fn++fn++fn++fn++fn++fn++fn++fn++fn++fn++fn++fn++fn++fn++fn++fn++fn++fn++fn++fn++fn++fn++fn++fn++fn++fn++fn++fn++fn++fn++fn++fn++fn++fn++fn++fn++fn++fn++fn++fn++fn++fn++fn++fn++fn++fn++fn++fn++fn++fn++fn++fn++fn++fn++fn++fn++fn++fn++fn++fn++fn++fn++fn++fn++fn++fn++fn++fn++fn++fn++fn++fn++fn++fn++fn++fn++fn++fn++fn++fn++fn++fn++fn++fn++fn++fn++fn++fn++fn++fn++fn++fn++fn++fn++fn++fn++fn++fn++fn++fn++fn++fn++fn++fn++fn++fn++fn++fn++fn++fn++fn++fn++fn++fn++fn++fn++fn++fn++fn++fn++fn++fn++fn++fn++fn++fn++fn++fn++fn++fn++fn++fn++fn++fn++fn++fn++fn++fn++fn++fn++fn++fn++fn++fn++fn++fn++fn++fn++fn++fn++fn++fn++fn++fn++fn++fn++fn++fn++fn++fn++fn++fn++fn++fn++fn++fn++fn++fn++fn++fn++fn++fn++fn++fn++fn++fn++fn++fn++fn++fn++fn++fn++fn++fn++fn++fn++fn++fn++fn++fn++fn++fn++fn++fn++fn++fn++fn++fn++fn++fn++fn++fn++fn++fn++fn++fn++fn++fn++fn++fn++fn++fn++fn++fn++fn++fn++fn++fn++fn++fn++fn++fn++fn++fn++fn++fn++fn++fn++fn++fn++fn++fn++fn++fn++fn++fn++fn++fn++fn++fn++fn++fn++fn++fn++fn++fn++fn++fn++fn++fn++fn++fn++fn++fn++fn++fn++fn++fn++fn++fn++fn++fn++fn++fn++fn++fn++fn++fn++fn++fn++fn++fn++fn++fn++fn++fn++fn++fn++fn++fn++fn++fn++fn++fn++fn++fn++fn++fn++fn++fn++fn++fn++fn++fn++fn++fn++fn++fn++fn++fn++fn++fn++fn++fn++fn++fn++fn++fn++fn++fn++fn++fn++fn++fn++fn++fn++fn++fn++fn++fn++fn++fn++fn++fn++fn++fn++fn++fn++fn++fn++fn++fn++fn++fn++fn++fn++fn++fn++fn++fn++fn++fn++fn++fn++fn++fn++fn++fn++fn++fn++fn++fn++fn++fn++fn++fn++fn++fn++fn++fn++fn++fn++fn++fn++fn++fn++fn++fn++fn++fn++fn++fn++fn++fn++fn++fn++fn++fn++fn++fn++fn++fn++fn++fn++fn++fn++fn++fn++fn++fn++fn++fn++fn++fn++fn++fn++fn++fn++fn++fn++fn++fn++fn++fn++fn++fn++fn++fn++fn++fn++fn++fn++fn++fn++fn++fn++fn++fn++fn++fn++fn++fn++fn++fn++fn++fn++fn++fn++fn++fn++fn++fn++fn++fn++fn++fn++fn++fn++fn++fn++fn++fn++fn++fn++fn++fn++fn++fn++fn++fn++fn++fn++fn++fn++fn++fn++fn++fn++fn++fn++fn++fn++fn++fn++fn++fn++fn++fn++fn++fn++fn++fn++fn++fn++fn++fn++fn++fn++fn++fn++fn++fn++fn++fn++fn++fn++fn++fn++fn++fn++fn++fn++fn++fn++fn++fn++fn++fn++fn++fn++fn++fn++fn++fn++fn++fn++fn++fn++fn++fn++fn++fn++fn++fn++fn++fn++fn++fn++fn++fn++fn++fn++fn++fn++fn++fn++fn++fn++fn++fn++fn++fn++fn++fn++fn++fn++fn++fn++fn++fn++fn++fn++fn++fn++fn++fn++fn++fn++fn++fn++fn++fn++fn++fn++fn++fn++fn++fn++fn++fn++fn++fn++fn++fn++fn++fn++fn++fn++fn++fn++fn++fn++fn++fn++fn++fn++fn++fn++fn++fn++fn++fn++fn++fn++fn++fn++fn++fn++fn++fn++fn++fn++fn++fn++fn++fn++fn++fn++fn++fn++fn++fn++fn++fn++fn++fn++fn++fn++fn++fn++fn++fn++fn++fn++fn++fn++fn++fn++fn++fn++fn++fn++fn++fn++fn++fn++fn++fn++fn++fn++fn++fn++fn++fn++fn++fn++fn++fn++fn++fn++fn++fn++fn++fn++fn++fn++fn++fn++fn++fn++fn++fn++fn++fn++fn++fn++fn++fn++fn++fn++fn++fn++fn++fn++fn++fn++fn++fn++fn++fn++fn++fn++fn++fn++fn++fn++fn++fn++fn++fn++fn++fn++fn++fn++fn++fn++fn++fn++fn++fn++fn++fn++fn++fn++fn++fn++fn++fn++fn++fn++fn++fn++fn++fn++fn++fn++fn++fn++fn++fn++fn++fn++fn++fn++fn++fn++fn++fn++fn++fn++fn++fn++fn++fn++fn++fn++fn++fn++fn++fn++fn++fn++fn++fn++fn++fn++fn++fn++fn++fn++fn++fn++fn++fn++fn++fn++fn++fn++fn++fn++fn++fn++fn++fn++fn++fn++fn++fn++fn++fn++fn++fn++fn++fn++fn++fn++fn++fn++fn++fn++fn++fn++fn++fn++fn++fn++fn++fn++fn++fn++fn++fn++fn++fn++fn++fn++fn++fn++fn++fn++fn++fn++fn++fn++fn++fn++fn++fn++fn++fn++fn++fn++fn++fn++fn++fn++fn++fn++fn++fn++fn++fn++fn++fn++fn++fn++fn++fn++fn++fn++fn++fn++fn++fn++fn++fn++fn++fn++fn++fn++fn++fn++fn++fn++fn++fn++fn++fn++fn++fn++fn++fn++fn++fn++fn++fn++fn++fn++fn++fn++fn++fn++fn++fn++fn++fn++fn++fn++fn++fn++fn++fn++fn++fn++fn++fn++fn++fn++fn++fn++fn++fn++fn++fn++fn++fn++fn++fn++fn++fn++fn++fn++fn++fn++fn++fn++fn++fn++fn++fn++fn++fn++fn++fn++fn++fn++fn++fn++fn++fn++fn++fn++fn++fn++fn++fn++fn++fn++fn++fn++fn++fn++fn++fn++fn++fn++fn++fn++fn++fn++fn++fn++fn++fn++fn++fn++fn++fn++fn++fn++fn++fn++fn++fn++fn++fn++fn++fn++fn++fn++fn++fn++fn++fn++fn++fn++fn++fn++fn++fn++fn++fn++fn++fn++fn++fn++fn++fn++fn++fn++fn++fn++fn++fn++fn++fn++fn++fn++fn++fn++fn++fn++fn++fn++fn++fn++fn++fn++fn++fn++fn++fn++fn++fn++fn++fn++fn++fn++fn++fn++fn++fn++fn++fn++fn++fn++fn++fn++fn++fn++fn++fn++fn++fn++fn++fn++fn++fn++fn++fn++fn++fn++fn++fn++fn++fn++fn++fn++fn++fn++fn++fn++fn++fn++fn++fn++fn++fn++fn++fn++fn++fn++fn++fn++fn++fn++fn++fn++fn++fn++fn++fn++fn++fn++fn++fn++fn++fn++fn++fn++fn++fn++fn++fn++fn++fn++fn++fn++fn++fn++fn++fn++fn++fn++fn++fn++fn++fn++fn++fn++fn++fn++fn++fn++fn++fn++fn++fn++fn++fn++fn++fn++fn++fn++fn++fn++fn++fn++fn++fn++fn++fn++fn++fn++fn++fn++fn++fn++fn++fn++fn++fn++fn++fn++fn++fn++fn++fn++fn++fn++fn++fn++fn++fn++fn++fn++fn++fn++fn++fn++fn++fn++fn++fn++fn++fn++fn++fn++fn++fn++fn++fn++fn++fn++fn++fn++fn++fn++fn++fn++fn++fn++fn++fn++fn++fn++fn++fn++fn++fn++fn++fn++fn++fn++fn++fn++fn++fn++fn++fn++fn++fn++fn++fn++fn++fn++fn++fn++fn++fn++fn++fn++fn++fn++fn++fn++fn++fn++fn++fn++fn++fn++fn++fn++fn++fn++fn++fn++fn++fn++fn++fn++fn++fn++fn++fn++fn++fn++fn++fn++fn++fn++fn++fn++fn++fn++fn++fn++fn++fn++fn++fn++fn++fn++fn++fn++fn++fn++fn++fn++fn++fn++fn++fn++fn++fn++fn++fn++fn++fn++fn++fn++fn++fn++fn++fn++fn++fn++fn++fn++fn++fn++fn++fn++fn++fn++fn++fn++fn++fn++fn++fn++fn++fn++fn++fn++fn++fn++fn++fn++fn++fn++fn++fn++fn++fn++fn++fn++fn++fn++fn++fn++fn++fn++fn++fn++fn++fn++fn++fn++fn++fn++fn++fn++fn++fn++fn++fn++fn++fn++fn++fn++fn++fn++fn++fn++fn++fn++fn++fn++fn++fn++fn++fn++fn++fn++fn++fn++fn++fn++fn++fn++fn++fn++fn++fn++fn++fn++fn++fn++fn++fn++fn++fn++fn++fn++fn++fn++fn++fn++fn++fn++fn++fn++fn++fn++fn++fn++fn++fn++fn++fn++fn++fn++fn++fn++fn++fn++fn++fn++fn++fn++fn++fn++fn++fn++fn++fn++fn++fn++fn++fn++fn++fn++fn++fn++fn++fn++fn++fn++fn++fn++fn++fn++fn++fn++fn++fn++fn++fn++fn++fn++fn++fn++fn++fn++fn++fn++fn++fn++fn++fn++fn++fn++fn++fn++fn++fn++fn++fn++fn++fn++fn++fn++fn++fn++fn++fn++fn++fn++fn++fn++fn++fn++fn++fn++fn++fn++fn++fn++fn++fn++fn++fn++fn++fn++fn++fn++fn++fn++fn++fn++fn++fn++fn++fn++fn++fn++fn++fn++fn++fn++fn++fn++fn++fn++fn++fn++fn++fn++fn++fn++fn++fn++fn++fn++fn++fn++fn++fn++fn++fn++fn++fn++fn++fn++fn++fn++fn++fn++fn++fn++fn++fn++fn++fn++fn++fn++fn++fn++fn++fn++fn++fn++fn++fn++fn++fn++fn++fn++fn++fn++fn++fn++fn++fn++fn++fn++fn++fn++fn++fn++fn++fn++fn++fn++fn++fn++fn++fn++fn++fn++fn++fn++fn++fn++fn++fn++fn++fn++fn++fn++fn++fn++fn++fn++fn++fn++fn++fn++fn++fn++fn++fn++fn++fn++fn++fn++fn++fn++fn++fn++fn++fn++fn++fn++fn++fn++fn++fn++fn++fn++fn++fn++fn++fn++fn++fn++fn++fn++fn++fn++fn++fn++fn++fn++fn++fn++fn++fn++fn++fn++fn++fn++fn++fn++fn++fn++fn++fn++fn++fn++fn++fn++fn++fn++fn++fn++fn++fn++fn++fn++fn++fn++fn++fn++fn++fn++fn++fn++fn++fn++fn++fn++fn++fn++fn++fn++fn++fn++fn++fn++fn++fn++fn++fn++fn++fn++fn++fn++fn++fn++fn++fn++fn++fn++fn++fn++fn++fn++fn++fn++fn++fn++fn++fn++fn++fn++fn++fn++fn++fn++fn++fn++fn++fn++fn++fn++fn++fn++fn++fn++fn++fn++fn++fn++fn++fn++fn++fn++fn++fn++fn++fn++fn++fn++fn++fn++fn++fn++fn++fn++fn++fn++fn++fn++fn++fn++fn++fn++fn++fn++fn++fn++fn++fn++fn++fn++fn++fn++fn++fn++fn++fn++fn++fn++fn++fn++fn++fn++fn++fn++fn++fn++fn++fn++fn++fn/Ofn/Ofn/Ofn/Ofn/Ofn/Ofn/Ofn/Ofn/Ofn/Ofn/Ofn/Ofn/Ofn/Ofn/Ofn/Ofn/Ofn/Ofn/Ofn/Ofn/Ofn/Ofn/Ofn/Ofn/Ofn/Ofn/Ofn/Ofn/Ofn/Ofn/Ofn/Ofn/Ofn/Ofn/Ofn/Ofn/Ofn/Ofn/Ofn/Ofn/Ofn/Ofn/Ofn/Ofn/Ofn/Ofn/Ofn/Ofn/Ofn/Ofn/Ofn/Ofn/Ofn/Ofn/Ofn/Ofn/Ofn/Ofn/Ofn/Ofn/Ofn/Ofn/Ofn/Ofn/Ofn/Ofn/Ofn/Ofn/Ofn/Ofn/Ofn/Ofn/Ofn/Ofn/Ofn/Ofn/Ofn/Ofn/Ofn/Ofn/Ofn/Ofn/Ofn/Ofn/Ofn/Ofn/Ofn/Ofn/Ofn/Ofn/Ofn/Ofn/Ofn/Ofn/Ofn/Ofn/Ofn/Ofn/Ofn/Ofn/Ofn/Ofn/Ofn/Ofn/Ofn/Ofn/Ofn/Ofn/Ofn/Ofn/Ofn/Ofn/Ofn/Ofn/Ofn/Ofn/Ofn/Ofn/Ofn/Ofn/Ofn/Ofn/Ofn/Ofn/Ofn/Ofn/Ofn/Ofn/Ofn/Ofn/Ofn/Ofn/Ofn/Ofn/Ofn/Ofn/Ofn/Ofn/Ofn/Ofn/Ofn/Ofn/Ofn/Ofn/Ofn/Ofn/Ofn/Ofn/Ofn/Ofn/Ofn/Ofn/Ofn/Ofn/Ofn/Ofn/Ofn/Ofn/Ofn/Ofn/Ofn/Ofn/Ofn/Ofn/Ofn/Ofn/Ofn/Ofn/Ofn/Ofn/Ofn/Ofn/Ofn/Ofn/Ofn/Ofn/Ofn/Ofn/Ofn/Ofn/Ofn/Ofn/Ofn/Ofn/Ofn/Ofn/Ofn/Ofn/Ofn/Ofn/Ofn/Ofn/Ofn/Ofn/Ofn/Ofn/Ofn/Ofn/Ofn/Ofn/Ofn/Ofn/Ofn/Ofn/Ofn/Ofn/Ofn/Ofn/Ofn/Ofn/Ofn/Ofn/Ofn/Ofn/Ofn/Ofn/Ofn/Ofn/Ofn/Ofn/Ofn/Ofn/Ofn/Ofn/Ofn/Ofn/Ofn/Ofn/Ofn/Ofn/Ofn/Ofn/Ofn/Ofn/Ofn/Ofn/Ofn/Ofn/Ofn/Ofn',\n",
       " 'signature': ''}"
      ]
     },
     "execution_count": 142,
     "metadata": {},
     "output_type": "execute_result"
    }
   ],
   "source": [
    "filtered_data[\"passport\"]"
   ]
  },
  {
   "cell_type": "code",
   "execution_count": null,
   "metadata": {},
   "outputs": [
    {
     "data": {
      "text/plain": [
       "{'Surname': 'REITER',\n",
       " 'Code': 'AUT',\n",
       " 'Passport Number': 'YK6562036',\n",
       " 'Given Name': 'MARCEL PAUL',\n",
       " 'Birth Date': '15-May-1986',\n",
       " 'Citizenship': 'Austrian/OSTERREICH',\n",
       " 'Sex': 'M',\n",
       " 'Issue Date': '01-Jul-2017',\n",
       " 'Expiry Date': '30-Jun-2027',\n",
       " 'MRZ Line 1': 'P<ATREITER<MARCEL PAUL',\n",
       " 'MRZ Line 2': 'YK6562036AUT680515',\n",
       " 'Signature': '+ujo+ujo+ujo+ujo+ujo+ujo+ujo+ujo+ujo+ujo+ujo+ujo+ujo+ujo+ujo+ujo+ujo+ujo+ujo+ujo+ujo+ujo+ujo+ujo+ujo+ujo+ujo+ujo+ujo+ujo+ujo+ujo+ujo+ujo+ujo+ujo+ujo+ujo+ujo+ujo+ujo+ujo+ujo+ujo+ujo+ujo+ujo+ujo+ujo+ujo+ujo+ujo+ujo+ujo+ujo+ujo+ujo+ujo+ujo+ujo+ujo+ujo+ujo+ujo+ujo+ujo+ujo+ujo+ujo+ujo+ujo+ujo+ujo+ujo+ujo+ujo+ujo+ujo+ujo+ujo+ujo+ujo+ujo+ujo+ujo+ujo+ujo+ujo+ujo+ujo+ujo+ujo+ujo+ujo+ujo+ujo+ujo+ujo+ujo+ujo+ujo+ujo+ujo+ujo+ujo+ujo+ujo+ujo+ujo+ujo+ujo+ujo+ujo+ujo+ujo+ujo+ujo+ujo+ujo+ujo+ujo+ujo+ujo+ujo+ujo+ujo+ujo+ujo+ujo+ujo+ujo+ujo+ujo+ujo+ujo+ujo+ujo+ujo+ujo+ujo+ujo+ujo+ujo+ujo+ujo+ujo+ujo4dDQPDc3FxUV4dDQgHd3EA8PenFx49PTPDc3EhAQxLa2+ujo+ujo+ujo+ujo+ujo+ujo+ujo+ujo+ujo+ujo+ujo+ujo+ujo+ujo+ujo+ujo6dnZKygoc2pq+ujo+ujo+ujo+ujo+ujo+ujo+ujo+ujo+ujo+ujo+ujo+ujo+ujo+ujo+ujo+ujo+ujo+ujo+ujo+ujo+ujo+ujo+ujo+ujo+ujo+ujo+ujo+ujo+ujo+ujo+ujo+ujo+ujo+ujo+ujo+ujo+ujo+ujo+ujo+ujo+ujo+ujo+ujo+ujo+ujo+ujo+ujo+ujo+ujo+ujo+ujo+ujo+ujo+ujo+ujo+ujo+ujo+ujo+ujo+ujo+ujo+ujo+ujo+ujo+ujo+ujo+ujo+ujo+ujo+ujo+ujo+ujo+ujo+ujo+ujo+ujo+ujo+ujo+ujo+ujo+ujo+ujo+ujo+ujo+ujo+ujo+ujo+ujo+ujo+ujoPzo6oZWVGxkZcWlpU01NlImJGRgYW1VVp5ubKicncGho+ujo+ujo+ujo+ujo+ujo+ujo+ujo+ujo+ujo+ujo+ujo+ujo+ujo+ujo+ujo+ujofXR0Zl9fKicn+ujo+ujo+ujot6qqODQ0CgkJGhkZjIKC+ujo+ujo+ujo+ujo+ujo+ujo+ujo+ujo9uTkS0ZGVU9P+ujo+ujo+ujo+ujo+ujo+ujo+ujo+ujo+ujo+ujo+ujo+ujo+ujo+ujo+ujo+ujo+ujo+ujo+ujo+ujo+ujo+ujo+ujo+ujo+ujo+ujo+ujo+ujo+ujo+ujo+ujo+ujo+ujo+ujo+ujo+ujo+ujo+ujo+ujo+ujo+ujo+ujo+ujo+ujo+ujo+ujo+ujo+ujo+ujo+ujo+ujo+ujo+ujo+ujo+ujo+ujo+ujo+ujo+ujo+ujo+ujo+ujo+ujo+ujo+ujo+ujo+ujo+ujo+ujo+ujo+ujoqZyc+ujoHx0dKicn6tnZxri4DAsLa2Nj+ujoPDc3eG9v+ujo+ujo+ujo+ujo+ujo+ujo+ujo+ujo+ujo+ujo+ujo+ujo+ujo+ujo+ujo+ujoIyEhxri4NTEx+ujo+ujosKSkGxkZmo+Py7y8dWxsAAAA0cLC+ujo+ujo+ujo+ujo+ujo+ujo+ujomI2NWlRUIyEh+ujo+ujo+ujo+ujo+ujo+ujo+ujo+ujo+ujo+ujo+ujo+ujo+ujo+ujo+ujo+ujo+ujo+ujo+ujo+ujo+ujo+ujo+ujo+ujo+ujo+ujo+ujo+ujo+ujo+ujo+ujo+ujo+ujo+ujo+ujo+ujo+ujo+ujo+ujo+ujo+ujo+ujo+ujo+ujo+ujo+ujo+ujo+ujo+ujo+ujo+ujo+ujo+ujo+ujo+ujo+ujo+ujo+ujo+ujo+ujo+ujo+ujo+ujo+ujo+ujo+ujo+ujo+ujo+ujo+ujo+ujo+ujo+efnBwYGYFlZ+ujoq56eAAAAxLa2+ujoFBISnJGR+ujo+ujo+ujo+ujo+ujo+ujo+ujo+ujo+ujo+ujo+ujo+ujo+ujo+ujo+ujo4dHRFBISwbOzX1hY+ujo+ObmIB4ew7W1OTU1lImJ2srKAAAAxri4+ujo+ujo+ujo+ujo8N/fGhkZrqGhQz4+nZKSS0VF+ujo+ujo+ujo+ujo+ujo+ujo+ujo+ujo+ujo+ujo+ujo+ujo+ujo+ujo+ujo+ujo+ujo+ujo+ujo+ujo+ujo+ujo+ujo+ujo+ujo+ujo+ujo+ujo+ujo+ujo+ujo+ujo+ujo+ujo+ujo+ujo+ujo+ujo+ujo+ujo+ujo+ujo+ujo+ujo+ujo+ujo+ujo+ujo+ujo+ujo+ujo+ujo+ujo+ujo+ujo+ujo+ujo+ujo+ujo+ujo+ujo+ujo+ujo+ujo+ujo+ujo+ujo+ujo+ujo+ujo+ujo+ujo4dHRAAAAqZyc+ujoh35+EA8P+efn4M/PAAAAybu7+ujoioCAEhAQ+ujo+ujo+ujo+ujo+ujo+ujo+ujo+ujo+ujo+ujo+ujo+ujos6amOTU1fHNzppqa+ujow7W1NzMz9uTkBwYGqJycYVpaNjIy9uTk+ujo+ujo+ujo+ujo+ujo5NTU9uTkDQwMSEJCyru7+ujo+ujo+ujo+ujo+ujo+ujo+ujo+ujo+ujo+ujo+ujo+ujo+ujo+ujo+ujo+ujo+ujo+ujo+ujo+ujo+ujo+ujo+ujo+ujo+ujo+ujo+ujo+ujo+ujo+ujo+ujo+ujo+ujo+ujo+ujo+ujo+ujo+ujo+ujo+ujo+ujo+ujo+ujo+ujo+ujo+ujo+ujo+ujo+ujo+ujo+ujo+ujo+ujo+ujo+ujo+ujo+ujo+ujo+ujo+ujo+ujo+ujo+ujo+ujo+ujo+ujo+ujo+ujo+ujo+ujo+ujo+ujowLKyAAAA3c3N+ujoYltbRD8/+ujotaioAwMD8uHhvrGxCgkJgXh4gnl51sbGOTU1l4yMFhQU3MzMR0JCFRMT18fHSkREEA8PwrS0k4iIS0ZGNDAw8uHh+ujolYqKbmZmVlBQAAAAAAAAXFZW6dnZ+ujo9ePjSkREEA8PwrS01sbGLisrFxUVAAAAAAAADw4O9OPjSkREEA8PwrS01sbGOTU1l4yMFhQU5NTU+ujo+ujo+ujo+ujo+ujo+ujo+ujo+ujo+ujo+ujo+ujo+ujo+ujo+ujo+ujo+ujo+ujo+ujo+ujo+ujo+ujo+ujo+ujo+ujo+ujo+ujo+ujo+ujo+ujo+ujo+ujo+ujo+ujo+ujo+ujo+ujo+ujo+ujo+ujo+ujo+ujo+ujo+ujo+ujo+ujo+ujo+ujo+ujo+ujo+ujo+ujo+ujo+ujo+ujo+ujo+ujo+ujo+ujo+ujo+ujo+ujo+ujo+ujonJGRDQwM+ujo+ujoOzc3bGRk+ujolouLHBoa+ujoYFlZYltbkIaGKSYmmI2NODQ0OjY2AAAAZ2BgMC0tTklJaGBgRD8/YFlZjIKCgnl5FBISe3Jy+ujo+ujog3p6f3Z2raCgCwoKa2NjGBYW797e+ujojIKCRD8/YFlZjIKCmY6OPzo6tqmpExER18fH6tnZjIKCRD8/YFlZjIKCmI2NODQ0OjY2AAAAwLKy0cLC+ujo+ujo+ujo+ujo+ujo+ujo+ujo+ujo+ujo+ujo+ujo+ujo+ujo+ujo+ujo+ujo+ujo+ujo+ujo+ujo+ujo+ujo+ujo+ujo+ujo+ujo+ujo+ujo+ujo+ujo+ujo+ujo+ujo+ujo+ufn+ufn+ufn+ufn+ufn+ufn+ufn+ufn+ufn+ufn+ufn+ufn+ufn+ufn+ufn+ufn+ufn+ufn+ufn+ufn+ufn+ufn+ufn+ufn+ufn+ufn+ufn+ufnfnV1Lisr+ufn+ufnGhgYjoOD+ufnn5OTCwoKvK6uFRMTWFJSOjU1TkhId25uAgICxLW1Dg0NBgUFc2pq0cHBU01NNzMzKicn28rKbmVlFhQU7dvb1MTE9+TkmY2NcmlplImJKygo7NraCQgInpKS+ufnQTw8Pzo6Kicn28rKX1hYZl5exba2DQwM+ufn+ufnS0VFQDs7Kicn28rKZV1dAgICxLW1Dg0NFBIS2cjI+ufn+ufn+ufn+ufn+ufn+ufn+ufn+ufn+ufn+ufn+ufn+ufn+ufn+ufn+ufn+ufn+ufn+ufn+ufn+ufn+ufn+ufn+ufn+ufn+ufn+ufn+ufn+ufn+ufn+ufn+ufn+ufn+ufn+ufn+ufn+ufn+ufn+ufn+ufn+ufn+ufn+ufn+ufn+ufn+ufn+ufn+ufn+ufn+ufn+ufn+ufn+ufn+ufn+ufn+ufn+ufn+ufn+ufn+ufn+ufn+ufn+ufnjYKCZFxc+ufn+ufnLSoqwrOz+ufn7NraNDAwEQ8PamJiEQ8PfXR0UEpKJSIiGRcX+ufn4tHRW1RUS0ZGyLm5HRsbGRcXuaurWVJSS0VFLCkpt6mpKicn9eLiy7y8JyQkWVJSTUhI+ufnX1hYLCkpva+vFBISJSIiuaurWVJSMS0tWlNTR0FBBgUFq56ehXt7LSoqJSIiuaurWVJSMy8vIR8f+ufn4tHR8N7e+ufn+ufn+ufn+ufn+ufn+ufn+ufn+ufn+ufn+ufn+ufn+ufn+ufn+ufn+ufn+ufn+ufn+ufn+ufn+ufn+ufn+ufn+ufn+ufn+ufn+ufn+ufn+ufn+ufn+ufn+ufn+ufn+ufn+ufn+ufn++fn++fn++fn++fn++fn++fn++fn++fn++fn++fn++fn++fn++fn++fn++fn++fn++fn++fn++fn++fn++fn++fn++fn++fn++fn++fn++fn++fn++fn++fn++fn++fn++fn++fn++fn++fn++fn++fn++fn++fn++fnGxgYTUdHcGdn++fn++fn0sHBJiMjEA4ObWVlLysrCwoKX1hY6dfXOjU1GxgYv7Cw++fn++fncGdnCwoKo5aW++fn3s3NJCIiHhsbqZycLysrCwoKX1hYs6WlDg0NfnR0hnt7DQwMSEJC0L+/LysrCwoKX1hYmIyMcGdn++fn++fn++fn++fn++fn++fn++fn++fn++fn++fn++fn++fn++fn++fn++fn++fn++fn++fn++fn++fn++fn++fn++fn++fn++fn++fn++fn++fn++fn++fn++fn++fn++fn++fn++fn++fn++fn++fn++fn++fn++fn++fn++fn++fn++fn++fn++fn++fn++fn++fn++fn++fn++fn++fn++fn++fn++fn++fn++fn++fn++fn++fn++fn++fn++fn++fn++fn++fn++fn++fn++fn++fn++fn++fn++fn++fn++fn++fn++fn++fn++fn++fn++fn++fn++fn++fn++fn++fn++fn++fn++fn++fn++fn++fn++fn++fn++fn++fn++fn++fn++fn++fn++fn++fn++fn++fn++fn++fn++fn++fn++fn++fn++fn++fn++fn++fn++fn++fn++fn++fn++fn++fn++fn++fn++fn++fn++fn++fn++fn++fn++fn++fn++fn++fn++fn++fn++fn++fn++fn++fn++fn++fn++fn++fn++fn++fn++fn++fn++fn++fn++fn++fn++fn++fn++fn++fn++fn++fn++fn++fn++fn++fn++fn++fn++fn++fn++fn++fn++fn++fn++fn++fn++fn++fn++fn++fn++fn++fn++fn++fn++fn++fn++fn++fn++fn++fn++fn++fn++fn++fn++fn++fn++fn++fn++fn++fn++fn++fn++fn++fn++fn++fn++fn++fn++fn++fn++fn++fn++fn++fn++fn++fn++fn++fn++fn++fn++fn++fn++fn++fn++fn++fn++fn++fn++fn++fn++fn++fn++fn++fn++fn++fn++fn++fn++fn++fn++fn++fn++fn++fn++fn++fn++fn++fn++fn++fn++fn++fn++fn++fn++fn++fn++fn++fn++fn++fn++fn++fn++fn++fn++fn++fn++fn++fn++fn++fn++fn++fn++fn++fn++fn++fn++fn++fn++fn++fn++fn++fn++fn++fn++fn++fn++fn++fn++fn++fn++fn++fn++fn++fn++fn++fn++fn++fn++fn++fn++fn++fn++fn++fn++fn++fn++fn++fn++fn++fn++fn++fn++fn++fn++fn++fn++fn++fn++fn++fn++fn++fn++fn++fn++fn++fn++fn++fn++fn++fn++fn++fn++fn++fn++fn++fn++fn++fn++fn++fn++fn++fn++fn++fn++fn++fn++fn++fn++fn++fn++fn++fn++fn++fn++fn++fn++fn++fn++fn++fn++fn++fn++fn++fn++fn++fn++fn++fn++fn++fn++fn++fn++fn++fn++fn++fn++fn++fn++fn++fn++fn++fn++fn++fn++fn++fn++fn++fn++fn++fn++fn++fn++fn++fn++fn++fn++fn++fn++fn++fn++fn++fn++fn++fn++fn++fn++fn++fn++fn++fn++fn++fn++fn++fn++fn++fn++fn++fn++fn++fn++fn++fn++fn++fn++fn++fn++fn++fn++fn++fn++fn++fn++fn++fn++fn++fn++fn++fn++fn++fn++fn++fn++fn++fn++fn++fn++fn++fn++fn++fn++fn++fn++fn++fn++fn++fn++fn++fn++fn++fn++fn++fn++fn++fn++fn++fn++fn++fn++fn++fn++fn++fn++fn++fn++fn++fn++fn++fn++fn++fn++fn++fn++fn++fn++fn++fn++fn++fn++fn++fn++fn++fn++fn++fn++fn++fn++fn++fn++fn++fn++fn++fn++fn++fn++fn++fn++fn++fn++fn++fn++fn++fn++fn++fn++fn++fn++fn++fn++fn++fn++fn++fn++fn++fn++fn++fn++fn++fn++fn++fn++fn++fn++fn++fn++fn++fn++fn++fn++fn++fn++fn++fn++fn++fn++fn++fn++fn++fn++fn++fn++fn++fn++fn++fn++fn++fn++fn++fn++fn++fn++fn++fn++fn++fn++fn++fn++fn++fn++fn++fn++fn++fn++fn++fn++fn++fn++fn++fn++fn++fn++fn++fn++fn++fn++fn++fn++fn++fn++fn++fn++fn++fn++fn++fn++fn++fn++fn++fn++fn++fn++fn++fn++fn++fn++fn++fn++fn++fn++fn++fn++fn++fn++fn++fn++fn++fn++fn++fn++fn++fn++fn++fn++fn++fn++fn++fn++fn++fn++fn++fn++fn++fn++fn++fn++fn++fn++fn++fn++fn++fn++fn++fn++fn++fn++fn++fn++fn++fn++fn++fn++fn++fn++fn++fn++fn++fn++fn++fn++fn++fn++fn++fn++fn++fn++fn++fn++fn++fn++fn++fn++fn++fn++fn++fn++fn++fn++fn++fn++fn++fn++fn++fn++fn++fn++fn++fn++fn++fn++fn++fn++fn++fn++fn++fn++fn++fn++fn++fn++fn++fn++fn++fn++fn++fn++fn++fn++fn++fn++fn++fn++fn++fn++fn++fn++fn++fn++fn++fn++fn++fn++fn++fn++fn++fn++fn++fn++fn++fn++fn++fn++fn++fn++fn++fn++fn++fn++fn++fn++fn++fn++fn++fn++fn++fn++fn++fn++fn++fn++fn++fn++fn++fn++fn++fn++fn++fn++fn++fn++fn++fn++fn++fn++fn++fn++fn++fn++fn++fn++fn++fn++fn++fn++fn++fn++fn++fn++fn++fn++fn++fn++fn++fn++fn++fn++fn++fn++fn++fn++fn++fn++fn++fn++fn++fn++fn++fn++fn++fn++fn++fn++fn++fn++fn++fn++fn++fn++fn++fn++fn++fn++fn++fn++fn++fn++fn++fn++fn++fn++fn++fn++fn++fn++fn++fn++fn++fn++fn++fn++fn++fn++fn++fn++fn++fn++fn++fn++fn++fn++fn++fn++fn++fn++fn++fn++fn++fn++fn++fn++fn++fn++fn++fn++fn++fn++fn++fn++fn++fn++fn++fn++fn++fn++fn++fn++fn++fn++fn++fn++fn++fn++fn++fn++fn++fn++fn++fn++fn++fn++fn++fn++fn++fn++fn++fn++fn++fn++fn++fn++fn++fn++fn++fn++fn++fn++fn++fn++fn++fn++fn++fn++fn++fn++fn++fn++fn++fn++fn++fn++fn++fn++fn++fn++fn++fn++fn++fn++fn++fn++fn++fn++fn++fn++fn++fn++fn++fn++fn++fn++fn++fn++fn++fn++fn++fn++fn++fn++fn++fn++fn++fn++fn++fn++fn++fn++fn++fn++fn++fn++fn++fn++fn++fn++fn++fn++fn++fn++fn++fn++fn++fn++fn++fn++fn++fn++fn++fn++fn++fn++fn++fn++fn++fn++fn++fn++fn++fn++fn++fn++fn++fn++fn++fn++fn++fn++fn++fn++fn++fn++fn++fn++fn++fn++fn++fn++fn++fn++fn++fn++fn++fn++fn++fn++fn++fn++fn++fn++fn++fn++fn++fn++fn++fn++fn++fn++fn++fn++fn++fn++fn++fn++fn++fn++fn++fn++fn++fn++fn++fn++fn++fn++fn++fn++fn++fn++fn++fn++fn++fn++fn++fn++fn++fn++fn++fn++fn++fn++fn++fn++fn++fn++fn++fn++fn++fn++fn++fn++fn++fn++fn++fn++fn++fn++fn++fn++fn++fn++fn++fn++fn++fn++fn++fn++fn++fn++fn++fn++fn++fn++fn++fn++fn++fn++fn++fn++fn++fn++fn++fn++fn++fn++fn++fn++fn++fn++fn++fn++fn++fn++fn++fn++fn++fn++fn++fn++fn++fn++fn++fn++fn++fn++fn++fn++fn++fn++fn++fn++fn++fn++fn++fn++fn++fn++fn++fn++fn++fn++fn++fn++fn++fn++fn++fn++fn++fn++fn++fn++fn++fn++fn++fn++fn++fn++fn++fn++fn++fn++fn++fn++fn++fn++fn++fn++fn++fn++fn++fn++fn++fn++fn++fn++fn++fn++fn++fn++fn++fn++fn++fn++fn++fn++fn++fn++fn++fn++fn++fn++fn++fn++fn++fn++fn++fn++fn++fn++fn++fn++fn++fn++fn++fn++fn++fn++fn++fn++fn++fn++fn++fn++fn++fn++fn++fn++fn++fn++fn++fn++fn++fn++fn++fn++fn++fn++fn++fn++fn++fn++fn++fn++fn++fn++fn++fn++fn++fn++fn++fn++fn++fn++fn++fn++fn++fn++fn++fn++fn++fn++fn++fn++fn++fn++fn++fn++fn++fn++fn++fn++fn++fn++fn++fn++fn++fn++fn++fn++fn++fn++fn++fn++fn++fn++fn++fn++fn++fn++fn++fn++fn++fn++fn++fn++fn++fn++fn++fn++fn++fn++fn++fn++fn++fn++fn++fn++fn++fn++fn++fn++fn++fn++fn++fn++fn++fn++fn++fn++fn++fn++fn++fn++fn++fn++fn++fn++fn++fn++fn++fn++fn++fn++fn++fn++fn++fn++fn++fn++fn++fn++fn++fn++fn++fn++fn++fn++fn++fn++fn++fn++fn++fn++fn++fn++fn++fn++fn++fn++fn++fn++fn++fn++fn++fn++fn++fn++fn++fn++fn++fn++fn++fn++fn++fn++fn++fn++fn++fn++fn++fn++fn++fn++fn++fn++fn++fn++fn++fn++fn++fn++fn++fn++fn++fn++fn++fn++fn++fn++fn++fn++fn++fn++fn++fn++fn++fn++fn++fn++fn++fn++fn++fn++fn++fn++fn++fn++fn++fn++fn++fn++fn++fn++fn++fn++fn++fn++fn++fn++fn++fn++fn++fn++fn++fn++fn++fn++fn++fn++fn++fn++fn++fn++fn++fn++fn++fn++fn++fn++fn++fn++fn++fn++fn++fn++fn++fn++fn++fn++fn++fn++fn++fn++fn++fn++fn++fn++fn++fn++fn++fn++fn++fn++fn++fn++fn++fn++fn++fn++fn++fn++fn++fn++fn++fn++fn++fn++fn++fn++fn++fn++fn++fn++fn++fn++fn++fn++fn++fn++fn++fn++fn++fn++fn++fn++fn++fn++fn++fn++fn++fn++fn++fn++fn++fn++fn++fn++fn++fn++fn++fn++fn++fn++fn++fn++fn++fn++fn++fn++fn++fn++fn++fn++fn++fn++fn++fn++fn++fn++fn++fn++fn++fn++fn++fn++fn++fn++fn++fn++fn++fn++fn++fn++fn++fn++fn++fn++fn++fn++fn++fn++fn++fn++fn++fn++fn++fn++fn++fn++fn++fn++fn++fn++fn++fn++fn++fn++fn++fn++fn++fn++fn++fn++fn++fn++fn++fn++fn++fn++fn++fn++fn++fn++fn++fn++fn++fn++fn++fn++fn++fn++fn++fn++fn++fn++fn++fn++fn++fn++fn++fn++fn++fn++fn++fn++fn++fn++fn++fn++fn++fn++fn++fn++fn++fn++fn++fn++fn++fn++fn++fn++fn++fn++fn++fn++fn++fn++fn++fn++fn++fn++fn++fn++fn++fn++fn++fn++fn++fn++fn++fn++fn++fn++fn++fn++fn++fn++fn++fn++fn++fn++fn++fn++fn++fn++fn++fn++fn++fn++fn++fn++fn++fn++fn++fn++fn++fn++fn++fn++fn++fn++fn++fn++fn++fn++fn++fn++fn++fn++fn++fn++fn++fn++fn++fn++fn++fn++fn++fn++fn++fn++fn++fn++fn++fn++fn++fn++fn++fn++fn++fn++fn++fn++fn++fn++fn++fn++fn++fn++fn++fn++fn++fn++fn++fn++fn++fn++fn++fn++fn++fn++fn++fn++fn++fn++fn++fn++fn++fn++fn++fn++fn++fn++fn++fn++fn++fn++fn++fn++fn++fn++fn++fn++fn++fn++fn++fn++fn++fn++fn++fn++fn++fn++fn++fn++fn++fn++fn++fn++fn++fn++fn++fn++fn++fn++fn++fn++fn++fn++fn++fn++fn++fn++fn++fn++fn++fn++fn++fn++fn++fn++fn++fn++fn++fn++fn++fn++fn++fn++fn++fn++fn++fn++fn++fn++fn++fn++fn++fn++fn++fn++fn++fn++fn++fn++fn++fn++fn++fn++fn++fn++fn++fn++fn++fn++fn++fn++fn++fn++fn++fn++fn++fn++fn++fn++fn++fn++fn++fn++fn++fn++fn++fn++fn++fn++fn++fn++fn++fn++fn++fn++fn++fn++fn++fn++fn++fn++fn++fn++fn++fn++fn++fn++fn++fn++fn++fn++fn++fn++fn++fn++fn++fn++fn++fn++fn++fn++fn++fn++fn++fn++fn++fn++fn++fn++fn++fn++fn++fn++fn++fn++fn++fn++fn++fn++fn++fn++fn++fn++fn++fn++fn++fn++fn++fn++fn++fn++fn++fn++fn++fn++fn++fn++fn++fn++fn++fn++fn++fn++fn++fn++fn++fn++fn++fn++fn++fn++fn++fn++fn++fn++fn++fn++fn++fn++fn++fn++fn++fn++fn++fn++fn++fn++fn++fn++fn++fn++fn++fn++fn++fn++fn++fn++fn++fn++fn++fn++fn++fn++fn++fn++fn++fn++fn++fn++fn++fn++fn++fn++fn++fn++fn++fn++fn++fn++fn++fn++fn++fn++fn++fn++fn++fn++fn++fn++fn++fn++fn++fn++fn++fn++fn++fn++fn++fn++fn++fn++fn++fn++fn++fn++fn++fn++fn++fn++fn++fn++fn++fn++fn++fn++fn++fn++fn++fn++fn++fn++fn++fn++fn++fn++fn++fn++fn++fn++fn++fn++fn++fn++fn++fn++fn++fn++fn++fn++fn++fn++fn++fn++fn++fn++fn++fn++fn++fn++fn++fn++fn++fn++fn++fn++fn++fn++fn++fn++fn++fn++fn++fn++fn++fn++fn++fn++fn++fn++fn++fn++fn++fn++fn++fn++fn++fn++fn++fn++fn++fn++fn++fn++fn++fn++fn++fn++fn++fn++fn++fn++fn++fn++fn++fn++fn++fn++fn++fn++fn++fn++fn++fn++fn++fn++fn++fn++fn++fn++fn++fn++fn++fn++fn++fn++fn++fn++fn++fn++fn++fn++fn++fn++fn++fn++fn++fn++fn++fn++fn++fn++fn++fn++fn++fn++fn++fn++fn++fn++fn++fn++fn++fn++fn++fn++fn++fn++fn++fn++fn++fn++fn++fn++fn++fn++fn++fn++fn++fn++fn++fn++fn++fn++fn++fn++fn++fn++fn++fn++fn++fn++fn++fn++fn++fn++fn++fn++fn++fn++fn++fn++fn++fn++fn++fn++fn++fn++fn++fn++fn++fn++fn++fn++fn++fn++fn++fn++fn++fn++fn++fn++fn++fn++fn++fn++fn++fn++fn++fn++fn++fn++fn++fn++fn++fn++fn++fn++fn++fn++fn++fn++fn++fn++fn++fn++fn++fn++fn++fn++fn++fn++fn++fn++fn++fn++fn++fn++fn++fn++fn++fn++fn++fn++fn++fn++fn++fn++fn++fn++fn++fn++fn++fn++fn++fn++fn++fn++fn++fn++fn++fn++fn++fn++fn++fn++fn++fn++fn++fn++fn++fn++fn++fn++fn++fn++fn++fn++fn++fn++fn++fn++fn++fn++fn++fn++fn++fn++fn++fn++fn++fn++fn++fn++fn++fn++fn++fn++fn++fn++fn++fn++fn++fn++fn++fn++fn++fn++fn++fn++fn++fn++fn++fn++fn++fn++fn++fn++fn++fn++fn++fn++fn++fn++fn++fn++fn++fn++fn++fn++fn++fn++fn++fn++fn++fn++fn++fn++fn++fn++fn++fn++fn++fn++fn++fn++fn++fn++fn++fn++fn++fn/Ofn/Ofn/Ofn/Ofn/Ofn/Ofn/Ofn/Ofn/Ofn/Ofn/Ofn/Ofn/Ofn/Ofn/Ofn/Ofn/Ofn/Ofn/Ofn/Ofn/Ofn/Ofn/Ofn/Ofn/Ofn/Ofn/Ofn/Ofn/Ofn/Ofn/Ofn/Ofn/Ofn/Ofn/Ofn/Ofn/Ofn/Ofn/Ofn/Ofn/Ofn/Ofn/Ofn/Ofn/Ofn/Ofn/Ofn/Ofn/Ofn/Ofn/Ofn/Ofn/Ofn/Ofn/Ofn/Ofn/Ofn/Ofn/Ofn/Ofn/Ofn/Ofn/Ofn/Ofn/Ofn/Ofn/Ofn/Ofn/Ofn/Ofn/Ofn/Ofn/Ofn/Ofn/Ofn/Ofn/Ofn/Ofn/Ofn/Ofn/Ofn/Ofn/Ofn/Ofn/Ofn/Ofn/Ofn/Ofn/Ofn/Ofn/Ofn/Ofn/Ofn/Ofn/Ofn/Ofn/Ofn/Ofn/Ofn/Ofn/Ofn/Ofn/Ofn/Ofn/Ofn/Ofn/Ofn/Ofn/Ofn/Ofn/Ofn/Ofn/Ofn/Ofn/Ofn/Ofn/Ofn/Ofn/Ofn/Ofn/Ofn/Ofn/Ofn/Ofn/Ofn/Ofn/Ofn/Ofn/Ofn/Ofn/Ofn/Ofn/Ofn/Ofn/Ofn/Ofn/Ofn/Ofn/Ofn/Ofn/Ofn/Ofn/Ofn/Ofn/Ofn/Ofn/Ofn/Ofn/Ofn/Ofn/Ofn/Ofn/Ofn/Ofn/Ofn/Ofn/Ofn/Ofn/Ofn/Ofn/Ofn/Ofn/Ofn/Ofn/Ofn/Ofn/Ofn/Ofn/Ofn/Ofn/Ofn/Ofn/Ofn/Ofn/Ofn/Ofn/Ofn/Ofn/Ofn/Ofn/Ofn/Ofn/Ofn/Ofn/Ofn/Ofn/Ofn/Ofn/Ofn/Ofn/Ofn/Ofn/Ofn/Ofn/Ofn/Ofn/Ofn/Ofn/Ofn/Ofn/Ofn/Ofn/Ofn/Ofn/Ofn/Ofn/Ofn/Ofn/Ofn/Ofn/Ofn/Ofn/Ofn/Ofn/Ofn/Ofn/Ofn/Ofn/Ofn/Ofn/Ofn/Ofn/Ofn/Ofn/Ofn/Ofn/Ofn/Ofn/Ofn/Ofn/Ofn/Ofn/Ofn/Ofn/Ofn/Ofn/Ofn/Ofn/Ofn/Ofn',\n",
       " 'signature': ''}"
      ]
     },
     "execution_count": 137,
     "metadata": {},
     "output_type": "execute_result"
    }
   ],
   "source": [
    "filtered_data[\"passport\"]"
   ]
  },
  {
   "cell_type": "code",
   "execution_count": null,
   "metadata": {},
   "outputs": [],
   "source": [
    "from jb_onboarding.preprocessing import transform_profile, extract_employment_history_manual\n",
    "\n",
    "filtered_data[\"profile\"] = transform_profile(client_data[\"profile\"])"
   ]
  },
  {
   "cell_type": "code",
   "execution_count": null,
   "metadata": {},
   "outputs": [
    {
     "data": {
      "text/plain": [
       "True"
      ]
     },
     "execution_count": 135,
     "metadata": {},
     "output_type": "execute_result"
    }
   ],
   "source": [
    "from jb_onboarding.checks.check_occupation_history import employment_is_consistent\n",
    "\n",
    "employment_is_consistent(filtered_data)"
   ]
  },
  {
   "cell_type": "code",
   "execution_count": null,
   "metadata": {},
   "outputs": [],
   "source": []
  },
  {
   "cell_type": "code",
   "execution_count": 120,
   "metadata": {},
   "outputs": [
    {
     "data": {
      "text/plain": [
       "[{'status': 'employee',\n",
       "  'since': 2015,\n",
       "  'previous_profession': '',\n",
       "  'company': 'rag rohol-aufsuchungs ag'},\n",
       " {'status': 'self-employed',\n",
       "  'since': None,\n",
       "  'previous_profession': '',\n",
       "  'company': ''},\n",
       " {'status': 'currently not employed',\n",
       "  'since': None,\n",
       "  'previous_profession': '',\n",
       "  'company': ''},\n",
       " {'status': 'retired',\n",
       "  'since': None,\n",
       "  'previous_profession': '',\n",
       "  'company': ''},\n",
       " {'status': 'homemaker/housewife',\n",
       "  'since': None,\n",
       "  'previous_profession': '',\n",
       "  'company': ''},\n",
       " {'status': 'student',\n",
       "  'since': None,\n",
       "  'previous_profession': '',\n",
       "  'company': ''},\n",
       " {'status': 'diplomat',\n",
       "  'since': None,\n",
       "  'previous_profession': '',\n",
       "  'company': ''},\n",
       " {'status': 'military representative',\n",
       "  'since': None,\n",
       "  'previous_profession': '',\n",
       "  'company': ''},\n",
       " {'status': 'other', 'since': None, 'previous_profession': '', 'company': ''}]"
      ]
     },
     "execution_count": 120,
     "metadata": {},
     "output_type": "execute_result"
    }
   ],
   "source": [
    "extract_employment_history_manual(\n",
    "    client_data[\"profile\"][\"Account Holder – Professional and Economic Background – Business\"]\n",
    ")"
   ]
  },
  {
   "cell_type": "code",
   "execution_count": null,
   "metadata": {},
   "outputs": [
    {
     "data": {
      "text/plain": [
       "{'status': 'retired', 'since': 2017, 'previous_profession': 'fund manager'}"
      ]
     },
     "execution_count": 89,
     "metadata": {},
     "output_type": "execute_result"
    }
   ],
   "source": [
    "filtered_data[\"profile\"][\"employment_background\"]"
   ]
  },
  {
   "cell_type": "code",
   "execution_count": null,
   "metadata": {},
   "outputs": [],
   "source": []
  },
  {
   "cell_type": "code",
   "execution_count": 45,
   "metadata": {},
   "outputs": [
    {
     "data": {
      "text/plain": [
       "{'Communication Medium': 'Telephone +358 042 161 84 72',\n",
       " None: 'E-Mail andrea.fernandez@finet.fi'}"
      ]
     },
     "execution_count": 45,
     "metadata": {},
     "output_type": "execute_result"
    }
   ],
   "source": [
    "transform_data(filtered_data[\"profile\"])[\"Account Holder – Contact Management and Services – Contact Info\"]"
   ]
  },
  {
   "cell_type": "code",
   "execution_count": null,
   "metadata": {},
   "outputs": [
    {
     "name": "stdout",
     "output_type": "stream",
     "text": [
      "{'Telephone': '+358 042 161 84 72', 'E-mail': 'andrea.fernandez@finet.fi'}\n"
     ]
    }
   ],
   "source": [
    "# Example dictionary\n",
    "contact_info = {\"Communication Medium\": \"Telephone +358 042 161 84 72\", None: \"E-Mail andrea.fernandez@finet.fi\"}\n",
    "\n",
    "# Extract the new fields\n",
    "new_contact_fields = extract_contact_methods(\n",
    "    transform_data(filtered_data[\"profile\"])[\"Account Holder – Contact Management and Services – Contact Info\"]\n",
    ")\n",
    "print(new_contact_fields)\n"
   ]
  },
  {
   "cell_type": "code",
   "execution_count": null,
   "metadata": {},
   "outputs": [
    {
     "data": {
      "text/plain": [
       "{'Default': {},\n",
       " 'Client Information': {'Last Name': 'Fernández',\n",
       "  'First/ Middle Name (s)': 'Andrea Concha',\n",
       "  'Address': 'Telakkakatu 86, 28606 Porvoo',\n",
       "  'Country of Domicile': 'Finland',\n",
       "  'Date of birth': '1956-07-18',\n",
       "  'Nationality': 'Spanish',\n",
       "  'Passport No/ Unique ID': 'JZ4727152',\n",
       "  'ID Type': 'passport',\n",
       "  'ID Issue Date': '2021-02-04',\n",
       "  'ID Expiry Date': '2031-02-03',\n",
       "  'Gender': {'options': ['Female', 'Male'], 'selected': ['Female']}},\n",
       " 'Account Holder – Contact Management and Services – Contact Info': {'Communication Medium': 'Telephone +358 042 161 84 72',\n",
       "  None: 'E-Mail andrea.fernandez@finet.fi'},\n",
       " 'Account Holder – Personal Info': {'Is the client or associated person a Politically Exposed Person as defined in the Client Acceptance Policy?': [{'options': ['No',\n",
       "     'Yes'],\n",
       "    'selected': ['No']},\n",
       "   'If ‘Yes’, please complete the Approval Form (PEP) and ensure that appropriate approvals are obtained'],\n",
       "  'Marital Status': [{'options': ['Divorced', 'Married', 'Single', 'Widowed'],\n",
       "    'selected': ['Married']},\n",
       "   'Fill out in case of a private individual'],\n",
       "  'Highest education attained': 'Tertiary',\n",
       "  'Education History': 'Universidad Comercial de Deusto (1980)'},\n",
       " 'Account Holder – Professional and Economic Background – Business': {'Current employment and function': [{'options': ['Employee Since'],\n",
       "    'selected': []},\n",
       "   'Name Employer',\n",
       "   ['Position', 'including annual income and namecard'],\n",
       "   {'options': ['Self-Employed Since'], 'selected': []},\n",
       "   'Company Name',\n",
       "   '% of ownership'],\n",
       "  None: [{'options': ['Currently not employed Since'], 'selected': []},\n",
       "   'Previous Profession:',\n",
       "   {'options': ['Retired Since 2017'], 'selected': ['Retired Since 2017']},\n",
       "   'Previous Profession: Fund Manager',\n",
       "   {'options': ['Homemaker/housewife Since'], 'selected': []},\n",
       "   'Previous Profession:',\n",
       "   {'options': ['Student Since Country of study:'], 'selected': []},\n",
       "   'Previous Profession:',\n",
       "   {'options': ['Diplomat Since Home country of diplomatic mission:'],\n",
       "    'selected': []},\n",
       "   'Previous Profession:',\n",
       "   {'options': ['Military representative Since Home country of military establishment:'],\n",
       "    'selected': []},\n",
       "   'Previous Profession:',\n",
       "   {'options': ['Other Since'], 'selected': []},\n",
       "   'Previous Profession:',\n",
       "   {'options': ['Unknown'], 'selected': []}]},\n",
       " 'Account Holder – Professional and Economic Background – Wealth': {'Total wealth estimated': [{'options': ['< EUR 1.5m',\n",
       "     'EUR 1.5m-5m',\n",
       "     'EUR 5m-10m',\n",
       "     'EUR 10m.-20m',\n",
       "     'EUR 20m.-50m',\n",
       "     '> EUR 50m'],\n",
       "    'selected': ['EUR 1.5m-5m']},\n",
       "   'Origin of wealth: - Profit from business/ professional income - Inheritance (describe the relationship, the year in which assets were inherited and a brief description of business/ professional activities of the person whom client has inherited assets from) - Others (e.g. sale of assets – to provide material evidence on the transaction)'],\n",
       "  'Source of information': 'Origin of wealth: - Profit from business/ professional income - Inheritance (describe the relationship, the year in which assets were inherited and a brief description of business/ professional activities of the person whom client has inherited assets from) - Others (e.g. sale of assets – to provide material evidence on the transaction)',\n",
       "  'Origin of wealth ☒ Employment ☐ Inheritance ☐ Business ☐ Investments ☐ Sale of real estate ☐ Retirement package ☐ Other': ['Origin of wealth: - Profit from business/ professional income - Inheritance (describe the relationship, the year in which assets were inherited and a brief description of business/ professional activities of the person whom client has inherited assets from) - Others (e.g. sale of assets – to provide material evidence on the transaction)',\n",
       "   'Origin of wealth: - Profit from business/ professional income - Inheritance (describe the relationship, the year in which assets were inherited and a brief description of business/ professional activities of the person whom client has inherited assets from) - Others (e.g. sale of assets – to provide material evidence on the transaction)',\n",
       "   'Origin of wealth: - Profit from business/ professional income - Inheritance (describe the relationship, the year in which assets were inherited and a brief description of business/ professional activities of the person whom client has inherited assets from) - Others (e.g. sale of assets – to provide material evidence on the transaction)',\n",
       "   'Origin of wealth: - Profit from business/ professional income - Inheritance (describe the relationship, the year in which assets were inherited and a brief description of business/ professional activities of the person whom client has inherited assets from) - Others (e.g. sale of assets – to provide material evidence on the transaction)'],\n",
       "  'Estimated Assets': [{'options': ['Real Estate EUR 2281000',\n",
       "     'Business EUR 1860000',\n",
       "     'Investments EUR 0',\n",
       "     'Deposits/ MM/ Fiduciary EUR 0',\n",
       "     'Equity EUR 0',\n",
       "     'Fixed Income EUR 0',\n",
       "     'Structured Products EUR 0',\n",
       "     'Alternative Investments EUR 0',\n",
       "     'Investment Funds EUR 0',\n",
       "     'Insurance EUR 0',\n",
       "     'Other investments (e.g., art, wine, cars) EUR 0'],\n",
       "    'selected': ['Real Estate EUR 2281000', 'Business EUR 1860000']},\n",
       "   'Origin of wealth: - Profit from business/ professional income - Inheritance (describe the relationship, the year in which assets were inherited and a brief description of business/ professional activities of the person whom client has inherited assets from) - Others (e.g. sale of assets – to provide material evidence on the transaction)']},\n",
       " 'Account Holder – Professional and Economic Background – Income, Expenditures and Savings': {'Estimated Total income p.a.': [{'options': ['< EUR 250,000',\n",
       "     'EUR 250,000 - 500,000',\n",
       "     'EUR 500,000 – 1m',\n",
       "     '> EUR 1m, please state 1083000'],\n",
       "    'selected': ['> EUR 1m, please state 1083000']},\n",
       "   'including dividends, interests and investment income'],\n",
       "  'Country of main source of income': 'Finland'},\n",
       " 'Account Information': {'Commercial Account': {'options': ['Yes', 'No'],\n",
       "   'selected': ['No']},\n",
       "  'Investment Risk Profile': {'options': ['Low',\n",
       "    'Moderate',\n",
       "    'Considerable',\n",
       "    'High'],\n",
       "   'selected': ['Moderate']},\n",
       "  'Type of Mandate': {'options': ['Advisory', 'Discretionary'],\n",
       "   'selected': ['Advisory']},\n",
       "  'Investment Experience': {'options': ['Inexperienced',\n",
       "    'Experienced',\n",
       "    'Expert'],\n",
       "   'selected': ['Expert']},\n",
       "  'Investment Horizon': {'options': ['Short', 'Medium', 'Long-Term'],\n",
       "   'selected': ['Medium']},\n",
       "  'Preferred Markets': 'Spain, Finland'},\n",
       " 'Account Information – Asset Under Management': {'Total Asset Under Management': '4141000',\n",
       "  'Asset Under Management to transfer to BJB': '2898700'}}"
      ]
     },
     "execution_count": 66,
     "metadata": {},
     "output_type": "execute_result"
    }
   ],
   "source": [
    "filtered_data[\"profile\"]"
   ]
  },
  {
   "cell_type": "code",
   "execution_count": 69,
   "metadata": {},
   "outputs": [
    {
     "name": "stdout",
     "output_type": "stream",
     "text": [
      "Declared age: 68\n",
      "Calculated age: 68\n"
     ]
    },
    {
     "data": {
      "text/plain": [
       "True"
      ]
     },
     "execution_count": 69,
     "metadata": {},
     "output_type": "execute_result"
    }
   ],
   "source": [
    "age_is_consistent(filtered_data)\n"
   ]
  },
  {
   "cell_type": "code",
   "execution_count": 74,
   "metadata": {},
   "outputs": [
    {
     "data": {
      "text/plain": [
       "True"
      ]
     },
     "execution_count": 74,
     "metadata": {},
     "output_type": "execute_result"
    }
   ],
   "source": [
    "education_is_consistent(filtered_data)"
   ]
  },
  {
   "cell_type": "code",
   "execution_count": null,
   "metadata": {},
   "outputs": [
    {
     "data": {
      "text/plain": [
       "{'name': 'Andrea Concha Fernández',\n",
       " 'address': {'city': 'Porvoo',\n",
       "  'street name': 'Telakkakatu',\n",
       "  'street number': '86',\n",
       "  'postal code': '28606'},\n",
       " 'country_of_domicile': 'Finland',\n",
       " 'birth_date': '1956-07-18',\n",
       " 'nationality': 'Spanish',\n",
       " 'passport_number': 'JZ4727152',\n",
       " 'passport_issue_date': '2021-02-04',\n",
       " 'passport_expiry_date': '2031-02-03',\n",
       " 'gender': 'F',\n",
       " 'phone_number': '+358 042 161 84 72',\n",
       " 'email_address': 'andrea.fernandez@finet.fi',\n",
       " 'marital_status': 'Married',\n",
       " 'secondary_school': {'name': 'Universidad Comercial de Deusto',\n",
       "  'graduation_year': 1980},\n",
       " 'higher_education': [],\n",
       " 'employment_background': {'status': 'retired',\n",
       "  'since': 2017,\n",
       "  'previous_profession': 'fund manager'},\n",
       " 'aum': {'savings': 4141000.0},\n",
       " 'inheritance_details': {},\n",
       " 'real_estate_details': [],\n",
       " 'investment_risk_profile': 'Moderate',\n",
       " 'investment_horizon': 'Medium',\n",
       " 'investment_experience': 'Expert',\n",
       " 'type_of_mandate': 'Advisory',\n",
       " 'preferred_markets': ['Spain', 'Finland'],\n",
       " 'currency': '',\n",
       " 'wealth': 'EUR 1.5m-5m',\n",
       " 'assets': ['Real Estate EUR 2281000', 'Business EUR 1860000'],\n",
       " 'origins of wealth': ['employment']}"
      ]
     },
     "execution_count": 81,
     "metadata": {},
     "output_type": "execute_result"
    }
   ],
   "source": [
    "filtered_data[\"profile\"]"
   ]
  },
  {
   "cell_type": "code",
   "execution_count": null,
   "metadata": {},
   "outputs": [
    {
     "data": {
      "text/plain": [
       "'Andrea graduated from Instituto de Bachillerato Artístico IES Reina Sofia Tenerife in 1976.\\nIn 1980, Andrea graduated from Universidad Comercial de Deusto with a degree.'"
      ]
     },
     "execution_count": 80,
     "metadata": {},
     "output_type": "execute_result"
    }
   ],
   "source": [
    "filtered_data[\"description\"][\"Education Background\"]"
   ]
  },
  {
   "cell_type": "code",
   "execution_count": null,
   "metadata": {},
   "outputs": [
    {
     "data": {
      "text/plain": [
       "True"
      ]
     },
     "execution_count": 82,
     "metadata": {},
     "output_type": "execute_result"
    }
   ],
   "source": [
    "family_background_is_consistent(description=filtered_data[\"description\"], profile=filtered_data[\"profile\"])"
   ]
  },
  {
   "cell_type": "code",
   "execution_count": null,
   "metadata": {},
   "outputs": [
    {
     "data": {
      "text/plain": [
       "'Andrea Concha Fernández and Javier have been married since 1988. They are proud parents of 1 child: Andrea.'"
      ]
     },
     "execution_count": 84,
     "metadata": {},
     "output_type": "execute_result"
    }
   ],
   "source": [
    "filtered_data[\"description\"][\"Family Background\"]"
   ]
  },
  {
   "cell_type": "code",
   "execution_count": null,
   "metadata": {},
   "outputs": [
    {
     "data": {
      "text/plain": [
       "'Married'"
      ]
     },
     "execution_count": 86,
     "metadata": {},
     "output_type": "execute_result"
    }
   ],
   "source": [
    "filtered_data[\"profile\"][\"marital_status\"]"
   ]
  },
  {
   "cell_type": "code",
   "execution_count": null,
   "metadata": {},
   "outputs": [
    {
     "data": {
      "text/plain": [
       "False"
      ]
     },
     "execution_count": 90,
     "metadata": {},
     "output_type": "execute_result"
    }
   ],
   "source": [
    "passport_is_consistent()"
   ]
  },
  {
   "cell_type": "code",
   "execution_count": null,
   "metadata": {},
   "outputs": [],
   "source": []
  }
 ],
 "metadata": {
  "kernelspec": {
   "display_name": ".venv",
   "language": "python",
   "name": "python3"
  },
  "language_info": {
   "codemirror_mode": {
    "name": "ipython",
    "version": 3
   },
   "file_extension": ".py",
   "mimetype": "text/x-python",
   "name": "python",
   "nbconvert_exporter": "python",
   "pygments_lexer": "ipython3",
   "version": "3.10.15"
  }
 },
 "nbformat": 4,
 "nbformat_minor": 2
}
